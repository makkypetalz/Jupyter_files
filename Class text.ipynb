{
 "cells": [
  {
   "cell_type": "markdown",
   "id": "1f0e2289",
   "metadata": {},
   "source": [
    "# CLASS EXERCISE"
   ]
  },
  {
   "cell_type": "code",
   "execution_count": null,
   "id": "78ded9cb",
   "metadata": {},
   "outputs": [],
   "source": [
    "# Create the list of 10 items"
   ]
  },
  {
   "cell_type": "code",
   "execution_count": 21,
   "id": "92d831c7",
   "metadata": {},
   "outputs": [],
   "source": [
    "mum = [2,4,6,8,10,12,14,16,18,20]"
   ]
  },
  {
   "cell_type": "code",
   "execution_count": 22,
   "id": "89e9187f",
   "metadata": {},
   "outputs": [
    {
     "name": "stdout",
     "output_type": "stream",
     "text": [
      "10\n"
     ]
    }
   ],
   "source": [
    "print(len(mum))"
   ]
  },
  {
   "cell_type": "code",
   "execution_count": 23,
   "id": "af74c86e",
   "metadata": {},
   "outputs": [
    {
     "name": "stdout",
     "output_type": "stream",
     "text": [
      "[2, 4, 6, 8, 10, 12, 14, 16, 18, 20]\n"
     ]
    }
   ],
   "source": [
    "print(mum)"
   ]
  },
  {
   "cell_type": "code",
   "execution_count": 24,
   "id": "62b46bc2",
   "metadata": {},
   "outputs": [],
   "source": [
    "# Replacing the first 4 items"
   ]
  },
  {
   "cell_type": "code",
   "execution_count": 25,
   "id": "20ddfdcb",
   "metadata": {},
   "outputs": [],
   "source": [
    "mum[:4] = [\"amaka\", \"ebube\", \"dera\", \"joy\"]"
   ]
  },
  {
   "cell_type": "code",
   "execution_count": 27,
   "id": "de88f76c",
   "metadata": {},
   "outputs": [
    {
     "name": "stdout",
     "output_type": "stream",
     "text": [
      "['amaka', 'ebube', 'dera', 'joy', 10, 12, 14, 16, 18, 20]\n"
     ]
    }
   ],
   "source": [
    "print(mum)"
   ]
  },
  {
   "cell_type": "code",
   "execution_count": 28,
   "id": "c9511b43",
   "metadata": {},
   "outputs": [],
   "source": [
    "# Inserting a new item at index number 8"
   ]
  },
  {
   "cell_type": "code",
   "execution_count": 29,
   "id": "05cd6256",
   "metadata": {},
   "outputs": [],
   "source": [
    "mum.insert(8, \"muna\")"
   ]
  },
  {
   "cell_type": "code",
   "execution_count": 31,
   "id": "a901f250",
   "metadata": {},
   "outputs": [
    {
     "name": "stdout",
     "output_type": "stream",
     "text": [
      "['amaka', 'ebube', 'dera', 'joy', 10, 12, 14, 16, 'muna', 18, 20]\n"
     ]
    }
   ],
   "source": [
    "print(mum)"
   ]
  },
  {
   "cell_type": "code",
   "execution_count": 32,
   "id": "e7d6a11a",
   "metadata": {},
   "outputs": [],
   "source": [
    "# Adding a new item at the end of the list"
   ]
  },
  {
   "cell_type": "code",
   "execution_count": 34,
   "id": "8c5e6509",
   "metadata": {},
   "outputs": [],
   "source": [
    "mum.append(\"you\")"
   ]
  },
  {
   "cell_type": "code",
   "execution_count": 35,
   "id": "1f5b5cf2",
   "metadata": {},
   "outputs": [
    {
     "name": "stdout",
     "output_type": "stream",
     "text": [
      "['amaka', 'ebube', 'dera', 'joy', 10, 12, 14, 16, 'muna', 18, 20, 'you']\n"
     ]
    }
   ],
   "source": [
    "print(mum)"
   ]
  },
  {
   "cell_type": "code",
   "execution_count": 36,
   "id": "b10ce58d",
   "metadata": {},
   "outputs": [],
   "source": [
    "# Removing two items in a list\n",
    "#first way to do that is by using the del keyword, if the items we want to remove are next to each other\n"
   ]
  },
  {
   "cell_type": "code",
   "execution_count": 37,
   "id": "4ec9ff3e",
   "metadata": {},
   "outputs": [],
   "source": [
    "del mum[4:6]"
   ]
  },
  {
   "cell_type": "code",
   "execution_count": 39,
   "id": "84c1d03f",
   "metadata": {},
   "outputs": [
    {
     "name": "stdout",
     "output_type": "stream",
     "text": [
      "['amaka', 'ebube', 'dera', 'joy', 14, 16, 'muna', 18, 20, 'you']\n"
     ]
    }
   ],
   "source": [
    "print(mum)"
   ]
  },
  {
   "cell_type": "code",
   "execution_count": 40,
   "id": "155794fd",
   "metadata": {},
   "outputs": [],
   "source": [
    "#we can also remove an item by using remove() method, but this can only remove one item at a time\n"
   ]
  },
  {
   "cell_type": "code",
   "execution_count": 41,
   "id": "cdba3f6c",
   "metadata": {},
   "outputs": [],
   "source": [
    "mum .remove(\"you\")"
   ]
  },
  {
   "cell_type": "code",
   "execution_count": 43,
   "id": "28c7479d",
   "metadata": {},
   "outputs": [
    {
     "name": "stdout",
     "output_type": "stream",
     "text": [
      "['amaka', 'ebube', 'dera', 'joy', 14, 16, 'muna', 18, 20]\n"
     ]
    }
   ],
   "source": [
    "print(mum)"
   ]
  },
  {
   "cell_type": "code",
   "execution_count": 44,
   "id": "34f2dd9d",
   "metadata": {},
   "outputs": [],
   "source": [
    "mum.remove(\"ebube\")"
   ]
  },
  {
   "cell_type": "code",
   "execution_count": 46,
   "id": "63672500",
   "metadata": {},
   "outputs": [
    {
     "name": "stdout",
     "output_type": "stream",
     "text": [
      "['amaka', 'dera', 'joy', 14, 16, 'muna', 18, 20]\n"
     ]
    }
   ],
   "source": [
    "print(mum)"
   ]
  },
  {
   "cell_type": "code",
   "execution_count": 47,
   "id": "b2247f18",
   "metadata": {},
   "outputs": [],
   "source": [
    "# Removing the item sitting on the index number 2"
   ]
  },
  {
   "cell_type": "code",
   "execution_count": 49,
   "id": "afe88c21",
   "metadata": {},
   "outputs": [
    {
     "name": "stdout",
     "output_type": "stream",
     "text": [
      "['amaka', 'dera', 'joy', 14, 16, 'muna', 18, 20]\n"
     ]
    }
   ],
   "source": [
    "print(mum)"
   ]
  },
  {
   "cell_type": "code",
   "execution_count": 50,
   "id": "18f96310",
   "metadata": {},
   "outputs": [
    {
     "data": {
      "text/plain": [
       "'dera'"
      ]
     },
     "execution_count": 50,
     "metadata": {},
     "output_type": "execute_result"
    }
   ],
   "source": [
    "mum.pop(1)"
   ]
  },
  {
   "cell_type": "code",
   "execution_count": 52,
   "id": "89e08f31",
   "metadata": {},
   "outputs": [
    {
     "name": "stdout",
     "output_type": "stream",
     "text": [
      "['amaka', 'joy', 14, 16, 'muna', 18, 20]\n"
     ]
    }
   ],
   "source": [
    "print(mum)"
   ]
  },
  {
   "cell_type": "code",
   "execution_count": 53,
   "id": "7bfffe1f",
   "metadata": {},
   "outputs": [],
   "source": [
    "# removing the last item in the list"
   ]
  },
  {
   "cell_type": "code",
   "execution_count": 54,
   "id": "9ff4237a",
   "metadata": {},
   "outputs": [
    {
     "data": {
      "text/plain": [
       "20"
      ]
     },
     "execution_count": 54,
     "metadata": {},
     "output_type": "execute_result"
    }
   ],
   "source": [
    "mum.pop()"
   ]
  },
  {
   "cell_type": "code",
   "execution_count": 56,
   "id": "6377a164",
   "metadata": {},
   "outputs": [
    {
     "name": "stdout",
     "output_type": "stream",
     "text": [
      "['amaka', 'joy', 14, 16, 'muna', 18]\n"
     ]
    }
   ],
   "source": [
    "print(mum)"
   ]
  },
  {
   "cell_type": "code",
   "execution_count": 57,
   "id": "4443045a",
   "metadata": {},
   "outputs": [],
   "source": [
    "# delete the item sitting on index number 1 using del keyword"
   ]
  },
  {
   "cell_type": "code",
   "execution_count": 58,
   "id": "43919b3e",
   "metadata": {},
   "outputs": [],
   "source": [
    "del mum[1]"
   ]
  },
  {
   "cell_type": "code",
   "execution_count": 60,
   "id": "35d7f172",
   "metadata": {},
   "outputs": [
    {
     "name": "stdout",
     "output_type": "stream",
     "text": [
      "['amaka', 14, 16, 'muna', 18]\n"
     ]
    }
   ],
   "source": [
    "print(mum)"
   ]
  },
  {
   "cell_type": "code",
   "execution_count": 61,
   "id": "6b5e5b14",
   "metadata": {},
   "outputs": [],
   "source": [
    "# clear the items in the list"
   ]
  },
  {
   "cell_type": "code",
   "execution_count": 62,
   "id": "20cd9950",
   "metadata": {},
   "outputs": [],
   "source": [
    "mum.clear()"
   ]
  },
  {
   "cell_type": "code",
   "execution_count": 64,
   "id": "897f55ee",
   "metadata": {},
   "outputs": [
    {
     "name": "stdout",
     "output_type": "stream",
     "text": [
      "[]\n"
     ]
    }
   ],
   "source": [
    "print(mum)"
   ]
  },
  {
   "cell_type": "code",
   "execution_count": 65,
   "id": "a4ea8559",
   "metadata": {},
   "outputs": [],
   "source": [
    "# create another list and add the items on the new list to the first list you create"
   ]
  },
  {
   "cell_type": "code",
   "execution_count": 66,
   "id": "5732e897",
   "metadata": {},
   "outputs": [],
   "source": [
    "numb = [3,6,9,12]"
   ]
  },
  {
   "cell_type": "code",
   "execution_count": 67,
   "id": "e453930a",
   "metadata": {},
   "outputs": [],
   "source": [
    "mum.extend(numb)"
   ]
  },
  {
   "cell_type": "code",
   "execution_count": 68,
   "id": "98bb19ef",
   "metadata": {},
   "outputs": [
    {
     "name": "stdout",
     "output_type": "stream",
     "text": [
      "[3, 6, 9, 12]\n"
     ]
    }
   ],
   "source": [
    "print(mum)"
   ]
  }
 ],
 "metadata": {
  "kernelspec": {
   "display_name": "Python 3 (ipykernel)",
   "language": "python",
   "name": "python3"
  },
  "language_info": {
   "codemirror_mode": {
    "name": "ipython",
    "version": 3
   },
   "file_extension": ".py",
   "mimetype": "text/x-python",
   "name": "python",
   "nbconvert_exporter": "python",
   "pygments_lexer": "ipython3",
   "version": "3.11.5"
  }
 },
 "nbformat": 4,
 "nbformat_minor": 5
}
