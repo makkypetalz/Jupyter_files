{
 "cells": [
  {
   "cell_type": "code",
   "execution_count": 1,
   "id": "9640c45e",
   "metadata": {},
   "outputs": [],
   "source": [
    "mytuple = (45,67,True,\"house\",90.8)"
   ]
  },
  {
   "cell_type": "code",
   "execution_count": 2,
   "id": "563e3013",
   "metadata": {},
   "outputs": [],
   "source": [
    "mylist=list(mytuple)"
   ]
  },
  {
   "cell_type": "code",
   "execution_count": 3,
   "id": "33c85bf9",
   "metadata": {},
   "outputs": [
    {
     "name": "stdout",
     "output_type": "stream",
     "text": [
      "[45, 67, True, 'house', 90.8]\n"
     ]
    }
   ],
   "source": [
    "print(mylist)"
   ]
  },
  {
   "cell_type": "code",
   "execution_count": 4,
   "id": "b09d9191",
   "metadata": {},
   "outputs": [
    {
     "name": "stdout",
     "output_type": "stream",
     "text": [
      "(45, 67, True, 'house', 90.8)\n"
     ]
    }
   ],
   "source": [
    "print(mytuple)"
   ]
  },
  {
   "cell_type": "code",
   "execution_count": 5,
   "id": "b070e51b",
   "metadata": {},
   "outputs": [
    {
     "name": "stdout",
     "output_type": "stream",
     "text": [
      "[45, 67, True, 'house', 90.8]\n"
     ]
    }
   ],
   "source": [
    "print(mylist)"
   ]
  },
  {
   "cell_type": "code",
   "execution_count": 6,
   "id": "258c952c",
   "metadata": {},
   "outputs": [],
   "source": [
    "mylist[2]=False"
   ]
  },
  {
   "cell_type": "code",
   "execution_count": 7,
   "id": "4298b932",
   "metadata": {},
   "outputs": [
    {
     "name": "stdout",
     "output_type": "stream",
     "text": [
      "[45, 67, False, 'house', 90.8]\n"
     ]
    }
   ],
   "source": [
    "print(mylist)"
   ]
  },
  {
   "cell_type": "code",
   "execution_count": 8,
   "id": "69ef0e2a",
   "metadata": {},
   "outputs": [],
   "source": [
    "mylist.insert(3,\"laptop\")"
   ]
  },
  {
   "cell_type": "code",
   "execution_count": 9,
   "id": "659dcdc0",
   "metadata": {},
   "outputs": [
    {
     "name": "stdout",
     "output_type": "stream",
     "text": [
      "[45, 67, False, 'laptop', 'house', 90.8]\n"
     ]
    }
   ],
   "source": [
    "print(mylist)"
   ]
  },
  {
   "cell_type": "code",
   "execution_count": 10,
   "id": "9328ca24",
   "metadata": {},
   "outputs": [],
   "source": [
    "mylist.append(\"Anambra\")"
   ]
  },
  {
   "cell_type": "code",
   "execution_count": 11,
   "id": "f1d2be8c",
   "metadata": {},
   "outputs": [
    {
     "name": "stdout",
     "output_type": "stream",
     "text": [
      "[45, 67, False, 'laptop', 'house', 90.8, 'Anambra']\n"
     ]
    }
   ],
   "source": [
    "print(mylist)"
   ]
  },
  {
   "cell_type": "code",
   "execution_count": null,
   "id": "f31bdef1",
   "metadata": {},
   "outputs": [],
   "source": []
  },
  {
   "cell_type": "code",
   "execution_count": 12,
   "id": "bd919198",
   "metadata": {},
   "outputs": [],
   "source": [
    "mylist.remove(45)"
   ]
  },
  {
   "cell_type": "code",
   "execution_count": 13,
   "id": "f74efdfa",
   "metadata": {},
   "outputs": [
    {
     "name": "stdout",
     "output_type": "stream",
     "text": [
      "[67, False, 'laptop', 'house', 90.8, 'Anambra']\n"
     ]
    }
   ],
   "source": [
    "print(mylist)"
   ]
  },
  {
   "cell_type": "code",
   "execution_count": 14,
   "id": "acc2a71d",
   "metadata": {},
   "outputs": [
    {
     "data": {
      "text/plain": [
       "90.8"
      ]
     },
     "execution_count": 14,
     "metadata": {},
     "output_type": "execute_result"
    }
   ],
   "source": [
    "mylist.pop(4)"
   ]
  },
  {
   "cell_type": "code",
   "execution_count": 15,
   "id": "8ca79ef7",
   "metadata": {},
   "outputs": [
    {
     "name": "stdout",
     "output_type": "stream",
     "text": [
      "[67, False, 'laptop', 'house', 'Anambra']\n"
     ]
    }
   ],
   "source": [
    "print(mylist)"
   ]
  },
  {
   "cell_type": "code",
   "execution_count": 16,
   "id": "8e922af7",
   "metadata": {},
   "outputs": [
    {
     "data": {
      "text/plain": [
       "'Anambra'"
      ]
     },
     "execution_count": 16,
     "metadata": {},
     "output_type": "execute_result"
    }
   ],
   "source": [
    "mylist.pop()"
   ]
  },
  {
   "cell_type": "code",
   "execution_count": 17,
   "id": "df55b490",
   "metadata": {},
   "outputs": [
    {
     "name": "stdout",
     "output_type": "stream",
     "text": [
      "[67, False, 'laptop', 'house']\n"
     ]
    }
   ],
   "source": [
    "print(mylist)"
   ]
  },
  {
   "cell_type": "code",
   "execution_count": 18,
   "id": "0cf9d689",
   "metadata": {},
   "outputs": [],
   "source": [
    "del mylist[0]"
   ]
  },
  {
   "cell_type": "code",
   "execution_count": 19,
   "id": "c1ffcb71",
   "metadata": {},
   "outputs": [
    {
     "name": "stdout",
     "output_type": "stream",
     "text": [
      "[False, 'laptop', 'house']\n"
     ]
    }
   ],
   "source": [
    "print(mylist)"
   ]
  },
  {
   "cell_type": "code",
   "execution_count": 20,
   "id": "28bc40fe",
   "metadata": {},
   "outputs": [
    {
     "name": "stdout",
     "output_type": "stream",
     "text": [
      "(45, 67, True, 'house', 90.8)\n"
     ]
    }
   ],
   "source": [
    "print(mytuple)"
   ]
  },
  {
   "cell_type": "code",
   "execution_count": 21,
   "id": "d813f583",
   "metadata": {},
   "outputs": [],
   "source": [
    "mytuple = tuple(mylist)"
   ]
  },
  {
   "cell_type": "code",
   "execution_count": 22,
   "id": "d199d56e",
   "metadata": {},
   "outputs": [
    {
     "name": "stdout",
     "output_type": "stream",
     "text": [
      "(False, 'laptop', 'house')\n"
     ]
    }
   ],
   "source": [
    "print(mytuple)"
   ]
  },
  {
   "cell_type": "markdown",
   "id": "da505823",
   "metadata": {},
   "source": [
    "# Unpacking Tuple"
   ]
  },
  {
   "cell_type": "code",
   "execution_count": 23,
   "id": "bc2172df",
   "metadata": {},
   "outputs": [
    {
     "name": "stdout",
     "output_type": "stream",
     "text": [
      "[False, 'laptop', 'house']\n"
     ]
    }
   ],
   "source": [
    "print(mylist)"
   ]
  },
  {
   "cell_type": "code",
   "execution_count": 24,
   "id": "b5deaac2",
   "metadata": {},
   "outputs": [],
   "source": [
    "a,b,c = mylist"
   ]
  },
  {
   "cell_type": "code",
   "execution_count": 25,
   "id": "52920783",
   "metadata": {},
   "outputs": [
    {
     "name": "stdout",
     "output_type": "stream",
     "text": [
      "False\n"
     ]
    }
   ],
   "source": [
    "print(a)"
   ]
  },
  {
   "cell_type": "code",
   "execution_count": 26,
   "id": "4ac95e2d",
   "metadata": {},
   "outputs": [
    {
     "name": "stdout",
     "output_type": "stream",
     "text": [
      "laptop\n"
     ]
    }
   ],
   "source": [
    "print(b)"
   ]
  },
  {
   "cell_type": "code",
   "execution_count": 27,
   "id": "ec9e7155",
   "metadata": {},
   "outputs": [
    {
     "name": "stdout",
     "output_type": "stream",
     "text": [
      "house\n"
     ]
    }
   ],
   "source": [
    "print(c)"
   ]
  },
  {
   "cell_type": "code",
   "execution_count": 28,
   "id": "47554468",
   "metadata": {},
   "outputs": [],
   "source": [
    "ntuple=(1,2,3,4,5,6)"
   ]
  },
  {
   "cell_type": "code",
   "execution_count": 29,
   "id": "8cb257f8",
   "metadata": {},
   "outputs": [],
   "source": [
    "(a,*b,c)=ntuple"
   ]
  },
  {
   "cell_type": "code",
   "execution_count": 30,
   "id": "756cee0f",
   "metadata": {},
   "outputs": [
    {
     "name": "stdout",
     "output_type": "stream",
     "text": [
      "1\n"
     ]
    }
   ],
   "source": [
    "print(a)"
   ]
  },
  {
   "cell_type": "code",
   "execution_count": 31,
   "id": "404466a4",
   "metadata": {},
   "outputs": [
    {
     "name": "stdout",
     "output_type": "stream",
     "text": [
      "[2, 3, 4, 5]\n"
     ]
    }
   ],
   "source": [
    "print(b)"
   ]
  },
  {
   "cell_type": "code",
   "execution_count": 32,
   "id": "185534b3",
   "metadata": {},
   "outputs": [
    {
     "name": "stdout",
     "output_type": "stream",
     "text": [
      "6\n"
     ]
    }
   ],
   "source": [
    "print(c)"
   ]
  },
  {
   "cell_type": "markdown",
   "id": "0c882180",
   "metadata": {},
   "source": [
    "# Loop through a tuple"
   ]
  },
  {
   "cell_type": "code",
   "execution_count": 33,
   "id": "d429b8db",
   "metadata": {},
   "outputs": [
    {
     "name": "stdout",
     "output_type": "stream",
     "text": [
      "(False, 'laptop', 'house')\n"
     ]
    }
   ],
   "source": [
    "print(mytuple)"
   ]
  },
  {
   "cell_type": "code",
   "execution_count": 34,
   "id": "e21652c5",
   "metadata": {},
   "outputs": [
    {
     "name": "stdout",
     "output_type": "stream",
     "text": [
      "False\n",
      "laptop\n",
      "house\n"
     ]
    }
   ],
   "source": [
    "for tt in mytuple:\n",
    "    print(tt)"
   ]
  },
  {
   "cell_type": "markdown",
   "id": "52749037",
   "metadata": {},
   "source": [
    "# While loop through tuple"
   ]
  },
  {
   "cell_type": "code",
   "execution_count": 35,
   "id": "25e80637",
   "metadata": {},
   "outputs": [
    {
     "name": "stdout",
     "output_type": "stream",
     "text": [
      "(False, 'laptop', 'house')\n"
     ]
    }
   ],
   "source": [
    "print(mytuple)"
   ]
  },
  {
   "cell_type": "code",
   "execution_count": 36,
   "id": "e51ac139",
   "metadata": {},
   "outputs": [],
   "source": [
    "pp = 0"
   ]
  },
  {
   "cell_type": "code",
   "execution_count": 37,
   "id": "64cffd7c",
   "metadata": {},
   "outputs": [
    {
     "name": "stdout",
     "output_type": "stream",
     "text": [
      "3\n"
     ]
    }
   ],
   "source": [
    "print(len(mytuple))"
   ]
  },
  {
   "cell_type": "code",
   "execution_count": 38,
   "id": "5ba1c9d7",
   "metadata": {},
   "outputs": [
    {
     "name": "stdout",
     "output_type": "stream",
     "text": [
      "False\n",
      "laptop\n",
      "house\n"
     ]
    }
   ],
   "source": [
    "while pp<len(mytuple):\n",
    "    print(mytuple[pp])\n",
    "    pp+=1"
   ]
  },
  {
   "cell_type": "markdown",
   "id": "e37f8c65",
   "metadata": {},
   "source": [
    "# Join tuple"
   ]
  },
  {
   "cell_type": "code",
   "execution_count": 39,
   "id": "801f11ee",
   "metadata": {},
   "outputs": [],
   "source": [
    "tuple1 = (1,2,3)"
   ]
  },
  {
   "cell_type": "code",
   "execution_count": 40,
   "id": "84f2bca5",
   "metadata": {},
   "outputs": [],
   "source": [
    "tuple2 = (\"a\", \"b\", \"c\")"
   ]
  },
  {
   "cell_type": "code",
   "execution_count": 42,
   "id": "090e580a",
   "metadata": {},
   "outputs": [
    {
     "name": "stdout",
     "output_type": "stream",
     "text": [
      "(1, 2, 3)\n",
      "('a', 'b', 'c')\n"
     ]
    }
   ],
   "source": [
    "print(tuple1)\n",
    "print(tuple2)"
   ]
  },
  {
   "cell_type": "code",
   "execution_count": 43,
   "id": "6a131bb7",
   "metadata": {},
   "outputs": [],
   "source": [
    "tuple3 = tuple1 + tuple2"
   ]
  },
  {
   "cell_type": "code",
   "execution_count": 45,
   "id": "27bb8000",
   "metadata": {},
   "outputs": [
    {
     "name": "stdout",
     "output_type": "stream",
     "text": [
      "(1, 2, 3, 'a', 'b', 'c')\n"
     ]
    }
   ],
   "source": [
    "print(tuple3)"
   ]
  },
  {
   "cell_type": "markdown",
   "id": "7d11f9ae",
   "metadata": {},
   "source": [
    "# Multiply tuples"
   ]
  },
  {
   "cell_type": "code",
   "execution_count": 47,
   "id": "cd369024",
   "metadata": {},
   "outputs": [
    {
     "name": "stdout",
     "output_type": "stream",
     "text": [
      "(1, 2, 3)\n"
     ]
    }
   ],
   "source": [
    "print(tuple1)"
   ]
  },
  {
   "cell_type": "code",
   "execution_count": 48,
   "id": "eb4128d3",
   "metadata": {},
   "outputs": [],
   "source": [
    "lltuple = tuple1*3"
   ]
  },
  {
   "cell_type": "code",
   "execution_count": 50,
   "id": "f516b46f",
   "metadata": {},
   "outputs": [
    {
     "name": "stdout",
     "output_type": "stream",
     "text": [
      "(1, 2, 3, 1, 2, 3, 1, 2, 3)\n"
     ]
    }
   ],
   "source": [
    "print(lltuple)"
   ]
  },
  {
   "cell_type": "markdown",
   "id": "c21b961c",
   "metadata": {},
   "source": [
    "# Count() method"
   ]
  },
  {
   "cell_type": "code",
   "execution_count": 52,
   "id": "f70b7127",
   "metadata": {},
   "outputs": [
    {
     "name": "stdout",
     "output_type": "stream",
     "text": [
      "3\n"
     ]
    }
   ],
   "source": [
    "print(lltuple.count(1))"
   ]
  },
  {
   "cell_type": "code",
   "execution_count": 54,
   "id": "d317e553",
   "metadata": {},
   "outputs": [
    {
     "name": "stdout",
     "output_type": "stream",
     "text": [
      "3\n"
     ]
    }
   ],
   "source": [
    "print(lltuple.count(2))"
   ]
  },
  {
   "cell_type": "markdown",
   "id": "d50c8111",
   "metadata": {},
   "source": [
    "# index() method"
   ]
  },
  {
   "cell_type": "code",
   "execution_count": 56,
   "id": "c906c78d",
   "metadata": {},
   "outputs": [
    {
     "name": "stdout",
     "output_type": "stream",
     "text": [
      "(False, 'laptop', 'house')\n"
     ]
    }
   ],
   "source": [
    "print(mytuple)"
   ]
  },
  {
   "cell_type": "code",
   "execution_count": 57,
   "id": "ec6d809e",
   "metadata": {},
   "outputs": [
    {
     "name": "stdout",
     "output_type": "stream",
     "text": [
      "1\n"
     ]
    }
   ],
   "source": [
    "print(mytuple.index(\"laptop\"))"
   ]
  },
  {
   "cell_type": "code",
   "execution_count": null,
   "id": "45123877",
   "metadata": {},
   "outputs": [],
   "source": []
  }
 ],
 "metadata": {
  "kernelspec": {
   "display_name": "Python 3 (ipykernel)",
   "language": "python",
   "name": "python3"
  },
  "language_info": {
   "codemirror_mode": {
    "name": "ipython",
    "version": 3
   },
   "file_extension": ".py",
   "mimetype": "text/x-python",
   "name": "python",
   "nbconvert_exporter": "python",
   "pygments_lexer": "ipython3",
   "version": "3.11.5"
  }
 },
 "nbformat": 4,
 "nbformat_minor": 5
}
