{
 "cells": [
  {
   "cell_type": "markdown",
   "id": "6c5edb9e",
   "metadata": {},
   "source": [
    "# Dictionary is ordered,can be changed but does not accept duplicate value "
   ]
  },
  {
   "cell_type": "code",
   "execution_count": 1,
   "id": "4bbdb8d3",
   "metadata": {},
   "outputs": [],
   "source": [
    "# dictionary are created in pairs of keys and values"
   ]
  },
  {
   "cell_type": "code",
   "execution_count": 2,
   "id": "4577c8e3",
   "metadata": {},
   "outputs": [],
   "source": [
    "mydict = {\"car\": \"toyota\", \"model\": \"corolla\", \"year\": 2024}"
   ]
  },
  {
   "cell_type": "code",
   "execution_count": 3,
   "id": "012b2bb4",
   "metadata": {},
   "outputs": [
    {
     "name": "stdout",
     "output_type": "stream",
     "text": [
      "{'car': 'toyota', 'model': 'corolla', 'year': 2024}\n"
     ]
    }
   ],
   "source": [
    "print(mydict)"
   ]
  },
  {
   "cell_type": "code",
   "execution_count": 4,
   "id": "b10dc3b4",
   "metadata": {},
   "outputs": [
    {
     "name": "stdout",
     "output_type": "stream",
     "text": [
      "toyota\n"
     ]
    }
   ],
   "source": [
    "print(mydict[\"car\"])"
   ]
  },
  {
   "cell_type": "code",
   "execution_count": 5,
   "id": "a77f55fd",
   "metadata": {},
   "outputs": [],
   "source": [
    "mydict = {\"car\": \"toyota\",\n",
    "          \"model\": \"corolla\", \n",
    "          \"year\": 2024, \n",
    "          \"year\": 2023}\n"
   ]
  },
  {
   "cell_type": "code",
   "execution_count": 6,
   "id": "2cd84a95",
   "metadata": {},
   "outputs": [
    {
     "name": "stdout",
     "output_type": "stream",
     "text": [
      "2023\n"
     ]
    }
   ],
   "source": [
    "print(mydict[\"year\"])"
   ]
  },
  {
   "cell_type": "code",
   "execution_count": 7,
   "id": "f5dc7b68",
   "metadata": {},
   "outputs": [],
   "source": [
    "mydict = {\"car\": \"toyota\",\n",
    "          \"model\": \"corolla\", \n",
    "          \"electric\": \"false\", \n",
    "          \"colour\": [\"red\",\"blue\",\"purple\",\"green\"], \n",
    "          \"year\": 2024}"
   ]
  },
  {
   "cell_type": "code",
   "execution_count": 8,
   "id": "27c5f61e",
   "metadata": {},
   "outputs": [
    {
     "name": "stdout",
     "output_type": "stream",
     "text": [
      "{'car': 'toyota', 'model': 'corolla', 'electric': 'false', 'colour': ['red', 'blue', 'purple', 'green'], 'year': 2024}\n"
     ]
    }
   ],
   "source": [
    "print(mydict)"
   ]
  },
  {
   "cell_type": "code",
   "execution_count": 9,
   "id": "2ffc2e06",
   "metadata": {},
   "outputs": [
    {
     "name": "stdout",
     "output_type": "stream",
     "text": [
      "<class 'dict'>\n"
     ]
    }
   ],
   "source": [
    "print(type(mydict))"
   ]
  },
  {
   "cell_type": "markdown",
   "id": "8f65a29d",
   "metadata": {},
   "source": [
    "# How to access a dictionary"
   ]
  },
  {
   "cell_type": "code",
   "execution_count": 10,
   "id": "a592909d",
   "metadata": {},
   "outputs": [],
   "source": [
    "# you can access an item by referring to the key name"
   ]
  },
  {
   "cell_type": "code",
   "execution_count": 11,
   "id": "6764ebc4",
   "metadata": {},
   "outputs": [
    {
     "name": "stdout",
     "output_type": "stream",
     "text": [
      "{'car': 'toyota', 'model': 'corolla', 'electric': 'false', 'colour': ['red', 'blue', 'purple', 'green'], 'year': 2024}\n"
     ]
    }
   ],
   "source": [
    "print(mydict)"
   ]
  },
  {
   "cell_type": "code",
   "execution_count": 12,
   "id": "8e85908d",
   "metadata": {},
   "outputs": [
    {
     "name": "stdout",
     "output_type": "stream",
     "text": [
      "corolla\n"
     ]
    }
   ],
   "source": [
    "print(mydict[\"model\"])"
   ]
  },
  {
   "cell_type": "markdown",
   "id": "d5ee4809",
   "metadata": {},
   "source": [
    "# to get all the keys in a dictionary, use key method"
   ]
  },
  {
   "cell_type": "code",
   "execution_count": 13,
   "id": "c27149d6",
   "metadata": {},
   "outputs": [
    {
     "name": "stdout",
     "output_type": "stream",
     "text": [
      "{'car': 'toyota', 'model': 'corolla', 'electric': 'false', 'colour': ['red', 'blue', 'purple', 'green'], 'year': 2024}\n"
     ]
    }
   ],
   "source": [
    "print(mydict)"
   ]
  },
  {
   "cell_type": "code",
   "execution_count": 14,
   "id": "95e5b306",
   "metadata": {},
   "outputs": [
    {
     "name": "stdout",
     "output_type": "stream",
     "text": [
      "dict_keys(['car', 'model', 'electric', 'colour', 'year'])\n"
     ]
    }
   ],
   "source": [
    "print(mydict.keys())"
   ]
  },
  {
   "cell_type": "code",
   "execution_count": 15,
   "id": "2a781fe3",
   "metadata": {},
   "outputs": [],
   "source": [
    "mydict[\"price\"] = 270000"
   ]
  },
  {
   "cell_type": "code",
   "execution_count": 16,
   "id": "8ed611d3",
   "metadata": {},
   "outputs": [
    {
     "name": "stdout",
     "output_type": "stream",
     "text": [
      "{'car': 'toyota', 'model': 'corolla', 'electric': 'false', 'colour': ['red', 'blue', 'purple', 'green'], 'year': 2024, 'price': 270000}\n"
     ]
    }
   ],
   "source": [
    "print(mydict)"
   ]
  },
  {
   "cell_type": "code",
   "execution_count": 17,
   "id": "811bfb0b",
   "metadata": {},
   "outputs": [
    {
     "name": "stdout",
     "output_type": "stream",
     "text": [
      "dict_keys(['car', 'model', 'electric', 'colour', 'year', 'price'])\n"
     ]
    }
   ],
   "source": [
    "print(mydict.keys())"
   ]
  },
  {
   "cell_type": "markdown",
   "id": "eb2dafe7",
   "metadata": {},
   "source": [
    "# to get values in a dictionary,use value( method)"
   ]
  },
  {
   "cell_type": "code",
   "execution_count": 18,
   "id": "1d2055c1",
   "metadata": {},
   "outputs": [
    {
     "name": "stdout",
     "output_type": "stream",
     "text": [
      "dict_values(['toyota', 'corolla', 'false', ['red', 'blue', 'purple', 'green'], 2024, 270000])\n"
     ]
    }
   ],
   "source": [
    "print(mydict.values())"
   ]
  },
  {
   "cell_type": "code",
   "execution_count": 19,
   "id": "66956c3d",
   "metadata": {},
   "outputs": [],
   "source": [
    "mydict[\"electric\"] = True"
   ]
  },
  {
   "cell_type": "code",
   "execution_count": 20,
   "id": "2970b32f",
   "metadata": {},
   "outputs": [
    {
     "name": "stdout",
     "output_type": "stream",
     "text": [
      "{'car': 'toyota', 'model': 'corolla', 'electric': True, 'colour': ['red', 'blue', 'purple', 'green'], 'year': 2024, 'price': 270000}\n"
     ]
    }
   ],
   "source": [
    "print(mydict)"
   ]
  },
  {
   "cell_type": "code",
   "execution_count": 21,
   "id": "586ed487",
   "metadata": {},
   "outputs": [
    {
     "name": "stdout",
     "output_type": "stream",
     "text": [
      "dict_values(['toyota', 'corolla', True, ['red', 'blue', 'purple', 'green'], 2024, 270000])\n"
     ]
    }
   ],
   "source": [
    "print(mydict.values())"
   ]
  },
  {
   "cell_type": "markdown",
   "id": "d738a978",
   "metadata": {},
   "source": [
    "# to get the items in a dict, use items() method"
   ]
  },
  {
   "cell_type": "code",
   "execution_count": 22,
   "id": "dc1857a4",
   "metadata": {},
   "outputs": [
    {
     "name": "stdout",
     "output_type": "stream",
     "text": [
      "{'car': 'toyota', 'model': 'corolla', 'electric': True, 'colour': ['red', 'blue', 'purple', 'green'], 'year': 2024, 'price': 270000}\n"
     ]
    }
   ],
   "source": [
    "print(mydict)"
   ]
  },
  {
   "cell_type": "code",
   "execution_count": 23,
   "id": "0327aa59",
   "metadata": {},
   "outputs": [
    {
     "name": "stdout",
     "output_type": "stream",
     "text": [
      "dict_items([('car', 'toyota'), ('model', 'corolla'), ('electric', True), ('colour', ['red', 'blue', 'purple', 'green']), ('year', 2024), ('price', 270000)])\n"
     ]
    }
   ],
   "source": [
    "print(mydict.items())"
   ]
  },
  {
   "cell_type": "markdown",
   "id": "972d2b10",
   "metadata": {},
   "source": [
    "# to add new item in dict"
   ]
  },
  {
   "cell_type": "code",
   "execution_count": 24,
   "id": "33d9b257",
   "metadata": {},
   "outputs": [
    {
     "name": "stdout",
     "output_type": "stream",
     "text": [
      "{'car': 'toyota', 'model': 'corolla', 'electric': True, 'colour': ['red', 'blue', 'purple', 'green'], 'year': 2024, 'price': 270000}\n"
     ]
    }
   ],
   "source": [
    "print(mydict)"
   ]
  },
  {
   "cell_type": "code",
   "execution_count": 25,
   "id": "2d8939f6",
   "metadata": {},
   "outputs": [],
   "source": [
    "mydict[\"location\"] = \"Anambra\""
   ]
  },
  {
   "cell_type": "code",
   "execution_count": 26,
   "id": "1030c929",
   "metadata": {},
   "outputs": [
    {
     "name": "stdout",
     "output_type": "stream",
     "text": [
      "dict_items([('car', 'toyota'), ('model', 'corolla'), ('electric', True), ('colour', ['red', 'blue', 'purple', 'green']), ('year', 2024), ('price', 270000), ('location', 'Anambra')])\n"
     ]
    }
   ],
   "source": [
    "print(mydict.items())"
   ]
  },
  {
   "cell_type": "markdown",
   "id": "3e7f807d",
   "metadata": {},
   "source": [
    "# to check if an item is in a dictionary"
   ]
  },
  {
   "cell_type": "code",
   "execution_count": 27,
   "id": "16d71c17",
   "metadata": {},
   "outputs": [],
   "source": [
    "# you have to use the in keyword operator"
   ]
  },
  {
   "cell_type": "code",
   "execution_count": 28,
   "id": "fe20b4c6",
   "metadata": {},
   "outputs": [
    {
     "name": "stdout",
     "output_type": "stream",
     "text": [
      "{'car': 'toyota', 'model': 'corolla', 'electric': True, 'colour': ['red', 'blue', 'purple', 'green'], 'year': 2024, 'price': 270000, 'location': 'Anambra'}\n"
     ]
    }
   ],
   "source": [
    "print(mydict)"
   ]
  },
  {
   "cell_type": "code",
   "execution_count": 29,
   "id": "d3f178ce",
   "metadata": {},
   "outputs": [
    {
     "name": "stdout",
     "output_type": "stream",
     "text": [
      "True\n"
     ]
    }
   ],
   "source": [
    "print(\"car\" in mydict)"
   ]
  },
  {
   "cell_type": "code",
   "execution_count": 30,
   "id": "eaf4c3a0",
   "metadata": {},
   "outputs": [
    {
     "name": "stdout",
     "output_type": "stream",
     "text": [
      "False\n"
     ]
    }
   ],
   "source": [
    "print(\"girl\" in mydict)"
   ]
  },
  {
   "cell_type": "markdown",
   "id": "15d3700e",
   "metadata": {},
   "source": [
    "# how to change values in a dict"
   ]
  },
  {
   "cell_type": "code",
   "execution_count": 31,
   "id": "05d93ea7",
   "metadata": {},
   "outputs": [
    {
     "name": "stdout",
     "output_type": "stream",
     "text": [
      "{'car': 'toyota', 'model': 'corolla', 'electric': True, 'colour': ['red', 'blue', 'purple', 'green'], 'year': 2024, 'price': 270000, 'location': 'Anambra'}\n"
     ]
    }
   ],
   "source": [
    "print(mydict)"
   ]
  },
  {
   "cell_type": "code",
   "execution_count": 32,
   "id": "593eff75",
   "metadata": {},
   "outputs": [],
   "source": [
    "mydict[\"model\"] = \"big daddy\""
   ]
  },
  {
   "cell_type": "code",
   "execution_count": 33,
   "id": "1c12fb9f",
   "metadata": {},
   "outputs": [
    {
     "name": "stdout",
     "output_type": "stream",
     "text": [
      "{'car': 'toyota', 'model': 'big daddy', 'electric': True, 'colour': ['red', 'blue', 'purple', 'green'], 'year': 2024, 'price': 270000, 'location': 'Anambra'}\n"
     ]
    }
   ],
   "source": [
    "print(mydict)"
   ]
  },
  {
   "cell_type": "markdown",
   "id": "9bd9b7a5",
   "metadata": {},
   "source": [
    "# how to update a dict. it must be in a key:value pairs"
   ]
  },
  {
   "cell_type": "code",
   "execution_count": 34,
   "id": "3017d564",
   "metadata": {},
   "outputs": [],
   "source": [
    "mydict.update({\"user\": \"first user\"})"
   ]
  },
  {
   "cell_type": "code",
   "execution_count": 35,
   "id": "aaf66fa4",
   "metadata": {},
   "outputs": [
    {
     "name": "stdout",
     "output_type": "stream",
     "text": [
      "{'car': 'toyota', 'model': 'big daddy', 'electric': True, 'colour': ['red', 'blue', 'purple', 'green'], 'year': 2024, 'price': 270000, 'location': 'Anambra', 'user': 'first user'}\n"
     ]
    }
   ],
   "source": [
    "print(mydict)"
   ]
  },
  {
   "cell_type": "markdown",
   "id": "9eb3e40b",
   "metadata": {},
   "source": [
    "# to remove an item from a dictionary, we use pop() method"
   ]
  },
  {
   "cell_type": "code",
   "execution_count": 36,
   "id": "103d7d77",
   "metadata": {},
   "outputs": [
    {
     "name": "stdout",
     "output_type": "stream",
     "text": [
      "{'car': 'toyota', 'model': 'big daddy', 'electric': True, 'colour': ['red', 'blue', 'purple', 'green'], 'year': 2024, 'price': 270000, 'location': 'Anambra', 'user': 'first user'}\n"
     ]
    }
   ],
   "source": [
    "print(mydict)"
   ]
  },
  {
   "cell_type": "code",
   "execution_count": 37,
   "id": "0927e5b4",
   "metadata": {},
   "outputs": [
    {
     "data": {
      "text/plain": [
       "True"
      ]
     },
     "execution_count": 37,
     "metadata": {},
     "output_type": "execute_result"
    }
   ],
   "source": [
    "mydict.pop(\"electric\")"
   ]
  },
  {
   "cell_type": "code",
   "execution_count": 38,
   "id": "2881dee9",
   "metadata": {},
   "outputs": [
    {
     "name": "stdout",
     "output_type": "stream",
     "text": [
      "{'car': 'toyota', 'model': 'big daddy', 'colour': ['red', 'blue', 'purple', 'green'], 'year': 2024, 'price': 270000, 'location': 'Anambra', 'user': 'first user'}\n"
     ]
    }
   ],
   "source": [
    "print(mydict)"
   ]
  },
  {
   "cell_type": "markdown",
   "id": "96d42e0a",
   "metadata": {},
   "source": [
    "# pop() item method"
   ]
  },
  {
   "cell_type": "code",
   "execution_count": 39,
   "id": "779dfac8",
   "metadata": {},
   "outputs": [
    {
     "data": {
      "text/plain": [
       "('user', 'first user')"
      ]
     },
     "execution_count": 39,
     "metadata": {},
     "output_type": "execute_result"
    }
   ],
   "source": [
    "mydict.popitem()"
   ]
  },
  {
   "cell_type": "code",
   "execution_count": 40,
   "id": "419425fd",
   "metadata": {},
   "outputs": [
    {
     "name": "stdout",
     "output_type": "stream",
     "text": [
      "{'car': 'toyota', 'model': 'big daddy', 'colour': ['red', 'blue', 'purple', 'green'], 'year': 2024, 'price': 270000, 'location': 'Anambra'}\n"
     ]
    }
   ],
   "source": [
    "print(mydict)"
   ]
  },
  {
   "cell_type": "markdown",
   "id": "ef15d216",
   "metadata": {},
   "source": [
    "# del keyword"
   ]
  },
  {
   "cell_type": "code",
   "execution_count": 41,
   "id": "2813a132",
   "metadata": {},
   "outputs": [],
   "source": [
    "del mydict[\"colour\"]"
   ]
  },
  {
   "cell_type": "code",
   "execution_count": 42,
   "id": "b58cbcce",
   "metadata": {},
   "outputs": [
    {
     "name": "stdout",
     "output_type": "stream",
     "text": [
      "{'car': 'toyota', 'model': 'big daddy', 'year': 2024, 'price': 270000, 'location': 'Anambra'}\n"
     ]
    }
   ],
   "source": [
    "print(mydict)"
   ]
  },
  {
   "cell_type": "code",
   "execution_count": 43,
   "id": "39a9bea8",
   "metadata": {},
   "outputs": [],
   "source": [
    "del mydict"
   ]
  },
  {
   "cell_type": "markdown",
   "id": "e5f67a33",
   "metadata": {},
   "source": [
    "# clear() method"
   ]
  },
  {
   "cell_type": "code",
   "execution_count": 44,
   "id": "c44d27a8",
   "metadata": {},
   "outputs": [],
   "source": [
    "newdict = {\"food\": \"rice\", \"fruit\": \"orange\"}"
   ]
  },
  {
   "cell_type": "code",
   "execution_count": 46,
   "id": "d6c7c54f",
   "metadata": {},
   "outputs": [
    {
     "name": "stdout",
     "output_type": "stream",
     "text": [
      "{'food': 'rice', 'fruit': 'orange'}\n"
     ]
    }
   ],
   "source": [
    "print(newdict)"
   ]
  },
  {
   "cell_type": "code",
   "execution_count": null,
   "id": "62683272",
   "metadata": {},
   "outputs": [],
   "source": [
    "newdict.clear"
   ]
  },
  {
   "cell_type": "code",
   "execution_count": null,
   "id": "f3140064",
   "metadata": {},
   "outputs": [],
   "source": []
  }
 ],
 "metadata": {
  "kernelspec": {
   "display_name": "Python 3 (ipykernel)",
   "language": "python",
   "name": "python3"
  },
  "language_info": {
   "codemirror_mode": {
    "name": "ipython",
    "version": 3
   },
   "file_extension": ".py",
   "mimetype": "text/x-python",
   "name": "python",
   "nbconvert_exporter": "python",
   "pygments_lexer": "ipython3",
   "version": "3.11.5"
  }
 },
 "nbformat": 4,
 "nbformat_minor": 5
}
