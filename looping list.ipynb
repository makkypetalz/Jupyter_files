{
 "cells": [
  {
   "cell_type": "code",
   "execution_count": 115,
   "id": "e2636911",
   "metadata": {},
   "outputs": [
    {
     "name": "stdout",
     "output_type": "stream",
     "text": [
      "[23, 56, 77, 68]\n",
      "[23, 56, 77, 68]\n"
     ]
    }
   ],
   "source": [
    "thislist = [23,56,77,68]\n",
    "print(thislist)"
   ]
  },
  {
   "cell_type": "code",
   "execution_count": 116,
   "id": "5d9b9b21",
   "metadata": {},
   "outputs": [
    {
     "name": "stdout",
     "output_type": "stream",
     "text": [
      "23\n",
      "56\n",
      "77\n",
      "68\n",
      "23\n",
      "56\n",
      "77\n",
      "68\n"
     ]
    }
   ],
   "source": [
    "for book in thislist:\n",
    "    print(book)"
   ]
  },
  {
   "cell_type": "code",
   "execution_count": 117,
   "id": "f8d74b50",
   "metadata": {},
   "outputs": [
    {
     "name": "stdout",
     "output_type": "stream",
     "text": [
      "4\n",
      "4\n"
     ]
    }
   ],
   "source": [
    "print(len(thislist))"
   ]
  },
  {
   "cell_type": "code",
   "execution_count": 118,
   "id": "8cdc3e8a",
   "metadata": {},
   "outputs": [
    {
     "name": "stdout",
     "output_type": "stream",
     "text": [
      "range(0, 4)\n",
      "range(0, 4)\n"
     ]
    }
   ],
   "source": [
    "print(range(len(thislist)))"
   ]
  },
  {
   "cell_type": "code",
   "execution_count": 119,
   "id": "200bab30",
   "metadata": {},
   "outputs": [
    {
     "name": "stdout",
     "output_type": "stream",
     "text": [
      "23\n",
      "56\n",
      "77\n",
      "68\n",
      "23\n",
      "56\n",
      "77\n",
      "68\n"
     ]
    }
   ],
   "source": [
    "for n in range(len(thislist)):\n",
    "    print(thislist[n])"
   ]
  },
  {
   "cell_type": "markdown",
   "id": "3d4977c5",
   "metadata": {},
   "source": [
    "# list comprehension"
   ]
  },
  {
   "cell_type": "code",
   "execution_count": 120,
   "id": "8ac4c2e8",
   "metadata": {},
   "outputs": [],
   "source": [
    "mylist = [\"apple\",\"banana\",\"cherry\",\"mango\",\"potato\",\"orange\"]"
   ]
  },
  {
   "cell_type": "code",
   "execution_count": 121,
   "id": "99921434",
   "metadata": {},
   "outputs": [
    {
     "name": "stdout",
     "output_type": "stream",
     "text": [
      "['apple', 'banana', 'cherry', 'mango', 'potato', 'orange']\n",
      "['apple', 'banana', 'cherry', 'mango', 'potato', 'orange']\n"
     ]
    }
   ],
   "source": [
    "print(mylist)"
   ]
  },
  {
   "cell_type": "code",
   "execution_count": 122,
   "id": "e5523d4a",
   "metadata": {},
   "outputs": [],
   "source": [
    "newlist=[]"
   ]
  },
  {
   "cell_type": "code",
   "execution_count": 123,
   "id": "948f0eaa",
   "metadata": {},
   "outputs": [
    {
     "name": "stdout",
     "output_type": "stream",
     "text": [
      "[]\n",
      "[]\n"
     ]
    }
   ],
   "source": [
    "print(newlist)"
   ]
  },
  {
   "cell_type": "code",
   "execution_count": 124,
   "id": "e8f27616",
   "metadata": {},
   "outputs": [],
   "source": [
    "for x in mylist:\n",
    "    if \"e\" in x:\n",
    "        newlist.append(x)"
   ]
  },
  {
   "cell_type": "code",
   "execution_count": 125,
   "id": "08f7c079",
   "metadata": {},
   "outputs": [
    {
     "name": "stdout",
     "output_type": "stream",
     "text": [
      "['apple', 'cherry', 'orange']\n",
      "['apple', 'cherry', 'orange']\n"
     ]
    }
   ],
   "source": [
    "print(newlist)"
   ]
  },
  {
   "cell_type": "code",
   "execution_count": 126,
   "id": "30299b31",
   "metadata": {},
   "outputs": [
    {
     "name": "stdout",
     "output_type": "stream",
     "text": [
      "[23, 56, 77, 68]\n",
      "[23, 56, 77, 68]\n"
     ]
    }
   ],
   "source": [
    "print(thislist)"
   ]
  },
  {
   "cell_type": "code",
   "execution_count": 127,
   "id": "c3c52044",
   "metadata": {},
   "outputs": [],
   "source": [
    "dlist = []"
   ]
  },
  {
   "cell_type": "code",
   "execution_count": 128,
   "id": "ae05e618",
   "metadata": {},
   "outputs": [
    {
     "name": "stdout",
     "output_type": "stream",
     "text": [
      "[][]\n",
      "\n"
     ]
    }
   ],
   "source": [
    "print(dlist)"
   ]
  },
  {
   "cell_type": "code",
   "execution_count": 129,
   "id": "a762cd85",
   "metadata": {},
   "outputs": [],
   "source": [
    "for k in thislist:\n",
    "    if k<60:\n",
    "        dlist.append(k)"
   ]
  },
  {
   "cell_type": "code",
   "execution_count": 130,
   "id": "d3df905b",
   "metadata": {},
   "outputs": [
    {
     "name": "stdout",
     "output_type": "stream",
     "text": [
      "[23, 56]\n",
      "[23, 56]\n"
     ]
    }
   ],
   "source": [
    "print(dlist)"
   ]
  },
  {
   "cell_type": "markdown",
   "id": "c0bcb2ba",
   "metadata": {},
   "source": [
    "# while loop list"
   ]
  },
  {
   "cell_type": "code",
   "execution_count": 131,
   "id": "2aab3fa6",
   "metadata": {},
   "outputs": [
    {
     "name": "stdout",
     "output_type": "stream",
     "text": [
      "[23, 56, 77, 68]\n",
      "[23, 56, 77, 68]\n"
     ]
    }
   ],
   "source": [
    "print(thislist)"
   ]
  },
  {
   "cell_type": "code",
   "execution_count": 132,
   "id": "d37d9c7e",
   "metadata": {},
   "outputs": [],
   "source": [
    "h = 0"
   ]
  },
  {
   "cell_type": "code",
   "execution_count": 133,
   "id": "0e89726a",
   "metadata": {},
   "outputs": [
    {
     "name": "stdout",
     "output_type": "stream",
     "text": [
      "4\n",
      "4\n"
     ]
    }
   ],
   "source": [
    "print(len(thislist))"
   ]
  },
  {
   "cell_type": "code",
   "execution_count": 134,
   "id": "ce05baee",
   "metadata": {},
   "outputs": [
    {
     "name": "stdout",
     "output_type": "stream",
     "text": [
      "0\n",
      "1\n",
      "2\n",
      "3\n",
      "0\n",
      "1\n",
      "2\n",
      "3\n"
     ]
    }
   ],
   "source": [
    "while h<len(thislist):\n",
    "    print(h)\n",
    "    h = h+1"
   ]
  },
  {
   "cell_type": "markdown",
   "id": "ba5ef10d",
   "metadata": {},
   "source": [
    "# Sorting list"
   ]
  },
  {
   "cell_type": "code",
   "execution_count": 135,
   "id": "67a3760c",
   "metadata": {},
   "outputs": [],
   "source": [
    "jlist = [90,78,84,35,67]"
   ]
  },
  {
   "cell_type": "code",
   "execution_count": 136,
   "id": "2f0a7515",
   "metadata": {},
   "outputs": [
    {
     "name": "stdout",
     "output_type": "stream",
     "text": [
      "[90, 78, 84, 35, 67]\n",
      "[90, 78, 84, 35, 67]\n"
     ]
    }
   ],
   "source": [
    "print(jlist)"
   ]
  },
  {
   "cell_type": "code",
   "execution_count": 137,
   "id": "b55c27de",
   "metadata": {},
   "outputs": [],
   "source": [
    "jlist.sort()"
   ]
  },
  {
   "cell_type": "code",
   "execution_count": 138,
   "id": "6a266e6a",
   "metadata": {},
   "outputs": [
    {
     "name": "stdout",
     "output_type": "stream",
     "text": [
      "[35, 67, 78, 84, 90]\n",
      "[35, 67, 78, 84, 90]\n"
     ]
    }
   ],
   "source": [
    "print(jlist)"
   ]
  },
  {
   "cell_type": "code",
   "execution_count": 139,
   "id": "ed783117",
   "metadata": {},
   "outputs": [],
   "source": [
    "jlist.sort(reverse=True)"
   ]
  },
  {
   "cell_type": "code",
   "execution_count": 140,
   "id": "14782449",
   "metadata": {},
   "outputs": [
    {
     "name": "stdout",
     "output_type": "stream",
     "text": [
      "[90, 84, 78, 67, 35]\n",
      "[90, 84, 78, 67, 35]\n"
     ]
    }
   ],
   "source": [
    "print(jlist)"
   ]
  },
  {
   "cell_type": "code",
   "execution_count": 141,
   "id": "52ef1b8c",
   "metadata": {},
   "outputs": [
    {
     "name": "stdout",
     "output_type": "stream",
     "text": [
      "['apple', 'banana', 'cherry', 'mango', 'potato', 'orange']['apple', 'banana', 'cherry', 'mango', 'potato', 'orange']\n",
      "\n"
     ]
    }
   ],
   "source": [
    "print(mylist)"
   ]
  },
  {
   "cell_type": "code",
   "execution_count": 142,
   "id": "75bfa485",
   "metadata": {},
   "outputs": [],
   "source": [
    "mylist.sort()"
   ]
  },
  {
   "cell_type": "code",
   "execution_count": 143,
   "id": "32cf4b5c",
   "metadata": {},
   "outputs": [
    {
     "name": "stdout",
     "output_type": "stream",
     "text": [
      "['apple', 'banana', 'cherry', 'mango', 'orange', 'potato']\n",
      "['apple', 'banana', 'cherry', 'mango', 'orange', 'potato']\n"
     ]
    }
   ],
   "source": [
    "print(mylist)"
   ]
  },
  {
   "cell_type": "code",
   "execution_count": 144,
   "id": "987474d5",
   "metadata": {},
   "outputs": [],
   "source": [
    "mylist.sort(reverse=True)"
   ]
  },
  {
   "cell_type": "code",
   "execution_count": 145,
   "id": "7da3a544",
   "metadata": {},
   "outputs": [
    {
     "name": "stdout",
     "output_type": "stream",
     "text": [
      "['potato', 'orange', 'mango', 'cherry', 'banana', 'apple']\n",
      "['potato', 'orange', 'mango', 'cherry', 'banana', 'apple']\n"
     ]
    }
   ],
   "source": [
    "print(mylist)"
   ]
  },
  {
   "cell_type": "markdown",
   "id": "a2b2c06f",
   "metadata": {},
   "source": [
    "# sort() method is case sensitive"
   ]
  },
  {
   "cell_type": "code",
   "execution_count": 146,
   "id": "e5e19e08",
   "metadata": {},
   "outputs": [],
   "source": [
    "qlist = [\"pineapple\", \"orange\", \"Iphone\", \"Table\", \"book\"]"
   ]
  },
  {
   "cell_type": "code",
   "execution_count": 147,
   "id": "0143bc04",
   "metadata": {},
   "outputs": [
    {
     "name": "stdout",
     "output_type": "stream",
     "text": [
      "['pineapple', 'orange', 'Iphone', 'Table', 'book']\n",
      "['pineapple', 'orange', 'Iphone', 'Table', 'book']\n"
     ]
    }
   ],
   "source": [
    "print(qlist)"
   ]
  },
  {
   "cell_type": "code",
   "execution_count": 148,
   "id": "c6a0b11a",
   "metadata": {},
   "outputs": [],
   "source": [
    "qlist.sort()"
   ]
  },
  {
   "cell_type": "code",
   "execution_count": 149,
   "id": "6bc9a725",
   "metadata": {},
   "outputs": [
    {
     "name": "stdout",
     "output_type": "stream",
     "text": [
      "['Iphone', 'Table', 'book', 'orange', 'pineapple']\n",
      "['Iphone', 'Table', 'book', 'orange', 'pineapple']\n"
     ]
    }
   ],
   "source": [
    "print(qlist)"
   ]
  },
  {
   "cell_type": "code",
   "execution_count": 150,
   "id": "51f64f93",
   "metadata": {},
   "outputs": [],
   "source": [
    "qlist.sort(key=str.lower)"
   ]
  },
  {
   "cell_type": "code",
   "execution_count": 151,
   "id": "d370cc3d",
   "metadata": {},
   "outputs": [
    {
     "name": "stdout",
     "output_type": "stream",
     "text": [
      "['book', 'Iphone', 'orange', 'pineapple', 'Table']\n",
      "['book', 'Iphone', 'orange', 'pineapple', 'Table']\n"
     ]
    }
   ],
   "source": [
    "print(qlist)"
   ]
  },
  {
   "cell_type": "markdown",
   "id": "3ebaf809",
   "metadata": {},
   "source": [
    "# reverse() method"
   ]
  },
  {
   "cell_type": "code",
   "execution_count": 152,
   "id": "5b8cde40",
   "metadata": {},
   "outputs": [],
   "source": [
    "kklist = [67,34,65,48,90]"
   ]
  },
  {
   "cell_type": "code",
   "execution_count": 153,
   "id": "6c582723",
   "metadata": {},
   "outputs": [
    {
     "name": "stdout",
     "output_type": "stream",
     "text": [
      "[67, 34, 65, 48, 90][67, 34, 65, 48, 90]\n",
      "\n"
     ]
    }
   ],
   "source": [
    "print(kklist)"
   ]
  },
  {
   "cell_type": "code",
   "execution_count": 154,
   "id": "a3af9279",
   "metadata": {},
   "outputs": [],
   "source": [
    "kklist.reverse()"
   ]
  },
  {
   "cell_type": "code",
   "execution_count": 155,
   "id": "4a57b8b6",
   "metadata": {},
   "outputs": [
    {
     "name": "stdout",
     "output_type": "stream",
     "text": [
      "[90, 48, 65, 34, 67]\n",
      "[90, 48, 65, 34, 67]\n"
     ]
    }
   ],
   "source": [
    "print(kklist)"
   ]
  },
  {
   "cell_type": "markdown",
   "id": "78cd7c6d",
   "metadata": {},
   "source": [
    "# copy() method"
   ]
  },
  {
   "cell_type": "code",
   "execution_count": 156,
   "id": "fe9582bd",
   "metadata": {},
   "outputs": [],
   "source": [
    "cclist = [1,2,3,4,5]"
   ]
  },
  {
   "cell_type": "code",
   "execution_count": 157,
   "id": "af64a295",
   "metadata": {},
   "outputs": [
    {
     "name": "stdout",
     "output_type": "stream",
     "text": [
      "[1, 2, 3, 4, 5]\n",
      "[1, 2, 3, 4, 5]\n"
     ]
    }
   ],
   "source": [
    "print(cclist)"
   ]
  },
  {
   "cell_type": "code",
   "execution_count": 158,
   "id": "6fb5e8f6",
   "metadata": {},
   "outputs": [],
   "source": [
    "rrlist = cclist.copy()"
   ]
  },
  {
   "cell_type": "code",
   "execution_count": 159,
   "id": "05d544fa",
   "metadata": {},
   "outputs": [
    {
     "name": "stdout",
     "output_type": "stream",
     "text": [
      "[1, 2, 3, 4, 5]\n",
      "[1, 2, 3, 4, 5]\n"
     ]
    }
   ],
   "source": [
    "print(rrlist)"
   ]
  },
  {
   "cell_type": "markdown",
   "id": "00219b1b",
   "metadata": {},
   "source": [
    "# list() method"
   ]
  },
  {
   "cell_type": "code",
   "execution_count": 160,
   "id": "3d9f3884",
   "metadata": {},
   "outputs": [],
   "source": [
    "llist = [\"a\",\"b\", \"c\"]"
   ]
  },
  {
   "cell_type": "code",
   "execution_count": 161,
   "id": "5e81c016",
   "metadata": {},
   "outputs": [
    {
     "name": "stdout",
     "output_type": "stream",
     "text": [
      "['a', 'b', 'c']\n",
      "['a', 'b', 'c']\n"
     ]
    }
   ],
   "source": [
    "print(llist)"
   ]
  },
  {
   "cell_type": "code",
   "execution_count": 162,
   "id": "087fe654",
   "metadata": {},
   "outputs": [],
   "source": [
    "ilist = list(llist)"
   ]
  },
  {
   "cell_type": "code",
   "execution_count": 163,
   "id": "48ceff24",
   "metadata": {},
   "outputs": [
    {
     "name": "stdout",
     "output_type": "stream",
     "text": [
      "['a', 'b', 'c']['a', 'b', 'c']\n",
      "\n"
     ]
    }
   ],
   "source": [
    "print(ilist)"
   ]
  },
  {
   "cell_type": "markdown",
   "id": "82485f4b",
   "metadata": {},
   "source": [
    "# join list"
   ]
  },
  {
   "cell_type": "code",
   "execution_count": 164,
   "id": "26666c1e",
   "metadata": {},
   "outputs": [
    {
     "name": "stdout",
     "output_type": "stream",
     "text": [
      "[1, 2, 3, 4, 5]\n",
      "[1, 2, 3, 4, 5]\n"
     ]
    }
   ],
   "source": [
    "print(cclist)"
   ]
  },
  {
   "cell_type": "code",
   "execution_count": 165,
   "id": "a4d51ffc",
   "metadata": {},
   "outputs": [
    {
     "name": "stdout",
     "output_type": "stream",
     "text": [
      "['a', 'b', 'c']\n",
      "['a', 'b', 'c']\n"
     ]
    }
   ],
   "source": [
    "print(llist)"
   ]
  },
  {
   "cell_type": "code",
   "execution_count": 166,
   "id": "7b16dfc1",
   "metadata": {},
   "outputs": [],
   "source": [
    "mlist = cclist+llist"
   ]
  },
  {
   "cell_type": "code",
   "execution_count": 167,
   "id": "345a9c6b",
   "metadata": {},
   "outputs": [
    {
     "name": "stdout",
     "output_type": "stream",
     "text": [
      "[1, 2, 3, 4, 5, 'a', 'b', 'c'][1, 2, 3, 4, 5, 'a', 'b', 'c']\n",
      "\n"
     ]
    }
   ],
   "source": [
    "print(mlist)"
   ]
  },
  {
   "cell_type": "markdown",
   "id": "5c45cd2e",
   "metadata": {},
   "source": [
    "# extend() method"
   ]
  },
  {
   "cell_type": "code",
   "execution_count": 168,
   "id": "d0ff85fd",
   "metadata": {},
   "outputs": [],
   "source": [
    "cclist.extend(llist)"
   ]
  },
  {
   "cell_type": "code",
   "execution_count": 169,
   "id": "51dd103c",
   "metadata": {},
   "outputs": [
    {
     "name": "stdout",
     "output_type": "stream",
     "text": [
      "[1, 2, 3, 4, 5, 'a', 'b', 'c']\n",
      "[1, 2, 3, 4, 5, 'a', 'b', 'c']\n"
     ]
    }
   ],
   "source": [
    "print(cclist)"
   ]
  },
  {
   "cell_type": "markdown",
   "id": "16e703c8",
   "metadata": {},
   "source": [
    "# append() method"
   ]
  },
  {
   "cell_type": "code",
   "execution_count": 170,
   "id": "f18b3bca",
   "metadata": {},
   "outputs": [],
   "source": [
    "for v in cclist:\n",
    "    llist.append(v)"
   ]
  },
  {
   "cell_type": "code",
   "execution_count": 171,
   "id": "7aa4c335",
   "metadata": {},
   "outputs": [
    {
     "name": "stdout",
     "output_type": "stream",
     "text": [
      "['a', 'b', 'c', 1, 2, 3, 4, 5, 'a', 'b', 'c']\n",
      "['a', 'b', 'c', 1, 2, 3, 4, 5, 'a', 'b', 'c']\n"
     ]
    }
   ],
   "source": [
    "print(llist)"
   ]
  },
  {
   "cell_type": "code",
   "execution_count": null,
   "id": "e3d7538f",
   "metadata": {},
   "outputs": [],
   "source": []
  }
 ],
 "metadata": {
  "kernelspec": {
   "display_name": "Python 3 (ipykernel)",
   "language": "python",
   "name": "python3"
  },
  "language_info": {
   "codemirror_mode": {
    "name": "ipython",
    "version": 3
   },
   "file_extension": ".py",
   "mimetype": "text/x-python",
   "name": "python",
   "nbconvert_exporter": "python",
   "pygments_lexer": "ipython3",
   "version": "3.11.5"
  }
 },
 "nbformat": 4,
 "nbformat_minor": 5
}
