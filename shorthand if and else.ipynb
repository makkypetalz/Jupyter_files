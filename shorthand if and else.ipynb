{
 "cells": [
  {
   "cell_type": "markdown",
   "id": "c3d2e4db",
   "metadata": {},
   "source": [
    "# shorthand if"
   ]
  },
  {
   "cell_type": "code",
   "execution_count": 1,
   "id": "9d4ad6a6",
   "metadata": {},
   "outputs": [
    {
     "name": "stdout",
     "output_type": "stream",
     "text": [
      "good job\n"
     ]
    }
   ],
   "source": [
    "a = 50\n",
    "b = 90\n",
    "if b>a: print(\"good job\")"
   ]
  },
  {
   "cell_type": "markdown",
   "id": "60cd554b",
   "metadata": {},
   "source": [
    "# shorthand else"
   ]
  },
  {
   "cell_type": "code",
   "execution_count": 2,
   "id": "41ce1528",
   "metadata": {},
   "outputs": [],
   "source": [
    "# syntax: output for if,if statement,else,output for else"
   ]
  },
  {
   "cell_type": "code",
   "execution_count": 3,
   "id": "a39622a1",
   "metadata": {},
   "outputs": [
    {
     "name": "stdout",
     "output_type": "stream",
     "text": [
      "nil\n"
     ]
    }
   ],
   "source": [
    "print('B') if a>b else print(\"nil\")"
   ]
  },
  {
   "cell_type": "markdown",
   "id": "21c9727d",
   "metadata": {},
   "source": [
    "# multiple"
   ]
  },
  {
   "cell_type": "code",
   "execution_count": 4,
   "id": "587fb95d",
   "metadata": {},
   "outputs": [
    {
     "name": "stdout",
     "output_type": "stream",
     "text": [
      "b\n"
     ]
    }
   ],
   "source": [
    "print('A') if a>b else print(\"no\") if a==b else print(\"b\")"
   ]
  },
  {
   "cell_type": "markdown",
   "id": "99a49dc4",
   "metadata": {},
   "source": [
    "# and keyword"
   ]
  },
  {
   "cell_type": "code",
   "execution_count": 5,
   "id": "ccc3bd00",
   "metadata": {},
   "outputs": [],
   "source": [
    "x = 56\n",
    "y = 90\n",
    "z = 23"
   ]
  },
  {
   "cell_type": "code",
   "execution_count": 7,
   "id": "a95c7adf",
   "metadata": {},
   "outputs": [
    {
     "name": "stdout",
     "output_type": "stream",
     "text": [
      "both conditions are true\n"
     ]
    }
   ],
   "source": [
    "if x<y and z<x:\n",
    "    print(\"both conditions are true\")"
   ]
  },
  {
   "cell_type": "markdown",
   "id": "41863538",
   "metadata": {},
   "source": [
    "# or keyword"
   ]
  },
  {
   "cell_type": "code",
   "execution_count": 9,
   "id": "10ed0ecd",
   "metadata": {},
   "outputs": [
    {
     "name": "stdout",
     "output_type": "stream",
     "text": [
      "one of the condition is true\n"
     ]
    }
   ],
   "source": [
    "if x>z or y<x:\n",
    "    print(\"one of the condition is true\")"
   ]
  },
  {
   "cell_type": "markdown",
   "id": "8f30e755",
   "metadata": {},
   "source": [
    "# nested if"
   ]
  },
  {
   "cell_type": "code",
   "execution_count": 11,
   "id": "85a6d372",
   "metadata": {},
   "outputs": [
    {
     "name": "stdout",
     "output_type": "stream",
     "text": [
      "above 10\n",
      "above 20\n"
     ]
    }
   ],
   "source": [
    "n = 40\n",
    "if n>10:\n",
    "    print(\"above 10\")\n",
    "    if n>20:\n",
    "        print(\"above 20\")\n",
    "    else:\n",
    "        print(\"not above\")"
   ]
  },
  {
   "cell_type": "markdown",
   "id": "aeb7478c",
   "metadata": {},
   "source": [
    "# pass statement"
   ]
  },
  {
   "cell_type": "code",
   "execution_count": 12,
   "id": "d198f0a2",
   "metadata": {},
   "outputs": [
    {
     "name": "stdout",
     "output_type": "stream",
     "text": [
      "right\n"
     ]
    }
   ],
   "source": [
    "f = 90\n",
    "if f>67:\n",
    "    pass\n",
    "if f > 40: print(\"right\")"
   ]
  }
 ],
 "metadata": {
  "kernelspec": {
   "display_name": "Python 3 (ipykernel)",
   "language": "python",
   "name": "python3"
  },
  "language_info": {
   "codemirror_mode": {
    "name": "ipython",
    "version": 3
   },
   "file_extension": ".py",
   "mimetype": "text/x-python",
   "name": "python",
   "nbconvert_exporter": "python",
   "pygments_lexer": "ipython3",
   "version": "3.11.5"
  }
 },
 "nbformat": 4,
 "nbformat_minor": 5
}
