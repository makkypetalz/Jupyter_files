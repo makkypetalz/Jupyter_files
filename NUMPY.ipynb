{
 "cells": [
  {
   "cell_type": "markdown",
   "id": "5f944a1f",
   "metadata": {},
   "source": [
    "# install numpy library"
   ]
  },
  {
   "cell_type": "code",
   "execution_count": 1,
   "id": "dfe12d73",
   "metadata": {},
   "outputs": [
    {
     "name": "stdout",
     "output_type": "stream",
     "text": [
      "Requirement already satisfied: numpy in c:\\users\\hp\\anaconda3\\lib\\site-packages (1.24.3)\n"
     ]
    }
   ],
   "source": [
    "!pip install numpy"
   ]
  },
  {
   "cell_type": "markdown",
   "id": "4d3cf364",
   "metadata": {},
   "source": [
    "# import numpy"
   ]
  },
  {
   "cell_type": "code",
   "execution_count": 2,
   "id": "deedf193",
   "metadata": {},
   "outputs": [],
   "source": [
    "import numpy "
   ]
  },
  {
   "cell_type": "code",
   "execution_count": 3,
   "id": "98f8c37c",
   "metadata": {},
   "outputs": [],
   "source": [
    "newnum = numpy.array([1,2,3,4,5])"
   ]
  },
  {
   "cell_type": "code",
   "execution_count": 4,
   "id": "ac61d91a",
   "metadata": {},
   "outputs": [
    {
     "name": "stdout",
     "output_type": "stream",
     "text": [
      "[1 2 3 4 5]\n"
     ]
    }
   ],
   "source": [
    "print(newnum)"
   ]
  },
  {
   "cell_type": "markdown",
   "id": "ddf2e670",
   "metadata": {},
   "source": [
    "# using alias with numpy"
   ]
  },
  {
   "cell_type": "code",
   "execution_count": 25,
   "id": "61d30eea",
   "metadata": {},
   "outputs": [],
   "source": [
    "import numpy as np"
   ]
  },
  {
   "cell_type": "code",
   "execution_count": 6,
   "id": "4a53536a",
   "metadata": {},
   "outputs": [],
   "source": [
    "arr = np.array([5,6,7])"
   ]
  },
  {
   "cell_type": "code",
   "execution_count": 7,
   "id": "6858e477",
   "metadata": {},
   "outputs": [
    {
     "name": "stdout",
     "output_type": "stream",
     "text": [
      "[5 6 7]\n"
     ]
    }
   ],
   "source": [
    "print(arr)"
   ]
  },
  {
   "cell_type": "code",
   "execution_count": 8,
   "id": "c59dcd46",
   "metadata": {},
   "outputs": [],
   "source": [
    "# np. to check the functions numpy has"
   ]
  },
  {
   "cell_type": "markdown",
   "id": "329f44c6",
   "metadata": {},
   "source": [
    "# check numpy version"
   ]
  },
  {
   "cell_type": "code",
   "execution_count": 9,
   "id": "935df0fd",
   "metadata": {},
   "outputs": [
    {
     "name": "stdout",
     "output_type": "stream",
     "text": [
      "1.24.3\n"
     ]
    }
   ],
   "source": [
    "print(np.__version__)"
   ]
  },
  {
   "cell_type": "markdown",
   "id": "92f64355",
   "metadata": {},
   "source": [
    "# creating an array with numpy (type)"
   ]
  },
  {
   "cell_type": "code",
   "execution_count": 10,
   "id": "8ce83b97",
   "metadata": {},
   "outputs": [],
   "source": [
    "hh = np.array([55,66,77])"
   ]
  },
  {
   "cell_type": "code",
   "execution_count": 11,
   "id": "844a53ed",
   "metadata": {},
   "outputs": [
    {
     "name": "stdout",
     "output_type": "stream",
     "text": [
      "[55 66 77]\n",
      "<class 'numpy.ndarray'>\n"
     ]
    }
   ],
   "source": [
    "print(hh)\n",
    "print(type(hh))"
   ]
  },
  {
   "cell_type": "markdown",
   "id": "5f9e84de",
   "metadata": {},
   "source": [
    "# To create an ndarray, we can pass a list,tuple or any array-like object into the array"
   ]
  },
  {
   "cell_type": "code",
   "execution_count": 12,
   "id": "37acba32",
   "metadata": {},
   "outputs": [],
   "source": [
    "lp = np.array([89,34,88])"
   ]
  },
  {
   "cell_type": "code",
   "execution_count": 13,
   "id": "d34642b9",
   "metadata": {},
   "outputs": [
    {
     "name": "stdout",
     "output_type": "stream",
     "text": [
      "[89 34 88]\n"
     ]
    }
   ],
   "source": [
    "print(lp)"
   ]
  },
  {
   "cell_type": "markdown",
   "id": "005a03ac",
   "metadata": {},
   "source": [
    "# dimensions in array\n"
   ]
  },
  {
   "cell_type": "markdown",
   "id": "68716d8b",
   "metadata": {},
   "source": [
    "# 0-D Arrays"
   ]
  },
  {
   "cell_type": "code",
   "execution_count": 14,
   "id": "7e9db1f8",
   "metadata": {},
   "outputs": [
    {
     "name": "stdout",
     "output_type": "stream",
     "text": [
      "78\n"
     ]
    }
   ],
   "source": [
    "so = np.array(78)\n",
    "print(so)"
   ]
  },
  {
   "cell_type": "markdown",
   "id": "6913d9cf",
   "metadata": {},
   "source": [
    "# 1-D Arrays"
   ]
  },
  {
   "cell_type": "code",
   "execution_count": 15,
   "id": "2dae0b2e",
   "metadata": {},
   "outputs": [
    {
     "name": "stdout",
     "output_type": "stream",
     "text": [
      "[23 45 67 89]\n"
     ]
    }
   ],
   "source": [
    "kk = np.array([23,45,67,89])\n",
    "print(kk)"
   ]
  },
  {
   "cell_type": "markdown",
   "id": "1e7959f5",
   "metadata": {},
   "source": [
    "# 2-D Arrays"
   ]
  },
  {
   "cell_type": "code",
   "execution_count": 16,
   "id": "b53d31fd",
   "metadata": {},
   "outputs": [
    {
     "name": "stdout",
     "output_type": "stream",
     "text": [
      "[[1 2 3]\n",
      " [4 5 6]]\n"
     ]
    }
   ],
   "source": [
    "uu = np.array([[1,2,3], [4,5,6]])\n",
    "print(uu)"
   ]
  },
  {
   "cell_type": "markdown",
   "id": "8b5a79cd",
   "metadata": {},
   "source": [
    "# 3-D Arrays"
   ]
  },
  {
   "cell_type": "code",
   "execution_count": 17,
   "id": "7484a820",
   "metadata": {},
   "outputs": [
    {
     "name": "stdout",
     "output_type": "stream",
     "text": [
      "[[[1 2 3]\n",
      "  [4 5 6]]\n",
      "\n",
      " [[7 8 9]\n",
      "  [9 9 5]]]\n"
     ]
    }
   ],
   "source": [
    "pp = np.array([[[1,2,3],[4,5,6]],[[7,8,9],[9,9,5]]])\n",
    "print(pp)"
   ]
  },
  {
   "cell_type": "markdown",
   "id": "68c4956b",
   "metadata": {},
   "source": [
    "# To check the number of dimensions that an array has"
   ]
  },
  {
   "cell_type": "markdown",
   "id": "3549b7c0",
   "metadata": {},
   "source": [
    "# ndim() method"
   ]
  },
  {
   "cell_type": "code",
   "execution_count": 18,
   "id": "a322a9aa",
   "metadata": {},
   "outputs": [
    {
     "name": "stdout",
     "output_type": "stream",
     "text": [
      "0\n",
      "1\n",
      "2\n",
      "3\n"
     ]
    }
   ],
   "source": [
    "print(so.ndim)\n",
    "print(kk.ndim)\n",
    "print(uu.ndim)\n",
    "print(pp.ndim)"
   ]
  },
  {
   "cell_type": "markdown",
   "id": "30031f1d",
   "metadata": {},
   "source": [
    "# set the number of dimension"
   ]
  },
  {
   "cell_type": "code",
   "execution_count": 19,
   "id": "a1a1049b",
   "metadata": {},
   "outputs": [
    {
     "name": "stdout",
     "output_type": "stream",
     "text": [
      "[[[[[1 2 3]]]]]\n"
     ]
    }
   ],
   "source": [
    "arr = np.array([1,2,3], ndmin = 5)\n",
    "print(arr)"
   ]
  },
  {
   "cell_type": "markdown",
   "id": "f2b626b9",
   "metadata": {},
   "source": [
    "# indexing"
   ]
  },
  {
   "cell_type": "code",
   "execution_count": 20,
   "id": "9a28e7ba",
   "metadata": {},
   "outputs": [
    {
     "name": "stdout",
     "output_type": "stream",
     "text": [
      "2\n"
     ]
    }
   ],
   "source": [
    "art = np.array([1,2,3])\n",
    "print(art[1])"
   ]
  },
  {
   "cell_type": "markdown",
   "id": "24fbbed1",
   "metadata": {},
   "source": [
    "# Access 2D array"
   ]
  },
  {
   "cell_type": "code",
   "execution_count": 21,
   "id": "c7fd574e",
   "metadata": {},
   "outputs": [
    {
     "name": "stdout",
     "output_type": "stream",
     "text": [
      "2nd element on ist row:  2\n"
     ]
    }
   ],
   "source": [
    "jk = np.array([[1,2,3,4,5], [6,7,8,9,10]])\n",
    "print(\"2nd element on ist row: \", jk[0,1])"
   ]
  },
  {
   "cell_type": "code",
   "execution_count": 22,
   "id": "47b0ef0e",
   "metadata": {},
   "outputs": [
    {
     "name": "stdout",
     "output_type": "stream",
     "text": [
      "5th element on 2nd row:  10\n"
     ]
    }
   ],
   "source": [
    "jk = np.array([[1,2,3,4,5], [6,7,8,9,10]])\n",
    "print(\"5th element on 2nd row: \", jk[1,4])"
   ]
  },
  {
   "cell_type": "markdown",
   "id": "a93f2091",
   "metadata": {},
   "source": [
    "# Access 3D array"
   ]
  },
  {
   "cell_type": "code",
   "execution_count": 23,
   "id": "f8a3bf1d",
   "metadata": {},
   "outputs": [
    {
     "name": "stdout",
     "output_type": "stream",
     "text": [
      "6\n"
     ]
    }
   ],
   "source": [
    "mn = np.array([[[1,2,3],[4,5,6],[7,8,9],[10,11,12]]])\n",
    "print(mn[0,1,2])"
   ]
  },
  {
   "cell_type": "markdown",
   "id": "9396d514",
   "metadata": {},
   "source": [
    "# Negative indexing"
   ]
  },
  {
   "cell_type": "code",
   "execution_count": 24,
   "id": "64e7f6f9",
   "metadata": {},
   "outputs": [
    {
     "name": "stdout",
     "output_type": "stream",
     "text": [
      "Last element from 2nd dim:  10\n"
     ]
    }
   ],
   "source": [
    "arr = np.array([[1,2,3,4,5], [6,7,8,9,10]])\n",
    "print('Last element from 2nd dim: ', arr[1, -1])"
   ]
  },
  {
   "cell_type": "markdown",
   "id": "739a0503",
   "metadata": {},
   "source": [
    "# Array slicing"
   ]
  },
  {
   "cell_type": "code",
   "execution_count": 27,
   "id": "dbdd7536",
   "metadata": {},
   "outputs": [
    {
     "name": "stdout",
     "output_type": "stream",
     "text": [
      "[2 3 4 5]\n"
     ]
    }
   ],
   "source": [
    "arr = np.array([1, 2, 3, 4, 5, 6, 7])\n",
    "print(arr[1:5])"
   ]
  },
  {
   "cell_type": "code",
   "execution_count": 29,
   "id": "33bc2353",
   "metadata": {},
   "outputs": [
    {
     "name": "stdout",
     "output_type": "stream",
     "text": [
      "[5 6 7]\n"
     ]
    }
   ],
   "source": [
    "arr = np.array([1, 2, 3, 4, 5, 6, 7])\n",
    "print(arr[4:])"
   ]
  },
  {
   "cell_type": "markdown",
   "id": "ef5f5c7c",
   "metadata": {},
   "source": [
    "# Negative slicing"
   ]
  },
  {
   "cell_type": "code",
   "execution_count": 31,
   "id": "e9f42de5",
   "metadata": {},
   "outputs": [
    {
     "name": "stdout",
     "output_type": "stream",
     "text": [
      "[5 6]\n"
     ]
    }
   ],
   "source": [
    "arr = np.array([1, 2, 3, 4, 5, 6, 7])\n",
    "print(arr[-3:-1])"
   ]
  },
  {
   "cell_type": "markdown",
   "id": "b40247ae",
   "metadata": {},
   "source": [
    "# STEP"
   ]
  },
  {
   "cell_type": "code",
   "execution_count": 33,
   "id": "c9d8f43b",
   "metadata": {},
   "outputs": [
    {
     "name": "stdout",
     "output_type": "stream",
     "text": [
      "[2 4]\n"
     ]
    }
   ],
   "source": [
    "arr = np.array([1, 2, 3, 4, 5, 6, 7])\n",
    "print(arr[1:5:2])"
   ]
  },
  {
   "cell_type": "code",
   "execution_count": 35,
   "id": "f2ae7255",
   "metadata": {},
   "outputs": [
    {
     "name": "stdout",
     "output_type": "stream",
     "text": [
      "[1 3 5 7]\n"
     ]
    }
   ],
   "source": [
    "arr = np.array([1, 2, 3, 4, 5, 6, 7])\n",
    "print(arr[::2])"
   ]
  },
  {
   "cell_type": "markdown",
   "id": "612d3fb1",
   "metadata": {},
   "source": [
    "# Slicing 2D array"
   ]
  },
  {
   "cell_type": "code",
   "execution_count": 37,
   "id": "614020c9",
   "metadata": {},
   "outputs": [
    {
     "name": "stdout",
     "output_type": "stream",
     "text": [
      "[7 8 9]\n"
     ]
    }
   ],
   "source": [
    "arr = np.array([[1, 2, 3, 4, 5], [6, 7, 8, 9, 10]])\n",
    "print(arr[1, 1:4])"
   ]
  },
  {
   "cell_type": "code",
   "execution_count": 39,
   "id": "cf5dbfa0",
   "metadata": {},
   "outputs": [
    {
     "name": "stdout",
     "output_type": "stream",
     "text": [
      "[3 8]\n"
     ]
    }
   ],
   "source": [
    "arr = np.array([[1, 2, 3, 4, 5], [6, 7, 8, 9, 10]])\n",
    "print(arr[0:2, 2])"
   ]
  },
  {
   "cell_type": "code",
   "execution_count": 40,
   "id": "946ce590",
   "metadata": {},
   "outputs": [
    {
     "name": "stdout",
     "output_type": "stream",
     "text": [
      "[[2 3 4]\n",
      " [7 8 9]]\n"
     ]
    }
   ],
   "source": [
    "arr = np.array([[1, 2, 3, 4, 5], [6, 7, 8, 9, 10]])\n",
    "print(arr[0:2, 1:4])"
   ]
  },
  {
   "cell_type": "markdown",
   "id": "fa56e383",
   "metadata": {},
   "source": [
    "# Checking the data type of an array"
   ]
  },
  {
   "cell_type": "code",
   "execution_count": 46,
   "id": "e28b9fac",
   "metadata": {},
   "outputs": [
    {
     "name": "stdout",
     "output_type": "stream",
     "text": [
      "int32\n"
     ]
    }
   ],
   "source": [
    "arr = np.array([1, 2, 3, 4])\n",
    "print(arr.dtype)"
   ]
  },
  {
   "cell_type": "code",
   "execution_count": 48,
   "id": "4be31243",
   "metadata": {},
   "outputs": [
    {
     "name": "stdout",
     "output_type": "stream",
     "text": [
      "<U6\n"
     ]
    }
   ],
   "source": [
    "arr = np.array(['apple', 'banana', 'cherry'])\n",
    "print(arr.dtype)"
   ]
  },
  {
   "cell_type": "markdown",
   "id": "89b8bf33",
   "metadata": {},
   "source": [
    "# Creating Arrays With a Defined Data Type"
   ]
  },
  {
   "cell_type": "code",
   "execution_count": 42,
   "id": "42a74e96",
   "metadata": {},
   "outputs": [
    {
     "name": "stdout",
     "output_type": "stream",
     "text": [
      "[b'1' b'2' b'3' b'4']\n",
      "|S1\n"
     ]
    }
   ],
   "source": [
    "arr = np.array([1, 2, 3, 4], dtype='S')\n",
    "print(arr)\n",
    "print(arr.dtype)"
   ]
  },
  {
   "cell_type": "code",
   "execution_count": 49,
   "id": "eaecc0ca",
   "metadata": {},
   "outputs": [
    {
     "name": "stdout",
     "output_type": "stream",
     "text": [
      "[1 2 3 4]\n",
      "int32\n"
     ]
    }
   ],
   "source": [
    "arr = np.array([1, 2, 3, 4], dtype='i4')\n",
    "print(arr)\n",
    "print(arr.dtype)"
   ]
  },
  {
   "cell_type": "markdown",
   "id": "7fc3abee",
   "metadata": {},
   "source": [
    "# Converting Data Type on Existing Arrays"
   ]
  },
  {
   "cell_type": "code",
   "execution_count": 51,
   "id": "9d476605",
   "metadata": {},
   "outputs": [
    {
     "name": "stdout",
     "output_type": "stream",
     "text": [
      "[1 2 3]\n",
      "int32\n"
     ]
    }
   ],
   "source": [
    "arr = np.array([1.1, 2.1, 3.1])\n",
    "newarr = arr.astype('i')\n",
    "print(newarr)\n",
    "print(newarr.dtype)"
   ]
  },
  {
   "cell_type": "code",
   "execution_count": 53,
   "id": "b4ac84c1",
   "metadata": {},
   "outputs": [
    {
     "name": "stdout",
     "output_type": "stream",
     "text": [
      "[1 2 3]\n",
      "int32\n"
     ]
    }
   ],
   "source": [
    "arr = np.array([1.1, 2.1, 3.1])\n",
    "newarr = arr.astype(int)\n",
    "print(newarr)\n",
    "print(newarr.dtype)"
   ]
  },
  {
   "cell_type": "markdown",
   "id": "fd73adb9",
   "metadata": {},
   "source": [
    "# Copy method"
   ]
  },
  {
   "cell_type": "code",
   "execution_count": 55,
   "id": "b25c643a",
   "metadata": {},
   "outputs": [
    {
     "name": "stdout",
     "output_type": "stream",
     "text": [
      "[42  2  3  4  5]\n",
      "[1 2 3 4 5]\n"
     ]
    }
   ],
   "source": [
    "arr = np.array([1, 2, 3, 4, 5])\n",
    "x = arr.copy()\n",
    "arr[0] = 42\n",
    "print(arr)\n",
    "print(x)"
   ]
  },
  {
   "cell_type": "markdown",
   "id": "045a0aea",
   "metadata": {},
   "source": [
    "# view method"
   ]
  },
  {
   "cell_type": "code",
   "execution_count": 56,
   "id": "11062c7e",
   "metadata": {},
   "outputs": [
    {
     "name": "stdout",
     "output_type": "stream",
     "text": [
      "[31  2  3  4  5]\n",
      "[31  2  3  4  5]\n"
     ]
    }
   ],
   "source": [
    "arr = np.array([1, 2, 3, 4, 5])\n",
    "x = arr.view()\n",
    "x[0] = 31\n",
    "print(arr)\n",
    "print(x)"
   ]
  }
 ],
 "metadata": {
  "kernelspec": {
   "display_name": "Python 3 (ipykernel)",
   "language": "python",
   "name": "python3"
  },
  "language_info": {
   "codemirror_mode": {
    "name": "ipython",
    "version": 3
   },
   "file_extension": ".py",
   "mimetype": "text/x-python",
   "name": "python",
   "nbconvert_exporter": "python",
   "pygments_lexer": "ipython3",
   "version": "3.11.5"
  }
 },
 "nbformat": 4,
 "nbformat_minor": 5
}
