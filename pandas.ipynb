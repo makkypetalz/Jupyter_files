{
 "cells": [
  {
   "cell_type": "code",
   "execution_count": 1,
   "id": "e939d41c",
   "metadata": {},
   "outputs": [],
   "source": [
    "import pandas as pd"
   ]
  },
  {
   "cell_type": "code",
   "execution_count": 6,
   "id": "4507981b",
   "metadata": {},
   "outputs": [],
   "source": [
    "mydataset = {\n",
    "  'cars': [\"BMW\", \"Volvo\", \"Ford\"],\n",
    "  'passings': [3, 7, 2]\n",
    "}\n"
   ]
  },
  {
   "cell_type": "code",
   "execution_count": 10,
   "id": "d40b5451",
   "metadata": {},
   "outputs": [
    {
     "name": "stdout",
     "output_type": "stream",
     "text": [
      "    cars  passings\n",
      "0    BMW         3\n",
      "1  Volvo         7\n",
      "2   Ford         2\n"
     ]
    }
   ],
   "source": [
    "newpd = pd.DataFrame(mydataset)\n",
    "print(newpd)"
   ]
  },
  {
   "cell_type": "markdown",
   "id": "829563af",
   "metadata": {},
   "source": [
    "# To check the version"
   ]
  },
  {
   "cell_type": "code",
   "execution_count": 11,
   "id": "1c45275f",
   "metadata": {},
   "outputs": [
    {
     "name": "stdout",
     "output_type": "stream",
     "text": [
      "2.0.3\n"
     ]
    }
   ],
   "source": [
    "print(pd.__version__)"
   ]
  },
  {
   "cell_type": "markdown",
   "id": "fa4f7a1d",
   "metadata": {},
   "source": [
    "# Series\n",
    "pd.series"
   ]
  },
  {
   "cell_type": "code",
   "execution_count": 13,
   "id": "ce9c97ec",
   "metadata": {},
   "outputs": [
    {
     "name": "stdout",
     "output_type": "stream",
     "text": [
      "0    1\n",
      "1    7\n",
      "2    2\n",
      "dtype: int64\n"
     ]
    }
   ],
   "source": [
    "a = [1, 7, 2]\n",
    "myvar = pd.Series(a)\n",
    "print(myvar)\n"
   ]
  },
  {
   "cell_type": "markdown",
   "id": "819ab33d",
   "metadata": {},
   "source": [
    "# Return the first value of the series"
   ]
  },
  {
   "cell_type": "code",
   "execution_count": 19,
   "id": "010192d8",
   "metadata": {},
   "outputs": [
    {
     "name": "stdout",
     "output_type": "stream",
     "text": [
      "1\n"
     ]
    }
   ],
   "source": [
    "print(myvar[0])\n"
   ]
  },
  {
   "cell_type": "markdown",
   "id": "930b2cce",
   "metadata": {},
   "source": [
    "# Create labels"
   ]
  },
  {
   "cell_type": "code",
   "execution_count": 18,
   "id": "009b8a87",
   "metadata": {},
   "outputs": [
    {
     "name": "stdout",
     "output_type": "stream",
     "text": [
      "0    1\n",
      "1    7\n",
      "2    2\n",
      "dtype: int64\n"
     ]
    }
   ],
   "source": [
    "a = [1, 7, 2]\n",
    "myvar = pd.Series(a)\n",
    "print(myvar)\n"
   ]
  },
  {
   "cell_type": "code",
   "execution_count": 20,
   "id": "94edd337",
   "metadata": {},
   "outputs": [
    {
     "name": "stdout",
     "output_type": "stream",
     "text": [
      "x    1\n",
      "y    7\n",
      "z    2\n",
      "dtype: int64\n"
     ]
    }
   ],
   "source": [
    "a = [1, 7, 2]\n",
    "myvar = pd.Series(a, index = [\"x\", \"y\", \"z\"])\n",
    "print(myvar)\n"
   ]
  },
  {
   "cell_type": "markdown",
   "id": "ffd64c0c",
   "metadata": {},
   "source": [
    "# Key/Value Objects as Series\n"
   ]
  },
  {
   "cell_type": "code",
   "execution_count": 22,
   "id": "f3f237ae",
   "metadata": {},
   "outputs": [
    {
     "name": "stdout",
     "output_type": "stream",
     "text": [
      "day1    420\n",
      "day2    380\n",
      "day3    390\n",
      "dtype: int64\n"
     ]
    }
   ],
   "source": [
    "calories = {\"day1\": 420, \"day2\": 380, \"day3\": 390}\n",
    "myvar = pd.Series(calories)\n",
    "print(myvar)\n"
   ]
  },
  {
   "cell_type": "markdown",
   "id": "31408f63",
   "metadata": {},
   "source": [
    "# To select only two item in the dictionary"
   ]
  },
  {
   "cell_type": "code",
   "execution_count": 24,
   "id": "876e1241",
   "metadata": {},
   "outputs": [
    {
     "name": "stdout",
     "output_type": "stream",
     "text": [
      "day1    420\n",
      "day2    380\n",
      "dtype: int64\n"
     ]
    }
   ],
   "source": [
    "calories = {\"day1\": 420, \"day2\": 380, \"day3\": 390}\n",
    "myvar = pd.Series(calories, index = [\"day1\", \"day2\"])\n",
    "print(myvar)\n"
   ]
  },
  {
   "cell_type": "code",
   "execution_count": 25,
   "id": "757bd879",
   "metadata": {},
   "outputs": [
    {
     "name": "stdout",
     "output_type": "stream",
     "text": [
      "   calories  duration\n",
      "0       420        50\n",
      "1       380        40\n",
      "2       390        45\n"
     ]
    }
   ],
   "source": [
    "data = {\n",
    "  \"calories\": [420, 380, 390],\n",
    "  \"duration\": [50, 40, 45]\n",
    "}\n",
    "myvar = pd.DataFrame(data)\n",
    "\n",
    "print(myvar)\n"
   ]
  }
 ],
 "metadata": {
  "kernelspec": {
   "display_name": "Python 3 (ipykernel)",
   "language": "python",
   "name": "python3"
  },
  "language_info": {
   "codemirror_mode": {
    "name": "ipython",
    "version": 3
   },
   "file_extension": ".py",
   "mimetype": "text/x-python",
   "name": "python",
   "nbconvert_exporter": "python",
   "pygments_lexer": "ipython3",
   "version": "3.11.5"
  }
 },
 "nbformat": 4,
 "nbformat_minor": 5
}
