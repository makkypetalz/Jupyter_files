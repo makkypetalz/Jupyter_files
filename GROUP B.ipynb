{
 "cells": [
  {
   "cell_type": "markdown",
   "id": "e9bbfdc0",
   "metadata": {},
   "source": [
    "# GROUP B"
   ]
  },
  {
   "cell_type": "code",
   "execution_count": 1,
   "id": "66d381b4",
   "metadata": {},
   "outputs": [],
   "source": [
    "# write a python script for a store that:\n",
    "#     1. Has 20 items in thier store, the users can select any product in the store and the quantity of the product they want\n",
    "#     2. Create 5 different promo code with different discounts of 5%, 10%, 15%, 25%, 30%, respectively, and the discount should be deducted on the total amount of the product purchased."
   ]
  },
  {
   "cell_type": "code",
   "execution_count": 2,
   "id": "3bda2d9e",
   "metadata": {},
   "outputs": [],
   "source": [
    "store = [\"torch\", \"perfume\", \"earring\", \"mop\", \"comb\", \"jotter\", \"kettle\", \"milk\", \"tea\", \"jug\", \"pencil\", \"sunscreen\", \"eyeglass\", \"lotion\", \"fruits\", \"books\", \"bread\", \"rice\", \"beans\", \"veggies\"]"
   ]
  },
  {
   "cell_type": "code",
   "execution_count": 3,
   "id": "88d99652",
   "metadata": {},
   "outputs": [
    {
     "name": "stdout",
     "output_type": "stream",
     "text": [
      "['torch', 'perfume', 'earring', 'mop', 'comb', 'jotter', 'kettle', 'milk', 'tea', 'jug', 'pencil', 'sunscreen', 'eyeglass', 'lotion', 'fruits', 'books', 'bread', 'rice', 'beans', 'veggies']\n"
     ]
    }
   ],
   "source": [
    "print(store)"
   ]
  },
  {
   "cell_type": "code",
   "execution_count": 4,
   "id": "7b90e6d1",
   "metadata": {},
   "outputs": [
    {
     "name": "stdout",
     "output_type": "stream",
     "text": [
      "20\n"
     ]
    }
   ],
   "source": [
    "print(len(store))"
   ]
  },
  {
   "cell_type": "code",
   "execution_count": 5,
   "id": "51dee192",
   "metadata": {},
   "outputs": [
    {
     "name": "stdout",
     "output_type": "stream",
     "text": [
      "Enter the product name: eyeglass\n",
      "Enter the quantity of the product: 7\n",
      "Enter the price of the product: 15000\n",
      "the discount is: 15750.0\n",
      "the total amount is: 89250.0\n"
     ]
    }
   ],
   "source": [
    "product = input(\"Enter the product name: \")\n",
    "quantity = float(input(\"Enter the quantity of the product: \"))\n",
    "amount = float(input(\"Enter the price of the product: \"))\n",
    "\n",
    "if amount > 0 and quantity > 0:\n",
    "    if (amount * quantity) <= 10000:\n",
    "        discount = (amount * quantity) * 5/100\n",
    "    elif (amount * quantity) <= 100000:\n",
    "        discount = (amount * quantity) * 10/100\n",
    "    elif (amount * quantity) <= 200000:\n",
    "        discount = (amount * quantity) * 15/100\n",
    "    elif (amount * quantity) <= 400000:\n",
    "        discount = (amount * quantity) * 25/100\n",
    "    else:\n",
    "         discount = (amount * quantity) * 30/100\n",
    "    print(\"the discount is: \" + str(discount))\n",
    "    print(\"the total amount is: \" + str((amount * quantity)-discount))\n",
    "else:\n",
    "     print(\"not right\")               \n",
    "                    "
   ]
  },
  {
   "cell_type": "code",
   "execution_count": null,
   "id": "0336effe",
   "metadata": {},
   "outputs": [],
   "source": []
  },
  {
   "cell_type": "code",
   "execution_count": null,
   "id": "f38292f5",
   "metadata": {},
   "outputs": [],
   "source": []
  }
 ],
 "metadata": {
  "kernelspec": {
   "display_name": "Python 3 (ipykernel)",
   "language": "python",
   "name": "python3"
  },
  "language_info": {
   "codemirror_mode": {
    "name": "ipython",
    "version": 3
   },
   "file_extension": ".py",
   "mimetype": "text/x-python",
   "name": "python",
   "nbconvert_exporter": "python",
   "pygments_lexer": "ipython3",
   "version": "3.11.5"
  }
 },
 "nbformat": 4,
 "nbformat_minor": 5
}
