{
 "cells": [
  {
   "cell_type": "code",
   "execution_count": 1,
   "id": "521c2fe1",
   "metadata": {},
   "outputs": [],
   "source": [
    "mytuple = (23,45,78,\"lion\",\"tiger\",True,False,90.7)"
   ]
  },
  {
   "cell_type": "code",
   "execution_count": 2,
   "id": "ac7f01cf",
   "metadata": {},
   "outputs": [
    {
     "name": "stdout",
     "output_type": "stream",
     "text": [
      "(23, 45, 78, 'lion', 'tiger', True, False, 90.7)\n"
     ]
    }
   ],
   "source": [
    "print(mytuple)"
   ]
  },
  {
   "cell_type": "code",
   "execution_count": 3,
   "id": "0da7caa1",
   "metadata": {},
   "outputs": [],
   "source": [
    "ntuple = (3,5,3,5,3,5,3,5)"
   ]
  },
  {
   "cell_type": "code",
   "execution_count": 4,
   "id": "c69c2f49",
   "metadata": {},
   "outputs": [
    {
     "name": "stdout",
     "output_type": "stream",
     "text": [
      "(3, 5, 3, 5, 3, 5, 3, 5)\n"
     ]
    }
   ],
   "source": [
    "print(ntuple)"
   ]
  },
  {
   "cell_type": "code",
   "execution_count": 5,
   "id": "b5626df9",
   "metadata": {},
   "outputs": [],
   "source": [
    "# Tuple is unchangeable but you can change it by converting to a list"
   ]
  },
  {
   "cell_type": "markdown",
   "id": "e9b4bed2",
   "metadata": {},
   "source": [
    "# Tuple constructor"
   ]
  },
  {
   "cell_type": "code",
   "execution_count": 6,
   "id": "70aa2b46",
   "metadata": {},
   "outputs": [],
   "source": [
    "ktuple = tuple((34,55,66))"
   ]
  },
  {
   "cell_type": "code",
   "execution_count": 7,
   "id": "784f3831",
   "metadata": {},
   "outputs": [
    {
     "name": "stdout",
     "output_type": "stream",
     "text": [
      "(34, 55, 66)\n"
     ]
    }
   ],
   "source": [
    "print(ktuple)"
   ]
  },
  {
   "cell_type": "markdown",
   "id": "209f6c2f",
   "metadata": {},
   "source": [
    "# len() function is used to check the item/values we have in a tuple"
   ]
  },
  {
   "cell_type": "code",
   "execution_count": 8,
   "id": "89216f56",
   "metadata": {},
   "outputs": [
    {
     "data": {
      "text/plain": [
       "8"
      ]
     },
     "execution_count": 8,
     "metadata": {},
     "output_type": "execute_result"
    }
   ],
   "source": [
    "len(ntuple)"
   ]
  },
  {
   "cell_type": "markdown",
   "id": "ab0f788d",
   "metadata": {},
   "source": [
    "# whenever we want to create a tuple with one item,we should add a comma,else python will recognise it as a string"
   ]
  },
  {
   "cell_type": "code",
   "execution_count": 9,
   "id": "65e66839",
   "metadata": {},
   "outputs": [
    {
     "name": "stdout",
     "output_type": "stream",
     "text": [
      "(3, 5, 3, 5, 3, 5, 3, 5)\n"
     ]
    }
   ],
   "source": [
    "print(ntuple)"
   ]
  },
  {
   "cell_type": "code",
   "execution_count": 10,
   "id": "2039cce7",
   "metadata": {},
   "outputs": [
    {
     "name": "stdout",
     "output_type": "stream",
     "text": [
      "<class 'tuple'>\n"
     ]
    }
   ],
   "source": [
    "print(type(ntuple))"
   ]
  },
  {
   "cell_type": "code",
   "execution_count": 11,
   "id": "62bbffa5",
   "metadata": {},
   "outputs": [],
   "source": [
    "ptuple = (\"hello\",)"
   ]
  },
  {
   "cell_type": "code",
   "execution_count": 12,
   "id": "06f49936",
   "metadata": {},
   "outputs": [
    {
     "name": "stdout",
     "output_type": "stream",
     "text": [
      "('hello',)\n"
     ]
    }
   ],
   "source": [
    "print(ptuple)"
   ]
  },
  {
   "cell_type": "code",
   "execution_count": 13,
   "id": "8512197f",
   "metadata": {},
   "outputs": [
    {
     "name": "stdout",
     "output_type": "stream",
     "text": [
      "<class 'tuple'>\n"
     ]
    }
   ],
   "source": [
    "print(type(ptuple))"
   ]
  },
  {
   "cell_type": "code",
   "execution_count": 14,
   "id": "1f7e4aa2",
   "metadata": {},
   "outputs": [],
   "source": [
    "j = tuple((1,2,3,4))"
   ]
  },
  {
   "cell_type": "code",
   "execution_count": 15,
   "id": "abdbf34a",
   "metadata": {},
   "outputs": [
    {
     "name": "stdout",
     "output_type": "stream",
     "text": [
      "(1, 2, 3, 4)\n"
     ]
    }
   ],
   "source": [
    "print(j)"
   ]
  },
  {
   "cell_type": "markdown",
   "id": "93aefe88",
   "metadata": {},
   "source": [
    "# Accessing tuple"
   ]
  },
  {
   "cell_type": "code",
   "execution_count": 16,
   "id": "81ddf22d",
   "metadata": {},
   "outputs": [
    {
     "name": "stdout",
     "output_type": "stream",
     "text": [
      "(23, 45, 78, 'lion', 'tiger', True, False, 90.7)\n"
     ]
    }
   ],
   "source": [
    "print(mytuple)"
   ]
  },
  {
   "cell_type": "code",
   "execution_count": 17,
   "id": "5b61a779",
   "metadata": {},
   "outputs": [
    {
     "name": "stdout",
     "output_type": "stream",
     "text": [
      "tiger\n"
     ]
    }
   ],
   "source": [
    "print(mytuple[4])"
   ]
  },
  {
   "cell_type": "code",
   "execution_count": 18,
   "id": "a6d39d4d",
   "metadata": {},
   "outputs": [
    {
     "name": "stdout",
     "output_type": "stream",
     "text": [
      "False\n"
     ]
    }
   ],
   "source": [
    "print(mytuple[-2])"
   ]
  },
  {
   "cell_type": "code",
   "execution_count": 19,
   "id": "615e0169",
   "metadata": {},
   "outputs": [
    {
     "name": "stdout",
     "output_type": "stream",
     "text": [
      "(78, 'lion', 'tiger', True)\n"
     ]
    }
   ],
   "source": [
    "print(mytuple[2:6])"
   ]
  },
  {
   "cell_type": "code",
   "execution_count": 20,
   "id": "58de2dac",
   "metadata": {},
   "outputs": [
    {
     "name": "stdout",
     "output_type": "stream",
     "text": [
      "(23, 45, 78, 'lion')\n"
     ]
    }
   ],
   "source": [
    "print(mytuple[:4])"
   ]
  },
  {
   "cell_type": "code",
   "execution_count": 21,
   "id": "786e9b0f",
   "metadata": {},
   "outputs": [
    {
     "name": "stdout",
     "output_type": "stream",
     "text": [
      "('lion', 'tiger', True, False, 90.7)\n"
     ]
    }
   ],
   "source": [
    "print(mytuple[3:])"
   ]
  },
  {
   "cell_type": "code",
   "execution_count": 22,
   "id": "00584385",
   "metadata": {},
   "outputs": [
    {
     "name": "stdout",
     "output_type": "stream",
     "text": [
      "(78, 'lion', 'tiger')\n"
     ]
    }
   ],
   "source": [
    "print(mytuple[-6:-3])"
   ]
  },
  {
   "cell_type": "markdown",
   "id": "a0fbe29b",
   "metadata": {},
   "source": [
    "# To check if an item exists in a tuple"
   ]
  },
  {
   "cell_type": "code",
   "execution_count": 23,
   "id": "1a02d8ae",
   "metadata": {},
   "outputs": [
    {
     "name": "stdout",
     "output_type": "stream",
     "text": [
      "(23, 45, 78, 'lion', 'tiger', True, False, 90.7)\n"
     ]
    }
   ],
   "source": [
    "print(mytuple)"
   ]
  },
  {
   "cell_type": "code",
   "execution_count": 24,
   "id": "ae8a36d4",
   "metadata": {},
   "outputs": [
    {
     "name": "stdout",
     "output_type": "stream",
     "text": [
      "True\n"
     ]
    }
   ],
   "source": [
    "print(\"lion\" in mytuple)"
   ]
  },
  {
   "cell_type": "code",
   "execution_count": 25,
   "id": "d583df1d",
   "metadata": {},
   "outputs": [
    {
     "name": "stdout",
     "output_type": "stream",
     "text": [
      "True\n"
     ]
    }
   ],
   "source": [
    "print(90.7 in mytuple)"
   ]
  },
  {
   "cell_type": "code",
   "execution_count": 26,
   "id": "07640868",
   "metadata": {},
   "outputs": [
    {
     "name": "stdout",
     "output_type": "stream",
     "text": [
      "True\n"
     ]
    }
   ],
   "source": [
    "print(True in mytuple)"
   ]
  },
  {
   "cell_type": "code",
   "execution_count": 27,
   "id": "ac896375",
   "metadata": {},
   "outputs": [
    {
     "name": "stdout",
     "output_type": "stream",
     "text": [
      "False\n"
     ]
    }
   ],
   "source": [
    "print(\"yes\" in mytuple)"
   ]
  },
  {
   "cell_type": "code",
   "execution_count": null,
   "id": "75018a7a",
   "metadata": {},
   "outputs": [],
   "source": []
  }
 ],
 "metadata": {
  "kernelspec": {
   "display_name": "Python 3 (ipykernel)",
   "language": "python",
   "name": "python3"
  },
  "language_info": {
   "codemirror_mode": {
    "name": "ipython",
    "version": 3
   },
   "file_extension": ".py",
   "mimetype": "text/x-python",
   "name": "python",
   "nbconvert_exporter": "python",
   "pygments_lexer": "ipython3",
   "version": "3.11.5"
  }
 },
 "nbformat": 4,
 "nbformat_minor": 5
}
