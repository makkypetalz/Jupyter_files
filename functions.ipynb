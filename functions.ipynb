{
 "cells": [
  {
   "cell_type": "code",
   "execution_count": 1,
   "id": "07560d4b",
   "metadata": {},
   "outputs": [
    {
     "name": "stdout",
     "output_type": "stream",
     "text": [
      "78\n",
      "<class 'int'>\n"
     ]
    }
   ],
   "source": [
    "d = 78\n",
    "print(d)\n",
    "print(type(d))"
   ]
  },
  {
   "cell_type": "markdown",
   "id": "c1be121f",
   "metadata": {},
   "source": [
    "# def keyword to create a function"
   ]
  },
  {
   "cell_type": "code",
   "execution_count": 2,
   "id": "9778f0e8",
   "metadata": {},
   "outputs": [],
   "source": [
    "def my_function():\n",
    "    print(\"hello, code anambra\")"
   ]
  },
  {
   "cell_type": "code",
   "execution_count": 3,
   "id": "80433ca4",
   "metadata": {},
   "outputs": [
    {
     "name": "stdout",
     "output_type": "stream",
     "text": [
      "hello, code anambra\n"
     ]
    }
   ],
   "source": [
    "my_function()"
   ]
  },
  {
   "cell_type": "markdown",
   "id": "a3b19165",
   "metadata": {},
   "source": [
    "# function with argument"
   ]
  },
  {
   "cell_type": "code",
   "execution_count": 4,
   "id": "fca9a268",
   "metadata": {},
   "outputs": [],
   "source": [
    "def name(fname):\n",
    "    print(fname + \" code anambra\")"
   ]
  },
  {
   "cell_type": "code",
   "execution_count": 5,
   "id": "73654c59",
   "metadata": {},
   "outputs": [
    {
     "name": "stdout",
     "output_type": "stream",
     "text": [
      "samuel code anambra\n"
     ]
    }
   ],
   "source": [
    "name(\"samuel\")"
   ]
  },
  {
   "cell_type": "code",
   "execution_count": 6,
   "id": "1fecca3c",
   "metadata": {},
   "outputs": [
    {
     "name": "stdout",
     "output_type": "stream",
     "text": [
      "josh code anambra\n"
     ]
    }
   ],
   "source": [
    "name(\"josh\")"
   ]
  },
  {
   "cell_type": "code",
   "execution_count": 7,
   "id": "9333b3d2",
   "metadata": {},
   "outputs": [],
   "source": [
    "def add(a,b):\n",
    "    print(a+b)"
   ]
  },
  {
   "cell_type": "code",
   "execution_count": 8,
   "id": "9dd2f054",
   "metadata": {},
   "outputs": [
    {
     "name": "stdout",
     "output_type": "stream",
     "text": [
      "101\n"
     ]
    }
   ],
   "source": [
    "add(34,67)"
   ]
  },
  {
   "cell_type": "code",
   "execution_count": 9,
   "id": "f82f9ec0",
   "metadata": {},
   "outputs": [],
   "source": [
    "def full_name(fname,lastname):\n",
    "    print(fname + \" \" + lastname)"
   ]
  },
  {
   "cell_type": "code",
   "execution_count": 10,
   "id": "7a541550",
   "metadata": {},
   "outputs": [
    {
     "name": "stdout",
     "output_type": "stream",
     "text": [
      "code  anambra\n"
     ]
    }
   ],
   "source": [
    "full_name(\"code\", \" anambra\")"
   ]
  },
  {
   "cell_type": "markdown",
   "id": "8efd0a2f",
   "metadata": {},
   "source": [
    "# arbitrary argument *"
   ]
  },
  {
   "cell_type": "code",
   "execution_count": 11,
   "id": "47689cfb",
   "metadata": {},
   "outputs": [
    {
     "name": "stdout",
     "output_type": "stream",
     "text": [
      "3\n"
     ]
    }
   ],
   "source": [
    "mylist = [1,2,3,4,5,6]\n",
    "print(mylist[2])"
   ]
  },
  {
   "cell_type": "code",
   "execution_count": 12,
   "id": "81b82503",
   "metadata": {},
   "outputs": [],
   "source": [
    "def hit(*kids):\n",
    "    print(\"the second born is \" + kids[2])"
   ]
  },
  {
   "cell_type": "code",
   "execution_count": 13,
   "id": "df6622e6",
   "metadata": {},
   "outputs": [
    {
     "name": "stdout",
     "output_type": "stream",
     "text": [
      "the second born is joseph\n"
     ]
    }
   ],
   "source": [
    "hit(\"ada\", \"john\", \"joseph\", \"sam\")"
   ]
  },
  {
   "cell_type": "markdown",
   "id": "fc3e0314",
   "metadata": {},
   "source": [
    "# keyword argument"
   ]
  },
  {
   "cell_type": "code",
   "execution_count": 14,
   "id": "b36dff7b",
   "metadata": {},
   "outputs": [],
   "source": [
    "def my_function(class1, class2, class3):\n",
    "    print(\"the best class is \" + class2)"
   ]
  },
  {
   "cell_type": "code",
   "execution_count": 15,
   "id": "c4bb06be",
   "metadata": {},
   "outputs": [
    {
     "name": "stdout",
     "output_type": "stream",
     "text": [
      "the best class is python\n"
     ]
    }
   ],
   "source": [
    "my_function(class1 = \"AI\", class2 = \"python\", class3 = \"web\")"
   ]
  },
  {
   "cell_type": "markdown",
   "id": "7c11a895",
   "metadata": {},
   "source": [
    "# arbitrary keyword argument **"
   ]
  },
  {
   "cell_type": "code",
   "execution_count": 16,
   "id": "f65534ae",
   "metadata": {},
   "outputs": [],
   "source": [
    "def ok(**kids):\n",
    "    print(\"your last name is \" + kids[\"lname\"])"
   ]
  },
  {
   "cell_type": "code",
   "execution_count": 17,
   "id": "fa45f45f",
   "metadata": {},
   "outputs": [
    {
     "name": "stdout",
     "output_type": "stream",
     "text": [
      "your last name is josh\n"
     ]
    }
   ],
   "source": [
    "ok(fname = \"code\", lname = \"josh\" )"
   ]
  },
  {
   "cell_type": "markdown",
   "id": "a6fa44b3",
   "metadata": {},
   "source": [
    "# default parameter value"
   ]
  },
  {
   "cell_type": "code",
   "execution_count": 18,
   "id": "7eabefd8",
   "metadata": {},
   "outputs": [],
   "source": [
    "def go(country = \"nigeria\"):\n",
    "    print(\" you are from \" + country)"
   ]
  },
  {
   "cell_type": "code",
   "execution_count": 19,
   "id": "4e49d46a",
   "metadata": {},
   "outputs": [
    {
     "name": "stdout",
     "output_type": "stream",
     "text": [
      " you are from namibia\n"
     ]
    }
   ],
   "source": [
    "go(\"namibia\")"
   ]
  },
  {
   "cell_type": "code",
   "execution_count": 20,
   "id": "9497ecf1",
   "metadata": {},
   "outputs": [
    {
     "name": "stdout",
     "output_type": "stream",
     "text": [
      " you are from canada\n"
     ]
    }
   ],
   "source": [
    "go(\"canada\")"
   ]
  },
  {
   "cell_type": "code",
   "execution_count": 22,
   "id": "e8514186",
   "metadata": {},
   "outputs": [
    {
     "name": "stdout",
     "output_type": "stream",
     "text": [
      " you are from nigeria\n"
     ]
    }
   ],
   "source": [
    "go()"
   ]
  },
  {
   "cell_type": "markdown",
   "id": "db8ddf0d",
   "metadata": {},
   "source": [
    "# passing a list as an argument in a function"
   ]
  },
  {
   "cell_type": "code",
   "execution_count": 23,
   "id": "ced6fc4e",
   "metadata": {},
   "outputs": [],
   "source": [
    "def go(ok):\n",
    "    for h in ok:\n",
    "        print(h)"
   ]
  },
  {
   "cell_type": "code",
   "execution_count": 29,
   "id": "eff5d4bd",
   "metadata": {},
   "outputs": [
    {
     "name": "stdout",
     "output_type": "stream",
     "text": [
      "c\n",
      "o\n",
      "d\n",
      "e\n"
     ]
    }
   ],
   "source": [
    "go(\"code\")"
   ]
  },
  {
   "cell_type": "code",
   "execution_count": 31,
   "id": "aaa516eb",
   "metadata": {},
   "outputs": [
    {
     "name": "stdout",
     "output_type": "stream",
     "text": [
      "1\n",
      "2\n",
      "3\n",
      "4\n"
     ]
    }
   ],
   "source": [
    "go([1,2,3,4])"
   ]
  },
  {
   "cell_type": "markdown",
   "id": "824a4bf6",
   "metadata": {},
   "source": [
    "# Return value"
   ]
  },
  {
   "cell_type": "code",
   "execution_count": 32,
   "id": "999d1be1",
   "metadata": {},
   "outputs": [],
   "source": [
    "def sub(a,b):\n",
    "    return a-b"
   ]
  },
  {
   "cell_type": "code",
   "execution_count": 34,
   "id": "3d0f747d",
   "metadata": {},
   "outputs": [
    {
     "name": "stdout",
     "output_type": "stream",
     "text": [
      "30\n"
     ]
    }
   ],
   "source": [
    "print(sub(89,59))"
   ]
  },
  {
   "cell_type": "code",
   "execution_count": 36,
   "id": "3c873c3d",
   "metadata": {},
   "outputs": [
    {
     "data": {
      "text/plain": [
       "30"
      ]
     },
     "execution_count": 36,
     "metadata": {},
     "output_type": "execute_result"
    }
   ],
   "source": [
    "sub(89,59)"
   ]
  },
  {
   "cell_type": "code",
   "execution_count": 37,
   "id": "bc508c57",
   "metadata": {},
   "outputs": [],
   "source": [
    "def jj(p):\n",
    "    return 10*p"
   ]
  },
  {
   "cell_type": "code",
   "execution_count": 39,
   "id": "47171c16",
   "metadata": {},
   "outputs": [
    {
     "data": {
      "text/plain": [
       "890"
      ]
     },
     "execution_count": 39,
     "metadata": {},
     "output_type": "execute_result"
    }
   ],
   "source": [
    "jj(89)"
   ]
  },
  {
   "cell_type": "markdown",
   "id": "37b85acd",
   "metadata": {},
   "source": [
    "# pass statement"
   ]
  },
  {
   "cell_type": "code",
   "execution_count": 40,
   "id": "976f3af8",
   "metadata": {},
   "outputs": [],
   "source": [
    "def code():\n",
    "    pass"
   ]
  },
  {
   "cell_type": "code",
   "execution_count": 41,
   "id": "9099cad2",
   "metadata": {},
   "outputs": [],
   "source": [
    "code()"
   ]
  }
 ],
 "metadata": {
  "kernelspec": {
   "display_name": "Python 3 (ipykernel)",
   "language": "python",
   "name": "python3"
  },
  "language_info": {
   "codemirror_mode": {
    "name": "ipython",
    "version": 3
   },
   "file_extension": ".py",
   "mimetype": "text/x-python",
   "name": "python",
   "nbconvert_exporter": "python",
   "pygments_lexer": "ipython3",
   "version": "3.11.5"
  }
 },
 "nbformat": 4,
 "nbformat_minor": 5
}
