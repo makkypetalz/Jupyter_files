{
 "cells": [
  {
   "cell_type": "markdown",
   "id": "1f0e2289",
   "metadata": {},
   "source": [
    "# CLASS EXERCISE"
   ]
  },
  {
   "cell_type": "code",
   "execution_count": null,
   "id": "7eadc8b7",
   "metadata": {},
   "outputs": [],
   "source": [
    "# Create the list of 10 items"
   ]
  },
  {
   "cell_type": "code",
   "execution_count": 21,
   "id": "2b683b4f",
   "metadata": {},
   "outputs": [],
   "source": [
    "mum = [2,4,6,8,10,12,14,16,18,20]"
   ]
  },
  {
   "cell_type": "code",
   "execution_count": 22,
   "id": "d687c679",
   "metadata": {},
   "outputs": [
    {
     "name": "stdout",
     "output_type": "stream",
     "text": [
      "10\n"
     ]
    }
   ],
   "source": [
    "print(len(mum))"
   ]
  },
  {
   "cell_type": "code",
   "execution_count": 23,
   "id": "f43c0613",
   "metadata": {},
   "outputs": [
    {
     "name": "stdout",
     "output_type": "stream",
     "text": [
      "[2, 4, 6, 8, 10, 12, 14, 16, 18, 20]\n"
     ]
    }
   ],
   "source": [
    "print(mum)"
   ]
  },
  {
   "cell_type": "code",
   "execution_count": 24,
   "id": "822124f2",
   "metadata": {},
   "outputs": [],
   "source": [
    "# Replacing the first 4 items"
   ]
  },
  {
   "cell_type": "code",
   "execution_count": 25,
   "id": "b072e3b2",
   "metadata": {},
   "outputs": [],
   "source": [
    "mum[:4] = [\"amaka\", \"ebube\", \"dera\", \"joy\"]"
   ]
  },
  {
   "cell_type": "code",
   "execution_count": 27,
   "id": "790efb6f",
   "metadata": {},
   "outputs": [
    {
     "name": "stdout",
     "output_type": "stream",
     "text": [
      "['amaka', 'ebube', 'dera', 'joy', 10, 12, 14, 16, 18, 20]\n"
     ]
    }
   ],
   "source": [
    "print(mum)"
   ]
  },
  {
   "cell_type": "code",
   "execution_count": 28,
   "id": "a5ddfc91",
   "metadata": {},
   "outputs": [],
   "source": [
    "# Inserting a new item at index number 8"
   ]
  },
  {
   "cell_type": "code",
   "execution_count": 29,
   "id": "429c39e3",
   "metadata": {},
   "outputs": [],
   "source": [
    "mum.insert(8, \"muna\")"
   ]
  },
  {
   "cell_type": "code",
   "execution_count": 31,
   "id": "330e28df",
   "metadata": {},
   "outputs": [
    {
     "name": "stdout",
     "output_type": "stream",
     "text": [
      "['amaka', 'ebube', 'dera', 'joy', 10, 12, 14, 16, 'muna', 18, 20]\n"
     ]
    }
   ],
   "source": [
    "print(mum)"
   ]
  },
  {
   "cell_type": "code",
   "execution_count": 32,
   "id": "b8c17190",
   "metadata": {},
   "outputs": [],
   "source": [
    "# Adding a new item at the end of the list"
   ]
  },
  {
   "cell_type": "code",
   "execution_count": 34,
   "id": "35263860",
   "metadata": {},
   "outputs": [],
   "source": [
    "mum.append(\"you\")"
   ]
  },
  {
   "cell_type": "code",
   "execution_count": 35,
   "id": "5ddd97d0",
   "metadata": {},
   "outputs": [
    {
     "name": "stdout",
     "output_type": "stream",
     "text": [
      "['amaka', 'ebube', 'dera', 'joy', 10, 12, 14, 16, 'muna', 18, 20, 'you']\n"
     ]
    }
   ],
   "source": [
    "print(mum)"
   ]
  },
  {
   "cell_type": "code",
   "execution_count": 36,
   "id": "f0798304",
   "metadata": {},
   "outputs": [],
   "source": [
    "# Removing two items in a list\n",
    "#first way to do that is by using the del keyword, if the items we want to remove are next to each other\n"
   ]
  },
  {
   "cell_type": "code",
   "execution_count": 37,
   "id": "534ea513",
   "metadata": {},
   "outputs": [],
   "source": [
    "del mum[4:6]"
   ]
  },
  {
   "cell_type": "code",
   "execution_count": 39,
   "id": "e12d837d",
   "metadata": {},
   "outputs": [
    {
     "name": "stdout",
     "output_type": "stream",
     "text": [
      "['amaka', 'ebube', 'dera', 'joy', 14, 16, 'muna', 18, 20, 'you']\n"
     ]
    }
   ],
   "source": [
    "print(mum)"
   ]
  },
  {
   "cell_type": "code",
   "execution_count": 40,
   "id": "d0d34b68",
   "metadata": {},
   "outputs": [],
   "source": [
    "#we can also remove an item by using remove() method, but this can only remove one item at a time\n"
   ]
  },
  {
   "cell_type": "code",
   "execution_count": 41,
   "id": "05e0afbc",
   "metadata": {},
   "outputs": [],
   "source": [
    "mum .remove(\"you\")"
   ]
  },
  {
   "cell_type": "code",
   "execution_count": 43,
   "id": "8279c8c5",
   "metadata": {},
   "outputs": [
    {
     "name": "stdout",
     "output_type": "stream",
     "text": [
      "['amaka', 'ebube', 'dera', 'joy', 14, 16, 'muna', 18, 20]\n"
     ]
    }
   ],
   "source": [
    "print(mum)"
   ]
  },
  {
   "cell_type": "code",
   "execution_count": 44,
   "id": "0ea849f1",
   "metadata": {},
   "outputs": [],
   "source": [
    "mum.remove(\"ebube\")"
   ]
  },
  {
   "cell_type": "code",
   "execution_count": 46,
   "id": "2f4fc3de",
   "metadata": {},
   "outputs": [
    {
     "name": "stdout",
     "output_type": "stream",
     "text": [
      "['amaka', 'dera', 'joy', 14, 16, 'muna', 18, 20]\n"
     ]
    }
   ],
   "source": [
    "print(mum)"
   ]
  },
  {
   "cell_type": "code",
   "execution_count": 47,
   "id": "cef41f8e",
   "metadata": {},
   "outputs": [],
   "source": [
    "# Removing the item sitting on the index number 2"
   ]
  },
  {
   "cell_type": "code",
   "execution_count": 49,
   "id": "65334daf",
   "metadata": {},
   "outputs": [
    {
     "name": "stdout",
     "output_type": "stream",
     "text": [
      "['amaka', 'dera', 'joy', 14, 16, 'muna', 18, 20]\n"
     ]
    }
   ],
   "source": [
    "print(mum)"
   ]
  },
  {
   "cell_type": "code",
   "execution_count": 50,
   "id": "b44dcf42",
   "metadata": {},
   "outputs": [
    {
     "data": {
      "text/plain": [
       "'dera'"
      ]
     },
     "execution_count": 50,
     "metadata": {},
     "output_type": "execute_result"
    }
   ],
   "source": [
    "mum.pop(1)"
   ]
  },
  {
   "cell_type": "code",
   "execution_count": 52,
   "id": "26e379ab",
   "metadata": {},
   "outputs": [
    {
     "name": "stdout",
     "output_type": "stream",
     "text": [
      "['amaka', 'joy', 14, 16, 'muna', 18, 20]\n"
     ]
    }
   ],
   "source": [
    "print(mum)"
   ]
  },
  {
   "cell_type": "code",
   "execution_count": 53,
   "id": "e8314bd5",
   "metadata": {},
   "outputs": [],
   "source": [
    "# removing the last item in the list"
   ]
  },
  {
   "cell_type": "code",
   "execution_count": 54,
   "id": "b4b2effe",
   "metadata": {},
   "outputs": [
    {
     "data": {
      "text/plain": [
       "20"
      ]
     },
     "execution_count": 54,
     "metadata": {},
     "output_type": "execute_result"
    }
   ],
   "source": [
    "mum.pop()"
   ]
  },
  {
   "cell_type": "code",
   "execution_count": 56,
   "id": "a276ad2c",
   "metadata": {},
   "outputs": [
    {
     "name": "stdout",
     "output_type": "stream",
     "text": [
      "['amaka', 'joy', 14, 16, 'muna', 18]\n"
     ]
    }
   ],
   "source": [
    "print(mum)"
   ]
  },
  {
   "cell_type": "code",
   "execution_count": 57,
   "id": "5bd3c232",
   "metadata": {},
   "outputs": [],
   "source": [
    "# delete the item sitting on index number 1 using del keyword"
   ]
  },
  {
   "cell_type": "code",
   "execution_count": 58,
   "id": "66c37811",
   "metadata": {},
   "outputs": [],
   "source": [
    "del mum[1]"
   ]
  },
  {
   "cell_type": "code",
   "execution_count": 60,
   "id": "5572ff16",
   "metadata": {},
   "outputs": [
    {
     "name": "stdout",
     "output_type": "stream",
     "text": [
      "['amaka', 14, 16, 'muna', 18]\n"
     ]
    }
   ],
   "source": [
    "print(mum)"
   ]
  },
  {
   "cell_type": "code",
   "execution_count": 61,
   "id": "e52e0da1",
   "metadata": {},
   "outputs": [],
   "source": [
    "# clear the items in the list"
   ]
  },
  {
   "cell_type": "code",
   "execution_count": 62,
   "id": "8bad16da",
   "metadata": {},
   "outputs": [],
   "source": [
    "mum.clear()"
   ]
  },
  {
   "cell_type": "code",
   "execution_count": 64,
   "id": "3096d771",
   "metadata": {},
   "outputs": [
    {
     "name": "stdout",
     "output_type": "stream",
     "text": [
      "[]\n"
     ]
    }
   ],
   "source": [
    "print(mum)"
   ]
  },
  {
   "cell_type": "code",
   "execution_count": 65,
   "id": "796d998a",
   "metadata": {},
   "outputs": [],
   "source": [
    "# create another list and add the items on the new list to the first list you create"
   ]
  },
  {
   "cell_type": "code",
   "execution_count": 66,
   "id": "5c380063",
   "metadata": {},
   "outputs": [],
   "source": [
    "numb = [3,6,9,12]"
   ]
  },
  {
   "cell_type": "code",
   "execution_count": 67,
   "id": "68ed7535",
   "metadata": {},
   "outputs": [],
   "source": [
    "mum.extend(numb)"
   ]
  },
  {
   "cell_type": "code",
   "execution_count": 68,
   "id": "dbb9009d",
   "metadata": {},
   "outputs": [
    {
     "name": "stdout",
     "output_type": "stream",
     "text": [
      "[3, 6, 9, 12]\n"
     ]
    }
   ],
   "source": [
    "print(mum)"
   ]
  }
 ],
 "metadata": {
  "kernelspec": {
   "display_name": "Python 3 (ipykernel)",
   "language": "python",
   "name": "python3"
  },
  "language_info": {
   "codemirror_mode": {
    "name": "ipython",
    "version": 3
   },
   "file_extension": ".py",
   "mimetype": "text/x-python",
   "name": "python",
   "nbconvert_exporter": "python",
   "pygments_lexer": "ipython3",
   "version": "3.11.5"
  }
 },
 "nbformat": 4,
 "nbformat_minor": 5
}
