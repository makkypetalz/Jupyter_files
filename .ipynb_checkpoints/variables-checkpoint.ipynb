{
 "cells": [
  {
   "cell_type": "markdown",
   "id": "3f2e05b6",
   "metadata": {},
   "source": [
    "# Escape character"
   ]
  },
  {
   "cell_type": "code",
   "execution_count": 1,
   "id": "6eb2a178",
   "metadata": {},
   "outputs": [],
   "source": [
    "# \\ back slash is us in an escape character"
   ]
  },
  {
   "cell_type": "code",
   "execution_count": 3,
   "id": "b8ba666c",
   "metadata": {
    "scrolled": true
   },
   "outputs": [
    {
     "name": "stdout",
     "output_type": "stream",
     "text": [
      "he is an \"Anambra\" man\n"
     ]
    }
   ],
   "source": [
    "j = \"he is an \\\"Anambra\\\" man\"\n",
    "print(j)"
   ]
  },
  {
   "cell_type": "markdown",
   "id": "4bc1fa62",
   "metadata": {},
   "source": [
    "# python indentation"
   ]
  },
  {
   "cell_type": "code",
   "execution_count": null,
   "id": "0f82c58c",
   "metadata": {},
   "outputs": [],
   "source": [
    "#indentation are spaces between a code line"
   ]
  },
  {
   "cell_type": "code",
   "execution_count": 5,
   "id": "4aaa6cc7",
   "metadata": {},
   "outputs": [
    {
     "name": "stdout",
     "output_type": "stream",
     "text": [
      "five is greater than two!\n"
     ]
    }
   ],
   "source": [
    "if 5 > 2:\n",
    "    print(\"five is greater than two!\")"
   ]
  },
  {
   "cell_type": "code",
   "execution_count": 7,
   "id": "9e4b0c07",
   "metadata": {},
   "outputs": [
    {
     "name": "stdout",
     "output_type": "stream",
     "text": [
      "a is greater than b\n"
     ]
    }
   ],
   "source": [
    "# a = 45\n",
    "# b = 20\n",
    "# if a>b:\n",
    "#     print(\"a is greater than b\")"
   ]
  },
  {
   "cell_type": "markdown",
   "id": "ed3aafa2",
   "metadata": {},
   "source": [
    "# python variables"
   ]
  },
  {
   "cell_type": "code",
   "execution_count": 8,
   "id": "52ec4f3c",
   "metadata": {},
   "outputs": [],
   "source": [
    "# variables are created when you assign a value to it\n",
    "# variables are case sensitive"
   ]
  },
  {
   "cell_type": "code",
   "execution_count": 16,
   "id": "8051e2f4",
   "metadata": {},
   "outputs": [],
   "source": [
    "A = 78\n",
    "a = \"hello class\""
   ]
  },
  {
   "cell_type": "code",
   "execution_count": 17,
   "id": "c6f27c0e",
   "metadata": {},
   "outputs": [
    {
     "name": "stdout",
     "output_type": "stream",
     "text": [
      "hello class\n"
     ]
    }
   ],
   "source": [
    "print(a)"
   ]
  },
  {
   "cell_type": "code",
   "execution_count": 18,
   "id": "6a5ea079",
   "metadata": {},
   "outputs": [
    {
     "name": "stdout",
     "output_type": "stream",
     "text": [
      "78\n"
     ]
    }
   ],
   "source": [
    "print(A)"
   ]
  },
  {
   "cell_type": "code",
   "execution_count": 19,
   "id": "9e04512e",
   "metadata": {},
   "outputs": [],
   "source": [
    "# rules of creating variable name"
   ]
  },
  {
   "cell_type": "code",
   "execution_count": 20,
   "id": "8ec5b9da",
   "metadata": {},
   "outputs": [],
   "source": [
    "# it can only start with a letter or underscore\n",
    "# it cannot start with a number\n",
    "# it can contain alphanumeric characters and underscore(A-Z,0-9and-)\n",
    "# it is case sensitive(age,Age,AGE)"
   ]
  },
  {
   "cell_type": "code",
   "execution_count": 22,
   "id": "5379105d",
   "metadata": {},
   "outputs": [
    {
     "name": "stdout",
     "output_type": "stream",
     "text": [
      "john\n",
      "james\n",
      "samuel\n",
      "89\n"
     ]
    }
   ],
   "source": [
    "myvar = \"john\"\n",
    "_myVar = \"james\"\n",
    "myVar = \"samuel\"\n",
    "_my_var = 89\n",
    "print(myvar)\n",
    "print(_myVar)\n",
    "print(myVar)\n",
    "print(_my_var)"
   ]
  },
  {
   "cell_type": "markdown",
   "id": "363fd9cb",
   "metadata": {},
   "source": [
    "# camel case"
   ]
  },
  {
   "cell_type": "code",
   "execution_count": 25,
   "id": "1e86f07c",
   "metadata": {},
   "outputs": [],
   "source": [
    "myFirstName = \"makky\""
   ]
  },
  {
   "cell_type": "markdown",
   "id": "b16ca43c",
   "metadata": {},
   "source": [
    "# pascal case"
   ]
  },
  {
   "cell_type": "code",
   "execution_count": 27,
   "id": "fca8592c",
   "metadata": {},
   "outputs": [],
   "source": [
    "LASTNAME = \"ada\""
   ]
  },
  {
   "cell_type": "markdown",
   "id": "19d9e64f",
   "metadata": {},
   "source": [
    "# snake case"
   ]
  },
  {
   "cell_type": "code",
   "execution_count": 28,
   "id": "4c43b8a3",
   "metadata": {},
   "outputs": [],
   "source": [
    "my_middle_name = \"onyeka\""
   ]
  },
  {
   "cell_type": "markdown",
   "id": "aa33dd69",
   "metadata": {},
   "source": [
    "# assign multiple values"
   ]
  },
  {
   "cell_type": "code",
   "execution_count": 31,
   "id": "13fe1eca",
   "metadata": {},
   "outputs": [
    {
     "name": "stdout",
     "output_type": "stream",
     "text": [
      "orange\n",
      "mango\n",
      "banana\n"
     ]
    }
   ],
   "source": [
    "x,y,z = \"orange\",\"mango\",\"banana\"\n",
    "print(x)\n",
    "print(y)\n",
    "print(z)"
   ]
  },
  {
   "cell_type": "markdown",
   "id": "0744d266",
   "metadata": {},
   "source": [
    "# one value to different variables"
   ]
  },
  {
   "cell_type": "code",
   "execution_count": 32,
   "id": "83664b84",
   "metadata": {},
   "outputs": [],
   "source": [
    "x=y=z = \"orange\""
   ]
  },
  {
   "cell_type": "code",
   "execution_count": 34,
   "id": "9069d59d",
   "metadata": {},
   "outputs": [
    {
     "name": "stdout",
     "output_type": "stream",
     "text": [
      "orange\n",
      "orange\n",
      "orange\n"
     ]
    }
   ],
   "source": [
    "print(x)\n",
    "print(y)\n",
    "print(z)"
   ]
  },
  {
   "cell_type": "markdown",
   "id": "50515e54",
   "metadata": {},
   "source": [
    "# unpack a collection"
   ]
  },
  {
   "cell_type": "code",
   "execution_count": 1,
   "id": "4d96156d",
   "metadata": {},
   "outputs": [],
   "source": [
    "# Array is collection of values in python"
   ]
  },
  {
   "cell_type": "code",
   "execution_count": 2,
   "id": "0d641944",
   "metadata": {},
   "outputs": [],
   "source": [
    "items = [89, \"samuel\", 78.6, True]"
   ]
  },
  {
   "cell_type": "code",
   "execution_count": 3,
   "id": "faeb94fa",
   "metadata": {},
   "outputs": [],
   "source": [
    "a,b,c,d = items"
   ]
  },
  {
   "cell_type": "code",
   "execution_count": 5,
   "id": "84e7899b",
   "metadata": {},
   "outputs": [
    {
     "name": "stdout",
     "output_type": "stream",
     "text": [
      "89\n",
      "samuel\n",
      "78.6\n",
      "True\n"
     ]
    }
   ],
   "source": [
    "print(a)\n",
    "print(b)\n",
    "print(c)\n",
    "print(d)"
   ]
  },
  {
   "cell_type": "markdown",
   "id": "5895e520",
   "metadata": {},
   "source": [
    "# output variable"
   ]
  },
  {
   "cell_type": "code",
   "execution_count": 7,
   "id": "b6aba890",
   "metadata": {},
   "outputs": [],
   "source": [
    "x = \"hello\"\n",
    "y = \"world\"\n",
    "z = \"samuel\""
   ]
  },
  {
   "cell_type": "code",
   "execution_count": 9,
   "id": "3dcdbfab",
   "metadata": {},
   "outputs": [
    {
     "name": "stdout",
     "output_type": "stream",
     "text": [
      "helloworldsamuel\n"
     ]
    }
   ],
   "source": [
    "print(x + y + z)"
   ]
  },
  {
   "cell_type": "markdown",
   "id": "3d89f7cb",
   "metadata": {},
   "source": [
    "# python booleans"
   ]
  },
  {
   "cell_type": "code",
   "execution_count": 10,
   "id": "91d201a9",
   "metadata": {},
   "outputs": [],
   "source": [
    "# Booleans are true or false"
   ]
  },
  {
   "cell_type": "code",
   "execution_count": 11,
   "id": "fccde2c2",
   "metadata": {},
   "outputs": [
    {
     "name": "stdout",
     "output_type": "stream",
     "text": [
      "True\n"
     ]
    }
   ],
   "source": [
    "print(23>13)"
   ]
  },
  {
   "cell_type": "code",
   "execution_count": 13,
   "id": "a0800f42",
   "metadata": {},
   "outputs": [
    {
     "name": "stdout",
     "output_type": "stream",
     "text": [
      "True\n",
      "False\n"
     ]
    }
   ],
   "source": [
    "print(10==10)\n",
    "print(67<50)"
   ]
  },
  {
   "cell_type": "code",
   "execution_count": 16,
   "id": "fff25d9c",
   "metadata": {},
   "outputs": [
    {
     "name": "stdout",
     "output_type": "stream",
     "text": [
      "hh is greater then gg\n"
     ]
    }
   ],
   "source": [
    "gg = 300\n",
    "hh = 400\n",
    "if gg>hh:\n",
    "    print(\"yes gg is greater than hh\")\n",
    "else:\n",
    "    print(\"hh is greater then gg\")"
   ]
  },
  {
   "cell_type": "code",
   "execution_count": 18,
   "id": "89eddef7",
   "metadata": {},
   "outputs": [
    {
     "name": "stdout",
     "output_type": "stream",
     "text": [
      "yes gg is greater than hh\n"
     ]
    }
   ],
   "source": [
    "gg = 500\n",
    "hh = 400\n",
    "if gg>hh:\n",
    "    print(\"yes gg is greater than hh\")\n",
    "else:\n",
    "    print(\"hh is greater then gg\")"
   ]
  },
  {
   "cell_type": "markdown",
   "id": "71e376cf",
   "metadata": {},
   "source": [
    "# bool() function"
   ]
  },
  {
   "cell_type": "code",
   "execution_count": 19,
   "id": "8645aac9",
   "metadata": {},
   "outputs": [],
   "source": [
    "# bool() will always return true, if there is a value in it, but returns false if the value is empty or if the is 0"
   ]
  },
  {
   "cell_type": "code",
   "execution_count": 21,
   "id": "123418bb",
   "metadata": {},
   "outputs": [
    {
     "name": "stdout",
     "output_type": "stream",
     "text": [
      "True\n",
      "True\n"
     ]
    }
   ],
   "source": [
    "print(bool(67))\n",
    "print(bool(\"samuel\"))"
   ]
  },
  {
   "cell_type": "code",
   "execution_count": 23,
   "id": "8eb02ea7",
   "metadata": {},
   "outputs": [
    {
     "name": "stdout",
     "output_type": "stream",
     "text": [
      "False\n",
      "False\n",
      "False\n"
     ]
    }
   ],
   "source": [
    "print(bool())\n",
    "print(bool(\"\"))\n",
    "print(bool(0))"
   ]
  },
  {
   "cell_type": "markdown",
   "id": "b5d49300",
   "metadata": {},
   "source": [
    "# python operators"
   ]
  },
  {
   "cell_type": "code",
   "execution_count": 24,
   "id": "6509eed0",
   "metadata": {},
   "outputs": [],
   "source": [
    "# they are used to perform operations on variables and values\n",
    "# arithmetic operators are used to do mathematical operations\n",
    "# assignment =,+=,-=,*=,/=,%=,//=\n",
    "# comparison ==,!=,>,<,>=,<=\n",
    "# logical are used to combine conditional statements e.g and,or,not\n",
    "# identity used to compare objects, whether they are thesame e.g is,is not\n",
    "# membership are used to test if a squence is presented in an object e.g not in, in\n",
    "# bitwise are used to test binary numbers <<,>>,!"
   ]
  },
  {
   "cell_type": "markdown",
   "id": "37c8e341",
   "metadata": {},
   "source": [
    "# Arithmetic operator"
   ]
  },
  {
   "cell_type": "code",
   "execution_count": 28,
   "id": "0c0ce1d8",
   "metadata": {},
   "outputs": [
    {
     "name": "stdout",
     "output_type": "stream",
     "text": [
      "117\n",
      "270\n",
      "35\n"
     ]
    }
   ],
   "source": [
    "print(67+50)\n",
    "print(45*6)\n",
    "print(78-43)"
   ]
  },
  {
   "cell_type": "markdown",
   "id": "1392efcc",
   "metadata": {},
   "source": [
    "# Assignment operator"
   ]
  },
  {
   "cell_type": "code",
   "execution_count": 31,
   "id": "81239901",
   "metadata": {},
   "outputs": [
    {
     "name": "stdout",
     "output_type": "stream",
     "text": [
      "89\n"
     ]
    }
   ],
   "source": [
    "ff = 89\n",
    "print(ff)"
   ]
  },
  {
   "cell_type": "code",
   "execution_count": 32,
   "id": "eff1f170",
   "metadata": {},
   "outputs": [
    {
     "name": "stdout",
     "output_type": "stream",
     "text": [
      "1\n",
      "2\n",
      "3\n",
      "4\n",
      "5\n"
     ]
    }
   ],
   "source": [
    "i = 1\n",
    "while i<6:\n",
    "    print(i)\n",
    "    i+=1"
   ]
  },
  {
   "cell_type": "markdown",
   "id": "ca9a13a0",
   "metadata": {},
   "source": [
    "# Comparison operator"
   ]
  },
  {
   "cell_type": "code",
   "execution_count": 34,
   "id": "6c545b52",
   "metadata": {},
   "outputs": [
    {
     "name": "stdout",
     "output_type": "stream",
     "text": [
      "False\n",
      "True\n"
     ]
    }
   ],
   "source": [
    "bb=50\n",
    "cc=70\n",
    "print(bb==cc)\n",
    "print(bb!=cc)"
   ]
  },
  {
   "cell_type": "markdown",
   "id": "1921027c",
   "metadata": {},
   "source": [
    "# Logical operator"
   ]
  },
  {
   "cell_type": "code",
   "execution_count": 35,
   "id": "6413c826",
   "metadata": {},
   "outputs": [
    {
     "name": "stdout",
     "output_type": "stream",
     "text": [
      "yeh yeh\n"
     ]
    }
   ],
   "source": [
    "a=78\n",
    "b=60\n",
    "c=80\n",
    "if a>b and c<b:\n",
    "    print(\"the statement is correct\")\n",
    "else:\n",
    "    print(\"yeh yeh\")"
   ]
  },
  {
   "cell_type": "markdown",
   "id": "eb8373f9",
   "metadata": {},
   "source": [
    "# Identity operator"
   ]
  },
  {
   "cell_type": "code",
   "execution_count": 38,
   "id": "a88cb8c2",
   "metadata": {},
   "outputs": [
    {
     "name": "stdout",
     "output_type": "stream",
     "text": [
      "True\n",
      "False\n"
     ]
    }
   ],
   "source": [
    "ju=\"david\"\n",
    "gu=\"david\"\n",
    "print(ju is gu)\n",
    "print(ju is not gu)"
   ]
  },
  {
   "cell_type": "markdown",
   "id": "92b669a8",
   "metadata": {},
   "source": [
    "# membership operator"
   ]
  },
  {
   "cell_type": "code",
   "execution_count": 37,
   "id": "e1f0c540",
   "metadata": {},
   "outputs": [
    {
     "name": "stdout",
     "output_type": "stream",
     "text": [
      "True\n",
      "True\n"
     ]
    }
   ],
   "source": [
    "ko=\"samuel\"\n",
    "print(\"s\" in ko)\n",
    "print(\"p\" not in ko)"
   ]
  },
  {
   "cell_type": "markdown",
   "id": "5a2e0cd7",
   "metadata": {},
   "source": [
    "# Bitwise operator"
   ]
  }
 ],
 "metadata": {
  "kernelspec": {
   "display_name": "Python 3 (ipykernel)",
   "language": "python",
   "name": "python3"
  },
  "language_info": {
   "codemirror_mode": {
    "name": "ipython",
    "version": 3
   },
   "file_extension": ".py",
   "mimetype": "text/x-python",
   "name": "python",
   "nbconvert_exporter": "python",
   "pygments_lexer": "ipython3",
   "version": "3.11.5"
  }
 },
 "nbformat": 4,
 "nbformat_minor": 5
}
