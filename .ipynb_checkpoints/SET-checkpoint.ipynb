{
 "cells": [
  {
   "cell_type": "markdown",
   "id": "20ecad2a",
   "metadata": {},
   "source": [
    "# Sets are used to store multiple items in a single variable\n",
    "sets are unordered and unchangeable but you can add and remove items from it,\n",
    "we use a coil bracket {}"
   ]
  },
  {
   "cell_type": "code",
   "execution_count": 1,
   "id": "cc5df451",
   "metadata": {},
   "outputs": [],
   "source": [
    "myset = {45, 89.9, True, \"anambra\"}"
   ]
  },
  {
   "cell_type": "code",
   "execution_count": 2,
   "id": "28d33995",
   "metadata": {},
   "outputs": [
    {
     "name": "stdout",
     "output_type": "stream",
     "text": [
      "{89.9, 45, True, 'anambra'}\n"
     ]
    }
   ],
   "source": [
    "print(myset)"
   ]
  },
  {
   "cell_type": "markdown",
   "id": "e8a57c65",
   "metadata": {},
   "source": [
    "# set does not allow duplicate value"
   ]
  },
  {
   "cell_type": "code",
   "execution_count": 3,
   "id": "14fb0e20",
   "metadata": {},
   "outputs": [],
   "source": [
    "thislist = {\"apple\", \"banana\", \"cherry\", \"apple\"}"
   ]
  },
  {
   "cell_type": "code",
   "execution_count": 4,
   "id": "3c34a76f",
   "metadata": {},
   "outputs": [
    {
     "name": "stdout",
     "output_type": "stream",
     "text": [
      "{'cherry', 'apple', 'banana'}\n"
     ]
    }
   ],
   "source": [
    "print(thislist)"
   ]
  },
  {
   "cell_type": "code",
   "execution_count": 5,
   "id": "d8066be2",
   "metadata": {},
   "outputs": [
    {
     "name": "stdout",
     "output_type": "stream",
     "text": [
      "4\n"
     ]
    }
   ],
   "source": [
    "print(len(myset))"
   ]
  },
  {
   "cell_type": "code",
   "execution_count": 6,
   "id": "f110455d",
   "metadata": {},
   "outputs": [
    {
     "name": "stdout",
     "output_type": "stream",
     "text": [
      "<class 'set'>\n"
     ]
    }
   ],
   "source": [
    "print(type(thislist))"
   ]
  },
  {
   "cell_type": "markdown",
   "id": "f48fd4d9",
   "metadata": {},
   "source": [
    "# set() constructor"
   ]
  },
  {
   "cell_type": "code",
   "execution_count": 7,
   "id": "e8266ff3",
   "metadata": {},
   "outputs": [],
   "source": [
    "newset =set((70,45,34))"
   ]
  },
  {
   "cell_type": "code",
   "execution_count": 8,
   "id": "07638a3e",
   "metadata": {},
   "outputs": [
    {
     "name": "stdout",
     "output_type": "stream",
     "text": [
      "{34, 45, 70}\n"
     ]
    }
   ],
   "source": [
    "print(newset)"
   ]
  },
  {
   "cell_type": "markdown",
   "id": "168a7509",
   "metadata": {},
   "source": [
    "# How to access items in set, is by looping through it"
   ]
  },
  {
   "cell_type": "code",
   "execution_count": 9,
   "id": "1f865bda",
   "metadata": {},
   "outputs": [
    {
     "name": "stdout",
     "output_type": "stream",
     "text": [
      "{34, 45, 70}\n"
     ]
    }
   ],
   "source": [
    "print(newset)"
   ]
  },
  {
   "cell_type": "code",
   "execution_count": 10,
   "id": "1746f935",
   "metadata": {},
   "outputs": [
    {
     "name": "stdout",
     "output_type": "stream",
     "text": [
      "34\n",
      "45\n",
      "70\n"
     ]
    }
   ],
   "source": [
    "for y in newset:\n",
    "    print(y)"
   ]
  },
  {
   "cell_type": "markdown",
   "id": "5006a6c7",
   "metadata": {},
   "source": [
    "# To check if an item is present in a set"
   ]
  },
  {
   "cell_type": "code",
   "execution_count": 11,
   "id": "34908210",
   "metadata": {},
   "outputs": [
    {
     "name": "stdout",
     "output_type": "stream",
     "text": [
      "{89.9, 45, True, 'anambra'}\n"
     ]
    }
   ],
   "source": [
    "print(myset)"
   ]
  },
  {
   "cell_type": "code",
   "execution_count": 12,
   "id": "27d98c2c",
   "metadata": {},
   "outputs": [
    {
     "name": "stdout",
     "output_type": "stream",
     "text": [
      "True\n"
     ]
    }
   ],
   "source": [
    "print(\"anambra\" in myset)"
   ]
  },
  {
   "cell_type": "markdown",
   "id": "00fba134",
   "metadata": {},
   "source": [
    "# Add items into set"
   ]
  },
  {
   "cell_type": "code",
   "execution_count": 13,
   "id": "61d4cc4b",
   "metadata": {},
   "outputs": [],
   "source": [
    "# we use the add()method"
   ]
  },
  {
   "cell_type": "code",
   "execution_count": 14,
   "id": "b98fe683",
   "metadata": {},
   "outputs": [
    {
     "name": "stdout",
     "output_type": "stream",
     "text": [
      "{89.9, 45, True, 'anambra'}\n"
     ]
    }
   ],
   "source": [
    "print(myset)"
   ]
  },
  {
   "cell_type": "code",
   "execution_count": 15,
   "id": "c85e37f2",
   "metadata": {},
   "outputs": [],
   "source": [
    "myset.add('CODE')"
   ]
  },
  {
   "cell_type": "code",
   "execution_count": 16,
   "id": "1d2e3c19",
   "metadata": {},
   "outputs": [
    {
     "name": "stdout",
     "output_type": "stream",
     "text": [
      "{True, 'CODE', 45, 'anambra', 89.9}\n"
     ]
    }
   ],
   "source": [
    "print(myset)"
   ]
  },
  {
   "cell_type": "markdown",
   "id": "b57195c9",
   "metadata": {},
   "source": [
    "# update() method"
   ]
  },
  {
   "cell_type": "code",
   "execution_count": 17,
   "id": "b1e09a06",
   "metadata": {},
   "outputs": [
    {
     "name": "stdout",
     "output_type": "stream",
     "text": [
      "{True, 'CODE', 45, 'anambra', 89.9}\n"
     ]
    }
   ],
   "source": [
    "print(myset)"
   ]
  },
  {
   "cell_type": "code",
   "execution_count": 18,
   "id": "f3ba9394",
   "metadata": {},
   "outputs": [
    {
     "name": "stdout",
     "output_type": "stream",
     "text": [
      "{'cherry', 'apple', 'banana'}\n"
     ]
    }
   ],
   "source": [
    "print(thislist)"
   ]
  },
  {
   "cell_type": "code",
   "execution_count": 19,
   "id": "55e30900",
   "metadata": {},
   "outputs": [],
   "source": [
    "myset.update(thislist)"
   ]
  },
  {
   "cell_type": "code",
   "execution_count": 20,
   "id": "38457c59",
   "metadata": {},
   "outputs": [
    {
     "name": "stdout",
     "output_type": "stream",
     "text": [
      "{True, 'CODE', 45, 'anambra', 'cherry', 89.9, 'apple', 'banana'}\n"
     ]
    }
   ],
   "source": [
    "print(myset)"
   ]
  },
  {
   "cell_type": "code",
   "execution_count": 21,
   "id": "5513f69a",
   "metadata": {},
   "outputs": [],
   "source": [
    "mylist = [1,2,3,4,5]"
   ]
  },
  {
   "cell_type": "code",
   "execution_count": 22,
   "id": "aa8d47c8",
   "metadata": {},
   "outputs": [],
   "source": [
    "myset.update(mylist)"
   ]
  },
  {
   "cell_type": "code",
   "execution_count": 23,
   "id": "1694de96",
   "metadata": {},
   "outputs": [
    {
     "name": "stdout",
     "output_type": "stream",
     "text": [
      "{True, 2, 3, 4, 5, 'CODE', 45, 'anambra', 'cherry', 89.9, 'apple', 'banana'}\n"
     ]
    }
   ],
   "source": [
    "print(myset)"
   ]
  },
  {
   "cell_type": "markdown",
   "id": "630efb58",
   "metadata": {},
   "source": [
    "# To remove item in a set, we can use remove() or discard() method"
   ]
  },
  {
   "cell_type": "code",
   "execution_count": 24,
   "id": "12bf0d5b",
   "metadata": {},
   "outputs": [
    {
     "name": "stdout",
     "output_type": "stream",
     "text": [
      "{True, 2, 3, 4, 5, 'CODE', 45, 'anambra', 'cherry', 89.9, 'apple', 'banana'}\n"
     ]
    }
   ],
   "source": [
    "print(myset)"
   ]
  },
  {
   "cell_type": "code",
   "execution_count": 25,
   "id": "f69cc5af",
   "metadata": {},
   "outputs": [],
   "source": [
    "myset.remove(True)"
   ]
  },
  {
   "cell_type": "code",
   "execution_count": 26,
   "id": "e520277c",
   "metadata": {},
   "outputs": [
    {
     "name": "stdout",
     "output_type": "stream",
     "text": [
      "{2, 3, 4, 5, 'CODE', 45, 'anambra', 'cherry', 89.9, 'apple', 'banana'}\n"
     ]
    }
   ],
   "source": [
    "print(myset)"
   ]
  },
  {
   "cell_type": "code",
   "execution_count": 27,
   "id": "c47d4ea6",
   "metadata": {},
   "outputs": [],
   "source": [
    "myset.discard(5)"
   ]
  },
  {
   "cell_type": "code",
   "execution_count": 28,
   "id": "ad7d9eda",
   "metadata": {},
   "outputs": [
    {
     "name": "stdout",
     "output_type": "stream",
     "text": [
      "{2, 3, 4, 'CODE', 45, 'anambra', 'cherry', 89.9, 'apple', 'banana'}\n"
     ]
    }
   ],
   "source": [
    "print(myset)"
   ]
  },
  {
   "cell_type": "markdown",
   "id": "3df0587e",
   "metadata": {},
   "source": [
    "# pop() method"
   ]
  },
  {
   "cell_type": "code",
   "execution_count": 29,
   "id": "cc8c6874",
   "metadata": {},
   "outputs": [
    {
     "data": {
      "text/plain": [
       "2"
      ]
     },
     "execution_count": 29,
     "metadata": {},
     "output_type": "execute_result"
    }
   ],
   "source": [
    "myset.pop()"
   ]
  },
  {
   "cell_type": "markdown",
   "id": "d717bac3",
   "metadata": {},
   "source": [
    "# clear() and del keyword"
   ]
  },
  {
   "cell_type": "code",
   "execution_count": 30,
   "id": "eae73115",
   "metadata": {},
   "outputs": [],
   "source": [
    "myset.clear()"
   ]
  },
  {
   "cell_type": "code",
   "execution_count": 31,
   "id": "ac9d6d08",
   "metadata": {},
   "outputs": [
    {
     "name": "stdout",
     "output_type": "stream",
     "text": [
      "set()\n"
     ]
    }
   ],
   "source": [
    "print(myset)"
   ]
  },
  {
   "cell_type": "code",
   "execution_count": 32,
   "id": "cb1b5576",
   "metadata": {},
   "outputs": [],
   "source": [
    "del myset"
   ]
  },
  {
   "cell_type": "markdown",
   "id": "b45de618",
   "metadata": {},
   "source": [
    "# Join two sets or more with union() method"
   ]
  },
  {
   "cell_type": "code",
   "execution_count": 33,
   "id": "d7188657",
   "metadata": {},
   "outputs": [],
   "source": [
    "set1 = {1,2,3,4,5}"
   ]
  },
  {
   "cell_type": "code",
   "execution_count": 34,
   "id": "8b8ee577",
   "metadata": {},
   "outputs": [],
   "source": [
    "set2 = {\"a\", \"b\", \"c\"}"
   ]
  },
  {
   "cell_type": "code",
   "execution_count": 35,
   "id": "429561a6",
   "metadata": {},
   "outputs": [
    {
     "name": "stdout",
     "output_type": "stream",
     "text": [
      "{1, 2, 3, 4, 5}\n",
      "{'a', 'b', 'c'}\n"
     ]
    }
   ],
   "source": [
    "print(set1)\n",
    "print(set2)"
   ]
  },
  {
   "cell_type": "code",
   "execution_count": 36,
   "id": "a2787b3d",
   "metadata": {},
   "outputs": [],
   "source": [
    "set3 = set1.union(set2)"
   ]
  },
  {
   "cell_type": "code",
   "execution_count": 37,
   "id": "3cc6e528",
   "metadata": {},
   "outputs": [
    {
     "name": "stdout",
     "output_type": "stream",
     "text": [
      "{'a', 1, 2, 3, 4, 5, 'c', 'b'}\n"
     ]
    }
   ],
   "source": [
    "print(set3)"
   ]
  },
  {
   "cell_type": "code",
   "execution_count": 38,
   "id": "2ba2ae52",
   "metadata": {},
   "outputs": [],
   "source": [
    "iset = {1,2,3}"
   ]
  },
  {
   "cell_type": "code",
   "execution_count": 39,
   "id": "d22a5a85",
   "metadata": {},
   "outputs": [],
   "source": [
    "uset = {3,5,7}"
   ]
  },
  {
   "cell_type": "code",
   "execution_count": 40,
   "id": "fc011a07",
   "metadata": {},
   "outputs": [
    {
     "name": "stdout",
     "output_type": "stream",
     "text": [
      "{1, 2, 3}\n",
      "{3, 5, 7}\n"
     ]
    }
   ],
   "source": [
    "print(iset)\n",
    "print(uset)"
   ]
  },
  {
   "cell_type": "code",
   "execution_count": 41,
   "id": "28ff389d",
   "metadata": {},
   "outputs": [],
   "source": [
    "iset.update(uset)"
   ]
  },
  {
   "cell_type": "code",
   "execution_count": 42,
   "id": "97076e3f",
   "metadata": {},
   "outputs": [
    {
     "name": "stdout",
     "output_type": "stream",
     "text": [
      "{1, 2, 3, 5, 7}\n"
     ]
    }
   ],
   "source": [
    "print(iset)"
   ]
  },
  {
   "cell_type": "markdown",
   "id": "b212200c",
   "metadata": {},
   "source": [
    "# To keep duplicate value, we use intersection_update()"
   ]
  },
  {
   "cell_type": "code",
   "execution_count": 43,
   "id": "002d0fa7",
   "metadata": {},
   "outputs": [],
   "source": [
    "a = {'book',\"laptop\",\"iphone\"}\n",
    "b = {\"laptop\",\"orange\",\"mango\"}"
   ]
  },
  {
   "cell_type": "code",
   "execution_count": 44,
   "id": "94cb6031",
   "metadata": {},
   "outputs": [
    {
     "name": "stdout",
     "output_type": "stream",
     "text": [
      "{'book', 'laptop', 'iphone'}\n",
      "{'laptop', 'mango', 'orange'}\n"
     ]
    }
   ],
   "source": [
    "print(a)\n",
    "print(b)"
   ]
  },
  {
   "cell_type": "code",
   "execution_count": 45,
   "id": "36f8af10",
   "metadata": {},
   "outputs": [],
   "source": [
    "a.intersection_update(b)"
   ]
  },
  {
   "cell_type": "code",
   "execution_count": 46,
   "id": "25fcf010",
   "metadata": {},
   "outputs": [
    {
     "name": "stdout",
     "output_type": "stream",
     "text": [
      "{'laptop'}\n"
     ]
    }
   ],
   "source": [
    "print(a)"
   ]
  },
  {
   "cell_type": "markdown",
   "id": "1048808e",
   "metadata": {},
   "source": [
    "# intersection() method"
   ]
  },
  {
   "cell_type": "code",
   "execution_count": 47,
   "id": "f4283103",
   "metadata": {},
   "outputs": [],
   "source": [
    "x = {1,2,3}\n",
    "y = {2,3,4}"
   ]
  },
  {
   "cell_type": "code",
   "execution_count": 49,
   "id": "2264580a",
   "metadata": {},
   "outputs": [
    {
     "name": "stdout",
     "output_type": "stream",
     "text": [
      "{1, 2, 3}\n",
      "{2, 3, 4}\n"
     ]
    }
   ],
   "source": [
    "print(x)\n",
    "print(y)"
   ]
  },
  {
   "cell_type": "code",
   "execution_count": 50,
   "id": "67cdc085",
   "metadata": {},
   "outputs": [],
   "source": [
    "z = x.intersection(y)"
   ]
  },
  {
   "cell_type": "code",
   "execution_count": 52,
   "id": "3a9b0806",
   "metadata": {},
   "outputs": [
    {
     "name": "stdout",
     "output_type": "stream",
     "text": [
      "{2, 3}\n"
     ]
    }
   ],
   "source": [
    "print(z)"
   ]
  },
  {
   "cell_type": "markdown",
   "id": "656b04ba",
   "metadata": {},
   "source": [
    "# how to keep all items, but not duplicate items, using symmetric_difference_update()"
   ]
  },
  {
   "cell_type": "code",
   "execution_count": 54,
   "id": "a075d73d",
   "metadata": {},
   "outputs": [
    {
     "name": "stdout",
     "output_type": "stream",
     "text": [
      "{1, 2, 3}\n",
      "{2, 3, 4}\n"
     ]
    }
   ],
   "source": [
    "print(x)\n",
    "print(y)"
   ]
  },
  {
   "cell_type": "code",
   "execution_count": 55,
   "id": "0a4f1d6c",
   "metadata": {},
   "outputs": [],
   "source": [
    "x.symmetric_difference_update(y)"
   ]
  },
  {
   "cell_type": "code",
   "execution_count": 57,
   "id": "d554ae42",
   "metadata": {},
   "outputs": [
    {
     "name": "stdout",
     "output_type": "stream",
     "text": [
      "{1, 4}\n"
     ]
    }
   ],
   "source": [
    "print(x)"
   ]
  },
  {
   "cell_type": "markdown",
   "id": "b8d4b5ae",
   "metadata": {},
   "source": [
    "# symmetric_difference() method"
   ]
  },
  {
   "cell_type": "code",
   "execution_count": 58,
   "id": "0d3bc0fd",
   "metadata": {},
   "outputs": [],
   "source": [
    "g = {4,5,6}\n",
    "h = {7,5,2}"
   ]
  },
  {
   "cell_type": "code",
   "execution_count": 60,
   "id": "07d1b35a",
   "metadata": {},
   "outputs": [
    {
     "name": "stdout",
     "output_type": "stream",
     "text": [
      "{4, 5, 6}\n",
      "{2, 5, 7}\n"
     ]
    }
   ],
   "source": [
    "print(g)\n",
    "print(h)"
   ]
  },
  {
   "cell_type": "code",
   "execution_count": 61,
   "id": "fe01955b",
   "metadata": {},
   "outputs": [],
   "source": [
    "j = g.symmetric_difference(h)"
   ]
  },
  {
   "cell_type": "code",
   "execution_count": 62,
   "id": "359e7021",
   "metadata": {},
   "outputs": [
    {
     "name": "stdout",
     "output_type": "stream",
     "text": [
      "{2, 4, 6, 7}\n"
     ]
    }
   ],
   "source": [
    "print(j)"
   ]
  }
 ],
 "metadata": {
  "kernelspec": {
   "display_name": "Python 3 (ipykernel)",
   "language": "python",
   "name": "python3"
  },
  "language_info": {
   "codemirror_mode": {
    "name": "ipython",
    "version": 3
   },
   "file_extension": ".py",
   "mimetype": "text/x-python",
   "name": "python",
   "nbconvert_exporter": "python",
   "pygments_lexer": "ipython3",
   "version": "3.11.5"
  }
 },
 "nbformat": 4,
 "nbformat_minor": 5
}
