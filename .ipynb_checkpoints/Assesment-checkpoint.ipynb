{
 "cells": [
  {
   "cell_type": "code",
   "execution_count": 1,
   "id": "7bd54558",
   "metadata": {},
   "outputs": [],
   "source": [
    "thislist = [45,67,54,32,12]"
   ]
  },
  {
   "cell_type": "code",
   "execution_count": 2,
   "id": "c668b85a",
   "metadata": {},
   "outputs": [
    {
     "name": "stdout",
     "output_type": "stream",
     "text": [
      "[45, 67, 54, 32, 12]\n"
     ]
    }
   ],
   "source": [
    "print(thislist)"
   ]
  },
  {
   "cell_type": "code",
   "execution_count": 3,
   "id": "39c35d0f",
   "metadata": {},
   "outputs": [
    {
     "name": "stdout",
     "output_type": "stream",
     "text": [
      "45\n",
      "67\n",
      "54\n",
      "32\n",
      "12\n"
     ]
    }
   ],
   "source": [
    "for i in thislist:\n",
    "    print(i)"
   ]
  },
  {
   "cell_type": "code",
   "execution_count": 4,
   "id": "ff6613b4",
   "metadata": {},
   "outputs": [],
   "source": [
    "mylist = [\"apple\",\"cherry\",\"potato\",\"orange\",\"watermelon\"]"
   ]
  },
  {
   "cell_type": "code",
   "execution_count": 5,
   "id": "e0bea177",
   "metadata": {},
   "outputs": [
    {
     "name": "stdout",
     "output_type": "stream",
     "text": [
      "5\n"
     ]
    }
   ],
   "source": [
    "print(len(mylist))"
   ]
  },
  {
   "cell_type": "code",
   "execution_count": 6,
   "id": "6ecec2d6",
   "metadata": {},
   "outputs": [],
   "source": [
    "h = 1"
   ]
  },
  {
   "cell_type": "code",
   "execution_count": 7,
   "id": "9346b164",
   "metadata": {},
   "outputs": [
    {
     "name": "stdout",
     "output_type": "stream",
     "text": [
      "1\n",
      "2\n",
      "3\n",
      "4\n"
     ]
    }
   ],
   "source": [
    "while h<len(mylist):\n",
    "    print(h)\n",
    "    h=h+1"
   ]
  },
  {
   "cell_type": "code",
   "execution_count": 8,
   "id": "6278ca7e",
   "metadata": {},
   "outputs": [
    {
     "name": "stdout",
     "output_type": "stream",
     "text": [
      "['apple', 'cherry', 'potato', 'orange', 'watermelon']\n"
     ]
    }
   ],
   "source": [
    "print(mylist)"
   ]
  },
  {
   "cell_type": "code",
   "execution_count": 9,
   "id": "213a5013",
   "metadata": {},
   "outputs": [],
   "source": [
    "hlist=[]"
   ]
  },
  {
   "cell_type": "code",
   "execution_count": 10,
   "id": "9a6a4f31",
   "metadata": {},
   "outputs": [],
   "source": [
    "for i in mylist:\n",
    "    if \"r\" in i:\n",
    "        hlist.append(i)"
   ]
  },
  {
   "cell_type": "code",
   "execution_count": 11,
   "id": "2cd214cb",
   "metadata": {},
   "outputs": [
    {
     "name": "stdout",
     "output_type": "stream",
     "text": [
      "['cherry', 'orange', 'watermelon']\n"
     ]
    }
   ],
   "source": [
    "print(hlist)"
   ]
  },
  {
   "cell_type": "code",
   "execution_count": 12,
   "id": "fe689aff",
   "metadata": {},
   "outputs": [],
   "source": [
    "ylist=[45,67,54,32,12]"
   ]
  },
  {
   "cell_type": "code",
   "execution_count": 13,
   "id": "5769c99d",
   "metadata": {},
   "outputs": [
    {
     "name": "stdout",
     "output_type": "stream",
     "text": [
      "[45, 67, 54, 32, 12]\n"
     ]
    }
   ],
   "source": [
    "print(ylist)"
   ]
  },
  {
   "cell_type": "code",
   "execution_count": 14,
   "id": "abd371c1",
   "metadata": {},
   "outputs": [],
   "source": [
    "slist=[]"
   ]
  },
  {
   "cell_type": "code",
   "execution_count": 15,
   "id": "0532eb86",
   "metadata": {},
   "outputs": [],
   "source": [
    "for m in ylist:\n",
    "    if m>50:\n",
    "        slist.append(m)\n",
    "        "
   ]
  },
  {
   "cell_type": "code",
   "execution_count": 16,
   "id": "816c4e89",
   "metadata": {},
   "outputs": [
    {
     "name": "stdout",
     "output_type": "stream",
     "text": [
      "[67, 54]\n"
     ]
    }
   ],
   "source": [
    "print(slist)"
   ]
  },
  {
   "cell_type": "code",
   "execution_count": 17,
   "id": "38a4c8db",
   "metadata": {},
   "outputs": [],
   "source": [
    "oklist=[\"Iphone\",\"book\",\"chair\",\"Table\",\"pencil\"]"
   ]
  },
  {
   "cell_type": "code",
   "execution_count": 18,
   "id": "efc57489",
   "metadata": {},
   "outputs": [
    {
     "name": "stdout",
     "output_type": "stream",
     "text": [
      "['Iphone', 'book', 'chair', 'Table', 'pencil']\n"
     ]
    }
   ],
   "source": [
    "print(oklist)"
   ]
  },
  {
   "cell_type": "code",
   "execution_count": 19,
   "id": "3cc551dd",
   "metadata": {},
   "outputs": [],
   "source": [
    "oklist.sort(key=str.lower)"
   ]
  },
  {
   "cell_type": "code",
   "execution_count": 20,
   "id": "93fc9ccf",
   "metadata": {},
   "outputs": [
    {
     "name": "stdout",
     "output_type": "stream",
     "text": [
      "['book', 'chair', 'Iphone', 'pencil', 'Table']\n"
     ]
    }
   ],
   "source": [
    "print(oklist)"
   ]
  },
  {
   "cell_type": "code",
   "execution_count": 21,
   "id": "be34c232",
   "metadata": {},
   "outputs": [],
   "source": [
    "plist=[45,67,54,32,12]"
   ]
  },
  {
   "cell_type": "code",
   "execution_count": 22,
   "id": "46cde4ea",
   "metadata": {},
   "outputs": [
    {
     "name": "stdout",
     "output_type": "stream",
     "text": [
      "[45, 67, 54, 32, 12]\n"
     ]
    }
   ],
   "source": [
    "print(plist)"
   ]
  },
  {
   "cell_type": "code",
   "execution_count": 23,
   "id": "44f7d8dc",
   "metadata": {},
   "outputs": [],
   "source": [
    "plist.reverse()"
   ]
  },
  {
   "cell_type": "code",
   "execution_count": 24,
   "id": "350e6dce",
   "metadata": {},
   "outputs": [
    {
     "name": "stdout",
     "output_type": "stream",
     "text": [
      "[12, 32, 54, 67, 45]\n"
     ]
    }
   ],
   "source": [
    "print(plist)"
   ]
  },
  {
   "cell_type": "code",
   "execution_count": 25,
   "id": "264da48d",
   "metadata": {},
   "outputs": [],
   "source": [
    "a=[1,2,3,4,5]"
   ]
  },
  {
   "cell_type": "code",
   "execution_count": 26,
   "id": "858e8031",
   "metadata": {},
   "outputs": [],
   "source": [
    "b=[\"a\",\"b\",\"c\",\"d\",\"e\"]"
   ]
  },
  {
   "cell_type": "code",
   "execution_count": 27,
   "id": "572e5a05",
   "metadata": {},
   "outputs": [],
   "source": [
    "c=a+b"
   ]
  },
  {
   "cell_type": "code",
   "execution_count": 28,
   "id": "2f502fbf",
   "metadata": {},
   "outputs": [
    {
     "name": "stdout",
     "output_type": "stream",
     "text": [
      "[1, 2, 3, 4, 5, 'a', 'b', 'c', 'd', 'e']\n"
     ]
    }
   ],
   "source": [
    "print(c)"
   ]
  }
 ],
 "metadata": {
  "kernelspec": {
   "display_name": "Python 3 (ipykernel)",
   "language": "python",
   "name": "python3"
  },
  "language_info": {
   "codemirror_mode": {
    "name": "ipython",
    "version": 3
   },
   "file_extension": ".py",
   "mimetype": "text/x-python",
   "name": "python",
   "nbconvert_exporter": "python",
   "pygments_lexer": "ipython3",
   "version": "3.11.5"
  }
 },
 "nbformat": 4,
 "nbformat_minor": 5
}
