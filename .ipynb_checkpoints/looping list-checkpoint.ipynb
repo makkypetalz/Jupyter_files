{
 "cells": [
  {
   "cell_type": "code",
   "execution_count": 1,
   "id": "e2636911",
   "metadata": {},
   "outputs": [
    {
     "name": "stdout",
     "output_type": "stream",
     "text": [
      "[23, 56, 77, 68]\n"
     ]
    }
   ],
   "source": [
    "thislist = [23,56,77,68]\n",
    "print(thislist)"
   ]
  },
  {
   "cell_type": "code",
   "execution_count": 2,
   "id": "5d9b9b21",
   "metadata": {},
   "outputs": [
    {
     "name": "stdout",
     "output_type": "stream",
     "text": [
      "23\n",
      "56\n",
      "77\n",
      "68\n"
     ]
    }
   ],
   "source": [
    "for book in thislist:\n",
    "    print(book)"
   ]
  },
  {
   "cell_type": "code",
   "execution_count": 3,
   "id": "f8d74b50",
   "metadata": {},
   "outputs": [
    {
     "name": "stdout",
     "output_type": "stream",
     "text": [
      "4\n"
     ]
    }
   ],
   "source": [
    "print(len(thislist))"
   ]
  },
  {
   "cell_type": "code",
   "execution_count": 4,
   "id": "8cdc3e8a",
   "metadata": {},
   "outputs": [
    {
     "name": "stdout",
     "output_type": "stream",
     "text": [
      "range(0, 4)\n"
     ]
    }
   ],
   "source": [
    "print(range(len(thislist)))"
   ]
  },
  {
   "cell_type": "code",
   "execution_count": 5,
   "id": "200bab30",
   "metadata": {},
   "outputs": [
    {
     "name": "stdout",
     "output_type": "stream",
     "text": [
      "23\n",
      "56\n",
      "77\n",
      "68\n"
     ]
    }
   ],
   "source": [
    "for n in range(len(thislist)):\n",
    "    print(thislist[n])"
   ]
  },
  {
   "cell_type": "markdown",
   "id": "3d4977c5",
   "metadata": {},
   "source": [
    "# list comprehension"
   ]
  },
  {
   "cell_type": "code",
   "execution_count": 6,
   "id": "8ac4c2e8",
   "metadata": {},
   "outputs": [],
   "source": [
    "mylist = [\"apple\",\"banana\",\"cherry\",\"mango\",\"potato\",\"orange\"]"
   ]
  },
  {
   "cell_type": "code",
   "execution_count": 7,
   "id": "99921434",
   "metadata": {},
   "outputs": [
    {
     "name": "stdout",
     "output_type": "stream",
     "text": [
      "['apple', 'banana', 'cherry', 'mango', 'potato', 'orange']\n"
     ]
    }
   ],
   "source": [
    "print(mylist)"
   ]
  },
  {
   "cell_type": "code",
   "execution_count": 8,
   "id": "e5523d4a",
   "metadata": {},
   "outputs": [],
   "source": [
    "newlist=[]"
   ]
  },
  {
   "cell_type": "code",
   "execution_count": 9,
   "id": "948f0eaa",
   "metadata": {},
   "outputs": [
    {
     "name": "stdout",
     "output_type": "stream",
     "text": [
      "[]\n"
     ]
    }
   ],
   "source": [
    "print(newlist)"
   ]
  },
  {
   "cell_type": "code",
   "execution_count": 10,
   "id": "e8f27616",
   "metadata": {},
   "outputs": [],
   "source": [
    "for x in mylist:\n",
    "    if \"e\" in x:\n",
    "        newlist.append(x)"
   ]
  },
  {
   "cell_type": "code",
   "execution_count": 11,
   "id": "08f7c079",
   "metadata": {},
   "outputs": [
    {
     "name": "stdout",
     "output_type": "stream",
     "text": [
      "['apple', 'cherry', 'orange']\n"
     ]
    }
   ],
   "source": [
    "print(newlist)"
   ]
  },
  {
   "cell_type": "code",
   "execution_count": 12,
   "id": "30299b31",
   "metadata": {},
   "outputs": [
    {
     "name": "stdout",
     "output_type": "stream",
     "text": [
      "[23, 56, 77, 68]\n"
     ]
    }
   ],
   "source": [
    "print(thislist)"
   ]
  },
  {
   "cell_type": "code",
   "execution_count": 13,
   "id": "c3c52044",
   "metadata": {},
   "outputs": [],
   "source": [
    "dlist = []"
   ]
  },
  {
   "cell_type": "code",
   "execution_count": 14,
   "id": "ae05e618",
   "metadata": {},
   "outputs": [
    {
     "name": "stdout",
     "output_type": "stream",
     "text": [
      "[]\n"
     ]
    }
   ],
   "source": [
    "print(dlist)"
   ]
  },
  {
   "cell_type": "code",
   "execution_count": 15,
   "id": "a762cd85",
   "metadata": {},
   "outputs": [],
   "source": [
    "for k in thislist:\n",
    "    if k<60:\n",
    "        dlist.append(k)"
   ]
  },
  {
   "cell_type": "code",
   "execution_count": 16,
   "id": "d3df905b",
   "metadata": {},
   "outputs": [
    {
     "name": "stdout",
     "output_type": "stream",
     "text": [
      "[23, 56]\n"
     ]
    }
   ],
   "source": [
    "print(dlist)"
   ]
  },
  {
   "cell_type": "markdown",
   "id": "c0bcb2ba",
   "metadata": {},
   "source": [
    "# while loop list"
   ]
  },
  {
   "cell_type": "code",
   "execution_count": 17,
   "id": "2aab3fa6",
   "metadata": {},
   "outputs": [
    {
     "name": "stdout",
     "output_type": "stream",
     "text": [
      "[23, 56, 77, 68]\n"
     ]
    }
   ],
   "source": [
    "print(thislist)"
   ]
  },
  {
   "cell_type": "code",
   "execution_count": 18,
   "id": "d37d9c7e",
   "metadata": {},
   "outputs": [],
   "source": [
    "h = 0"
   ]
  },
  {
   "cell_type": "code",
   "execution_count": 19,
   "id": "0e89726a",
   "metadata": {},
   "outputs": [
    {
     "name": "stdout",
     "output_type": "stream",
     "text": [
      "4\n"
     ]
    }
   ],
   "source": [
    "print(len(thislist))"
   ]
  },
  {
   "cell_type": "code",
   "execution_count": 20,
   "id": "ce05baee",
   "metadata": {},
   "outputs": [
    {
     "name": "stdout",
     "output_type": "stream",
     "text": [
      "0\n",
      "1\n",
      "2\n",
      "3\n"
     ]
    }
   ],
   "source": [
    "while h<len(thislist):\n",
    "    print(h)\n",
    "    h = h+1"
   ]
  },
  {
   "cell_type": "markdown",
   "id": "ba5ef10d",
   "metadata": {},
   "source": [
    "# Sorting list"
   ]
  },
  {
   "cell_type": "code",
   "execution_count": 21,
   "id": "67a3760c",
   "metadata": {},
   "outputs": [],
   "source": [
    "jlist = [90,78,84,35,67]"
   ]
  },
  {
   "cell_type": "code",
   "execution_count": 23,
   "id": "2f0a7515",
   "metadata": {},
   "outputs": [
    {
     "name": "stdout",
     "output_type": "stream",
     "text": [
      "[90, 78, 84, 35, 67]\n"
     ]
    }
   ],
   "source": [
    "print(jlist)"
   ]
  },
  {
   "cell_type": "code",
   "execution_count": 24,
   "id": "b55c27de",
   "metadata": {},
   "outputs": [],
   "source": [
    "jlist.sort()"
   ]
  },
  {
   "cell_type": "code",
   "execution_count": 26,
   "id": "6a266e6a",
   "metadata": {},
   "outputs": [
    {
     "name": "stdout",
     "output_type": "stream",
     "text": [
      "[35, 67, 78, 84, 90]\n"
     ]
    }
   ],
   "source": [
    "print(jlist)"
   ]
  },
  {
   "cell_type": "code",
   "execution_count": 27,
   "id": "ed783117",
   "metadata": {},
   "outputs": [],
   "source": [
    "jlist.sort(reverse=True)"
   ]
  },
  {
   "cell_type": "code",
   "execution_count": 29,
   "id": "14782449",
   "metadata": {},
   "outputs": [
    {
     "name": "stdout",
     "output_type": "stream",
     "text": [
      "[90, 84, 78, 67, 35]\n"
     ]
    }
   ],
   "source": [
    "print(jlist)"
   ]
  },
  {
   "cell_type": "code",
   "execution_count": 31,
   "id": "52ef1b8c",
   "metadata": {},
   "outputs": [
    {
     "name": "stdout",
     "output_type": "stream",
     "text": [
      "['apple', 'banana', 'cherry', 'mango', 'potato', 'orange']\n"
     ]
    }
   ],
   "source": [
    "print(mylist)"
   ]
  },
  {
   "cell_type": "code",
   "execution_count": 32,
   "id": "75bfa485",
   "metadata": {},
   "outputs": [],
   "source": [
    "mylist.sort()"
   ]
  },
  {
   "cell_type": "code",
   "execution_count": 34,
   "id": "32cf4b5c",
   "metadata": {},
   "outputs": [
    {
     "name": "stdout",
     "output_type": "stream",
     "text": [
      "['apple', 'banana', 'cherry', 'mango', 'orange', 'potato']\n"
     ]
    }
   ],
   "source": [
    "print(mylist)"
   ]
  },
  {
   "cell_type": "code",
   "execution_count": 35,
   "id": "987474d5",
   "metadata": {},
   "outputs": [],
   "source": [
    "mylist.sort(reverse=True)"
   ]
  },
  {
   "cell_type": "code",
   "execution_count": 37,
   "id": "7da3a544",
   "metadata": {},
   "outputs": [
    {
     "name": "stdout",
     "output_type": "stream",
     "text": [
      "['potato', 'orange', 'mango', 'cherry', 'banana', 'apple']\n"
     ]
    }
   ],
   "source": [
    "print(mylist)"
   ]
  },
  {
   "cell_type": "markdown",
   "id": "a2b2c06f",
   "metadata": {},
   "source": [
    "# sort() method is case sensitive"
   ]
  },
  {
   "cell_type": "code",
   "execution_count": 38,
   "id": "e5e19e08",
   "metadata": {},
   "outputs": [],
   "source": [
    "qlist = [\"pineapple\", \"orange\", \"Iphone\", \"Table\", \"book\"]"
   ]
  },
  {
   "cell_type": "code",
   "execution_count": 40,
   "id": "0143bc04",
   "metadata": {},
   "outputs": [
    {
     "name": "stdout",
     "output_type": "stream",
     "text": [
      "['pineapple', 'orange', 'Iphone', 'Table', 'book']\n"
     ]
    }
   ],
   "source": [
    "print(qlist)"
   ]
  },
  {
   "cell_type": "code",
   "execution_count": 41,
   "id": "c6a0b11a",
   "metadata": {},
   "outputs": [],
   "source": [
    "qlist.sort()"
   ]
  },
  {
   "cell_type": "code",
   "execution_count": 43,
   "id": "6bc9a725",
   "metadata": {},
   "outputs": [
    {
     "name": "stdout",
     "output_type": "stream",
     "text": [
      "['Iphone', 'Table', 'book', 'orange', 'pineapple']\n"
     ]
    }
   ],
   "source": [
    "print(qlist)"
   ]
  },
  {
   "cell_type": "code",
   "execution_count": 44,
   "id": "51f64f93",
   "metadata": {},
   "outputs": [],
   "source": [
    "qlist.sort(key=str.lower)"
   ]
  },
  {
   "cell_type": "code",
   "execution_count": 46,
   "id": "d370cc3d",
   "metadata": {},
   "outputs": [
    {
     "name": "stdout",
     "output_type": "stream",
     "text": [
      "['book', 'Iphone', 'orange', 'pineapple', 'Table']\n"
     ]
    }
   ],
   "source": [
    "print(qlist)"
   ]
  },
  {
   "cell_type": "markdown",
   "id": "3ebaf809",
   "metadata": {},
   "source": [
    "# reverse() method"
   ]
  },
  {
   "cell_type": "code",
   "execution_count": 47,
   "id": "5b8cde40",
   "metadata": {},
   "outputs": [],
   "source": [
    "kklist = [67,34,65,48,90]"
   ]
  },
  {
   "cell_type": "code",
   "execution_count": 49,
   "id": "6c582723",
   "metadata": {},
   "outputs": [
    {
     "name": "stdout",
     "output_type": "stream",
     "text": [
      "[67, 34, 65, 48, 90]\n"
     ]
    }
   ],
   "source": [
    "print(kklist)"
   ]
  },
  {
   "cell_type": "code",
   "execution_count": 50,
   "id": "a3af9279",
   "metadata": {},
   "outputs": [],
   "source": [
    "kklist.reverse()"
   ]
  },
  {
   "cell_type": "code",
   "execution_count": 52,
   "id": "4a57b8b6",
   "metadata": {},
   "outputs": [
    {
     "name": "stdout",
     "output_type": "stream",
     "text": [
      "[90, 48, 65, 34, 67]\n"
     ]
    }
   ],
   "source": [
    "print(kklist)"
   ]
  },
  {
   "cell_type": "markdown",
   "id": "78cd7c6d",
   "metadata": {},
   "source": [
    "# copy() method"
   ]
  },
  {
   "cell_type": "code",
   "execution_count": 53,
   "id": "fe9582bd",
   "metadata": {},
   "outputs": [],
   "source": [
    "cclist = [1,2,3,4,5]"
   ]
  },
  {
   "cell_type": "code",
   "execution_count": 55,
   "id": "af64a295",
   "metadata": {},
   "outputs": [
    {
     "name": "stdout",
     "output_type": "stream",
     "text": [
      "[1, 2, 3, 4, 5]\n"
     ]
    }
   ],
   "source": [
    "print(cclist)"
   ]
  },
  {
   "cell_type": "code",
   "execution_count": 56,
   "id": "6fb5e8f6",
   "metadata": {},
   "outputs": [],
   "source": [
    "rrlist = cclist.copy()"
   ]
  },
  {
   "cell_type": "code",
   "execution_count": 58,
   "id": "05d544fa",
   "metadata": {},
   "outputs": [
    {
     "name": "stdout",
     "output_type": "stream",
     "text": [
      "[1, 2, 3, 4, 5]\n"
     ]
    }
   ],
   "source": [
    "print(rrlist)"
   ]
  },
  {
   "cell_type": "markdown",
   "id": "00219b1b",
   "metadata": {},
   "source": [
    "# list() method"
   ]
  },
  {
   "cell_type": "code",
   "execution_count": 59,
   "id": "3d9f3884",
   "metadata": {},
   "outputs": [],
   "source": [
    "llist = [\"a\",\"b\", \"c\"]"
   ]
  },
  {
   "cell_type": "code",
   "execution_count": 61,
   "id": "5e81c016",
   "metadata": {},
   "outputs": [
    {
     "name": "stdout",
     "output_type": "stream",
     "text": [
      "['a', 'b', 'c']\n"
     ]
    }
   ],
   "source": [
    "print(llist)"
   ]
  },
  {
   "cell_type": "code",
   "execution_count": 62,
   "id": "087fe654",
   "metadata": {},
   "outputs": [],
   "source": [
    "ilist = list(llist)"
   ]
  },
  {
   "cell_type": "code",
   "execution_count": 64,
   "id": "48ceff24",
   "metadata": {},
   "outputs": [
    {
     "name": "stdout",
     "output_type": "stream",
     "text": [
      "['a', 'b', 'c']\n"
     ]
    }
   ],
   "source": [
    "print(ilist)"
   ]
  },
  {
   "cell_type": "markdown",
   "id": "82485f4b",
   "metadata": {},
   "source": [
    "# join list"
   ]
  },
  {
   "cell_type": "code",
   "execution_count": 66,
   "id": "26666c1e",
   "metadata": {},
   "outputs": [
    {
     "name": "stdout",
     "output_type": "stream",
     "text": [
      "[1, 2, 3, 4, 5]\n"
     ]
    }
   ],
   "source": [
    "print(cclist)"
   ]
  },
  {
   "cell_type": "code",
   "execution_count": 68,
   "id": "a4d51ffc",
   "metadata": {},
   "outputs": [
    {
     "name": "stdout",
     "output_type": "stream",
     "text": [
      "['a', 'b', 'c']\n"
     ]
    }
   ],
   "source": [
    "print(llist)"
   ]
  },
  {
   "cell_type": "code",
   "execution_count": 70,
   "id": "7b16dfc1",
   "metadata": {},
   "outputs": [],
   "source": [
    "mlist = cclist+llist"
   ]
  },
  {
   "cell_type": "code",
   "execution_count": 72,
   "id": "345a9c6b",
   "metadata": {},
   "outputs": [
    {
     "name": "stdout",
     "output_type": "stream",
     "text": [
      "[1, 2, 3, 4, 5, 'a', 'b', 'c']\n"
     ]
    }
   ],
   "source": [
    "print(mlist)"
   ]
  },
  {
   "cell_type": "markdown",
   "id": "5c45cd2e",
   "metadata": {},
   "source": [
    "# extend() method"
   ]
  },
  {
   "cell_type": "code",
   "execution_count": 73,
   "id": "d0ff85fd",
   "metadata": {},
   "outputs": [],
   "source": [
    "cclist.extend(llist)"
   ]
  },
  {
   "cell_type": "code",
   "execution_count": 74,
   "id": "51dd103c",
   "metadata": {},
   "outputs": [
    {
     "name": "stdout",
     "output_type": "stream",
     "text": [
      "[1, 2, 3, 4, 5, 'a', 'b', 'c']\n"
     ]
    }
   ],
   "source": [
    "print(cclist)"
   ]
  },
  {
   "cell_type": "markdown",
   "id": "16e703c8",
   "metadata": {},
   "source": [
    "# append() method"
   ]
  },
  {
   "cell_type": "code",
   "execution_count": 75,
   "id": "f18b3bca",
   "metadata": {},
   "outputs": [],
   "source": [
    "for v in cclist:\n",
    "    llist.append(v)"
   ]
  },
  {
   "cell_type": "code",
   "execution_count": 76,
   "id": "7aa4c335",
   "metadata": {},
   "outputs": [
    {
     "name": "stdout",
     "output_type": "stream",
     "text": [
      "['a', 'b', 'c', 1, 2, 3, 4, 5, 'a', 'b', 'c']\n"
     ]
    }
   ],
   "source": [
    "print(llist)"
   ]
  }
 ],
 "metadata": {
  "kernelspec": {
   "display_name": "Python 3 (ipykernel)",
   "language": "python",
   "name": "python3"
  },
  "language_info": {
   "codemirror_mode": {
    "name": "ipython",
    "version": 3
   },
   "file_extension": ".py",
   "mimetype": "text/x-python",
   "name": "python",
   "nbconvert_exporter": "python",
   "pygments_lexer": "ipython3",
   "version": "3.11.5"
  }
 },
 "nbformat": 4,
 "nbformat_minor": 5
}
