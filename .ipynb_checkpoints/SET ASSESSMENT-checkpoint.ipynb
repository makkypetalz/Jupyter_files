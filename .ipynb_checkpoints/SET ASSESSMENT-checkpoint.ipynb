{
 "cells": [
  {
   "cell_type": "markdown",
   "id": "94517f75",
   "metadata": {},
   "source": [
    "# OKAFOR CHIAMAKA"
   ]
  },
  {
   "cell_type": "markdown",
   "id": "adc7b539",
   "metadata": {},
   "source": [
    "# Create a set of 10 items using the set constructor"
   ]
  },
  {
   "cell_type": "code",
   "execution_count": 1,
   "id": "86c11471",
   "metadata": {},
   "outputs": [],
   "source": [
    "newlist = set((5,10,15,20,25,30,35,40,45,50))"
   ]
  },
  {
   "cell_type": "code",
   "execution_count": 2,
   "id": "12354e8d",
   "metadata": {},
   "outputs": [
    {
     "name": "stdout",
     "output_type": "stream",
     "text": [
      "{35, 5, 40, 10, 45, 15, 50, 20, 25, 30}\n"
     ]
    }
   ],
   "source": [
    "print(newlist)"
   ]
  },
  {
   "cell_type": "markdown",
   "id": "1af8c870",
   "metadata": {},
   "source": [
    "# Access through this set"
   ]
  },
  {
   "cell_type": "code",
   "execution_count": 3,
   "id": "2c21dbf5",
   "metadata": {},
   "outputs": [],
   "source": [
    "myset = {1,2,3,4,5}"
   ]
  },
  {
   "cell_type": "code",
   "execution_count": 4,
   "id": "4e2bea4e",
   "metadata": {},
   "outputs": [
    {
     "name": "stdout",
     "output_type": "stream",
     "text": [
      "{1, 2, 3, 4, 5}\n"
     ]
    }
   ],
   "source": [
    "print(myset)"
   ]
  },
  {
   "cell_type": "code",
   "execution_count": 5,
   "id": "15d56951",
   "metadata": {},
   "outputs": [
    {
     "name": "stdout",
     "output_type": "stream",
     "text": [
      "1\n",
      "2\n",
      "3\n",
      "4\n",
      "5\n"
     ]
    }
   ],
   "source": [
    "for x in myset:\n",
    "    print(x)"
   ]
  },
  {
   "cell_type": "markdown",
   "id": "b30aa143",
   "metadata": {},
   "source": [
    "# Add a new item to the set"
   ]
  },
  {
   "cell_type": "code",
   "execution_count": 6,
   "id": "ff010957",
   "metadata": {},
   "outputs": [],
   "source": [
    "newset = {1,2,3,4,5}"
   ]
  },
  {
   "cell_type": "code",
   "execution_count": 7,
   "id": "886cd824",
   "metadata": {},
   "outputs": [
    {
     "name": "stdout",
     "output_type": "stream",
     "text": [
      "{1, 2, 3, 4, 5}\n"
     ]
    }
   ],
   "source": [
    "print(newset)"
   ]
  },
  {
   "cell_type": "code",
   "execution_count": 8,
   "id": "9f0af8a6",
   "metadata": {},
   "outputs": [],
   "source": [
    "newset.add(8)"
   ]
  },
  {
   "cell_type": "code",
   "execution_count": 9,
   "id": "072326b6",
   "metadata": {},
   "outputs": [
    {
     "name": "stdout",
     "output_type": "stream",
     "text": [
      "{1, 2, 3, 4, 5, 8}\n"
     ]
    }
   ],
   "source": [
    "print(newset)"
   ]
  },
  {
   "cell_type": "markdown",
   "id": "83c3cbf4",
   "metadata": {},
   "source": [
    "# Add item in set1 into set2"
   ]
  },
  {
   "cell_type": "code",
   "execution_count": 10,
   "id": "051c82b9",
   "metadata": {},
   "outputs": [],
   "source": [
    "set1 = {1,2,3,4,5}\n",
    "set2 = {\"a\",\"b\",\"c\"}"
   ]
  },
  {
   "cell_type": "code",
   "execution_count": 11,
   "id": "a5a83d35",
   "metadata": {},
   "outputs": [
    {
     "name": "stdout",
     "output_type": "stream",
     "text": [
      "{1, 2, 3, 4, 5}\n",
      "{'c', 'a', 'b'}\n"
     ]
    }
   ],
   "source": [
    "print(set1)\n",
    "print(set2)"
   ]
  },
  {
   "cell_type": "code",
   "execution_count": 12,
   "id": "b4984963",
   "metadata": {},
   "outputs": [],
   "source": [
    "set1.update(set2)"
   ]
  },
  {
   "cell_type": "code",
   "execution_count": 13,
   "id": "9bf9859e",
   "metadata": {},
   "outputs": [
    {
     "name": "stdout",
     "output_type": "stream",
     "text": [
      "{1, 2, 3, 4, 5, 'a', 'c', 'b'}\n"
     ]
    }
   ],
   "source": [
    "print(set1)"
   ]
  },
  {
   "cell_type": "markdown",
   "id": "9a111b89",
   "metadata": {},
   "source": [
    "# Add the items in mylist into okset"
   ]
  },
  {
   "cell_type": "code",
   "execution_count": 14,
   "id": "55ad3a7e",
   "metadata": {},
   "outputs": [],
   "source": [
    "mylist = [\"apple\",\"banana\",\"potato\"]\n",
    "okset = {78.0, 564, False}"
   ]
  },
  {
   "cell_type": "code",
   "execution_count": 15,
   "id": "0b246f07",
   "metadata": {},
   "outputs": [],
   "source": [
    "okset.update(mylist)"
   ]
  },
  {
   "cell_type": "code",
   "execution_count": 16,
   "id": "224516e2",
   "metadata": {},
   "outputs": [
    {
     "name": "stdout",
     "output_type": "stream",
     "text": [
      "{False, 78.0, 'banana', 564, 'apple', 'potato'}\n"
     ]
    }
   ],
   "source": [
    "print(okset)"
   ]
  },
  {
   "cell_type": "markdown",
   "id": "010c8d28",
   "metadata": {},
   "source": [
    "# Remove \"apple\" from the set"
   ]
  },
  {
   "cell_type": "code",
   "execution_count": 17,
   "id": "e67cd976",
   "metadata": {},
   "outputs": [
    {
     "name": "stdout",
     "output_type": "stream",
     "text": [
      "['apple', 'banana', 'potato']\n"
     ]
    }
   ],
   "source": [
    "print(mylist)"
   ]
  },
  {
   "cell_type": "code",
   "execution_count": 18,
   "id": "da0807ac",
   "metadata": {},
   "outputs": [],
   "source": [
    "mylist.remove(\"apple\")"
   ]
  },
  {
   "cell_type": "code",
   "execution_count": 19,
   "id": "abc0d6f5",
   "metadata": {},
   "outputs": [
    {
     "name": "stdout",
     "output_type": "stream",
     "text": [
      "['banana', 'potato']\n"
     ]
    }
   ],
   "source": [
    "print(mylist)"
   ]
  },
  {
   "cell_type": "markdown",
   "id": "27c9a69c",
   "metadata": {},
   "source": [
    "# Remove the last item in a set using pop() method"
   ]
  },
  {
   "cell_type": "code",
   "execution_count": 20,
   "id": "362fb313",
   "metadata": {},
   "outputs": [],
   "source": [
    "dset = {78.0, 564, False}"
   ]
  },
  {
   "cell_type": "code",
   "execution_count": 21,
   "id": "8987b6a2",
   "metadata": {},
   "outputs": [
    {
     "name": "stdout",
     "output_type": "stream",
     "text": [
      "{False, 564, 78.0}\n"
     ]
    }
   ],
   "source": [
    "print(dset)"
   ]
  },
  {
   "cell_type": "code",
   "execution_count": 22,
   "id": "8b725e42",
   "metadata": {},
   "outputs": [],
   "source": [
    "klist = list(dset)"
   ]
  },
  {
   "cell_type": "code",
   "execution_count": 23,
   "id": "122e919d",
   "metadata": {},
   "outputs": [
    {
     "name": "stdout",
     "output_type": "stream",
     "text": [
      "[False, 564, 78.0]\n"
     ]
    }
   ],
   "source": [
    "print(klist)"
   ]
  },
  {
   "cell_type": "code",
   "execution_count": 24,
   "id": "f5aeac58",
   "metadata": {},
   "outputs": [
    {
     "data": {
      "text/plain": [
       "False"
      ]
     },
     "execution_count": 24,
     "metadata": {},
     "output_type": "execute_result"
    }
   ],
   "source": [
    "klist.pop(0)"
   ]
  },
  {
   "cell_type": "code",
   "execution_count": 25,
   "id": "99f1f4f1",
   "metadata": {},
   "outputs": [],
   "source": [
    "mlist = set(klist)"
   ]
  },
  {
   "cell_type": "code",
   "execution_count": 26,
   "id": "45d9fdf7",
   "metadata": {},
   "outputs": [
    {
     "name": "stdout",
     "output_type": "stream",
     "text": [
      "{564, 78.0}\n"
     ]
    }
   ],
   "source": [
    "print(mlist)"
   ]
  },
  {
   "cell_type": "markdown",
   "id": "91d969b7",
   "metadata": {},
   "source": [
    "# Join the two set together"
   ]
  },
  {
   "cell_type": "code",
   "execution_count": 27,
   "id": "9de86004",
   "metadata": {},
   "outputs": [],
   "source": [
    "a = {1,2,3,4,5}\n",
    "b = {\"a\",\"b\",\"c\"}"
   ]
  },
  {
   "cell_type": "code",
   "execution_count": 28,
   "id": "aabbe3b2",
   "metadata": {},
   "outputs": [
    {
     "name": "stdout",
     "output_type": "stream",
     "text": [
      "{1, 2, 3, 4, 5}\n",
      "{'c', 'a', 'b'}\n"
     ]
    }
   ],
   "source": [
    "print(a)\n",
    "print(b)"
   ]
  },
  {
   "cell_type": "code",
   "execution_count": 29,
   "id": "afab5a36",
   "metadata": {},
   "outputs": [],
   "source": [
    "c = a.union(b)"
   ]
  },
  {
   "cell_type": "code",
   "execution_count": 30,
   "id": "b24d8e26",
   "metadata": {},
   "outputs": [
    {
     "name": "stdout",
     "output_type": "stream",
     "text": [
      "{1, 2, 3, 4, 5, 'a', 'c', 'b'}\n"
     ]
    }
   ],
   "source": [
    "print(c)"
   ]
  },
  {
   "cell_type": "markdown",
   "id": "aca0385b",
   "metadata": {},
   "source": [
    "# Keep on duplicate values in these sets"
   ]
  },
  {
   "cell_type": "code",
   "execution_count": 31,
   "id": "64acec38",
   "metadata": {},
   "outputs": [],
   "source": [
    "ok = {1,2,3}\n",
    "up = {\"a\",2,1}"
   ]
  },
  {
   "cell_type": "code",
   "execution_count": 32,
   "id": "2767310b",
   "metadata": {},
   "outputs": [
    {
     "name": "stdout",
     "output_type": "stream",
     "text": [
      "{1, 2, 3}\n",
      "{'a', 2, 1}\n"
     ]
    }
   ],
   "source": [
    "print(ok)\n",
    "print(up)"
   ]
  },
  {
   "cell_type": "code",
   "execution_count": 33,
   "id": "91f3a47d",
   "metadata": {},
   "outputs": [],
   "source": [
    "ok.intersection_update(up)"
   ]
  },
  {
   "cell_type": "code",
   "execution_count": 34,
   "id": "227178bf",
   "metadata": {},
   "outputs": [
    {
     "name": "stdout",
     "output_type": "stream",
     "text": [
      "{1, 2}\n"
     ]
    }
   ],
   "source": [
    "print(ok)"
   ]
  },
  {
   "cell_type": "markdown",
   "id": "b247c315",
   "metadata": {},
   "source": [
    "# Exclude duplicate values in these sets"
   ]
  },
  {
   "cell_type": "code",
   "execution_count": 35,
   "id": "bb5376fc",
   "metadata": {},
   "outputs": [],
   "source": [
    "lagos = {1,2,3}\n",
    "anam = {\"a\",2,1}"
   ]
  },
  {
   "cell_type": "code",
   "execution_count": 37,
   "id": "5e6afa71",
   "metadata": {},
   "outputs": [
    {
     "name": "stdout",
     "output_type": "stream",
     "text": [
      "{1, 2, 3}\n",
      "{'a', 2, 1}\n"
     ]
    }
   ],
   "source": [
    "print(lagos)\n",
    "print(anam)"
   ]
  },
  {
   "cell_type": "code",
   "execution_count": 40,
   "id": "af47cc3d",
   "metadata": {},
   "outputs": [],
   "source": [
    "lagos.symmetric_difference_update(anam)"
   ]
  },
  {
   "cell_type": "code",
   "execution_count": 41,
   "id": "69eb9728",
   "metadata": {},
   "outputs": [
    {
     "name": "stdout",
     "output_type": "stream",
     "text": [
      "{3, 'a'}\n"
     ]
    }
   ],
   "source": [
    "print(lagos)"
   ]
  },
  {
   "cell_type": "code",
   "execution_count": null,
   "id": "e1bf8869",
   "metadata": {},
   "outputs": [],
   "source": []
  },
  {
   "cell_type": "code",
   "execution_count": null,
   "id": "3da9b3a1",
   "metadata": {},
   "outputs": [],
   "source": []
  }
 ],
 "metadata": {
  "kernelspec": {
   "display_name": "Python 3 (ipykernel)",
   "language": "python",
   "name": "python3"
  },
  "language_info": {
   "codemirror_mode": {
    "name": "ipython",
    "version": 3
   },
   "file_extension": ".py",
   "mimetype": "text/x-python",
   "name": "python",
   "nbconvert_exporter": "python",
   "pygments_lexer": "ipython3",
   "version": "3.11.5"
  }
 },
 "nbformat": 4,
 "nbformat_minor": 5
}
