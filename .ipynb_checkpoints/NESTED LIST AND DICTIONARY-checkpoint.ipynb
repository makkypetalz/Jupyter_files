{
 "cells": [
  {
   "cell_type": "code",
   "execution_count": 1,
   "id": "103cb855",
   "metadata": {},
   "outputs": [],
   "source": [
    "mylist = [1,2,3,[\"a\",\"b\",\"c\",[\"house\",\"mount\",\"car\"]],\"code\",\"anambra\",\"abia\",[34,90,100,300]]"
   ]
  },
  {
   "cell_type": "code",
   "execution_count": 2,
   "id": "c42cff04",
   "metadata": {},
   "outputs": [
    {
     "name": "stdout",
     "output_type": "stream",
     "text": [
      "[1, 2, 3, ['a', 'b', 'c', ['house', 'mount', 'car']], 'code', 'anambra', 'abia', [34, 90, 100, 300]]\n"
     ]
    }
   ],
   "source": [
    "print(mylist)"
   ]
  },
  {
   "cell_type": "code",
   "execution_count": 3,
   "id": "57001fb5",
   "metadata": {},
   "outputs": [
    {
     "name": "stdout",
     "output_type": "stream",
     "text": [
      "8\n"
     ]
    }
   ],
   "source": [
    "print(len(mylist))"
   ]
  },
  {
   "cell_type": "code",
   "execution_count": 4,
   "id": "6e89ff28",
   "metadata": {},
   "outputs": [
    {
     "name": "stdout",
     "output_type": "stream",
     "text": [
      "3\n"
     ]
    }
   ],
   "source": [
    "print(mylist[2])"
   ]
  },
  {
   "cell_type": "code",
   "execution_count": 5,
   "id": "d5bc4675",
   "metadata": {},
   "outputs": [
    {
     "name": "stdout",
     "output_type": "stream",
     "text": [
      "['house', 'mount', 'car']\n"
     ]
    }
   ],
   "source": [
    "print(mylist[3][3])"
   ]
  },
  {
   "cell_type": "code",
   "execution_count": 6,
   "id": "032cc215",
   "metadata": {},
   "outputs": [
    {
     "name": "stdout",
     "output_type": "stream",
     "text": [
      "house\n"
     ]
    }
   ],
   "source": [
    "print(mylist[3][3][0])"
   ]
  },
  {
   "cell_type": "code",
   "execution_count": 7,
   "id": "d5eade7e",
   "metadata": {},
   "outputs": [
    {
     "name": "stdout",
     "output_type": "stream",
     "text": [
      "abia\n"
     ]
    }
   ],
   "source": [
    "print(mylist[6])"
   ]
  },
  {
   "cell_type": "code",
   "execution_count": 8,
   "id": "5476d9fc",
   "metadata": {},
   "outputs": [
    {
     "name": "stdout",
     "output_type": "stream",
     "text": [
      "i\n"
     ]
    }
   ],
   "source": [
    "print(mylist[6][2])"
   ]
  },
  {
   "cell_type": "markdown",
   "id": "c9b8784b",
   "metadata": {},
   "source": [
    "# Accessing list in dictionary"
   ]
  },
  {
   "cell_type": "code",
   "execution_count": 11,
   "id": "91d26684",
   "metadata": {},
   "outputs": [],
   "source": [
    "mydict = {\n",
    "    \"car\":\"toyota\",\n",
    "    \"model\":\"camry\",\n",
    "    \"year\":2024,\n",
    "    \"colour\":[\"orange\",\"blue\",\"black\"]\n",
    "    }"
   ]
  },
  {
   "cell_type": "code",
   "execution_count": 13,
   "id": "ae0fb0c6",
   "metadata": {},
   "outputs": [
    {
     "name": "stdout",
     "output_type": "stream",
     "text": [
      "{'car': 'toyota', 'model': 'camry', 'year': 2024, 'colour': ['orange', 'blue', 'black']}\n"
     ]
    }
   ],
   "source": [
    "print(mydict)"
   ]
  },
  {
   "cell_type": "code",
   "execution_count": 15,
   "id": "86855e0d",
   "metadata": {},
   "outputs": [
    {
     "name": "stdout",
     "output_type": "stream",
     "text": [
      "black\n"
     ]
    }
   ],
   "source": [
    "print(mydict[\"colour\"][2])"
   ]
  },
  {
   "cell_type": "code",
   "execution_count": 17,
   "id": "fa373dde",
   "metadata": {},
   "outputs": [
    {
     "name": "stdout",
     "output_type": "stream",
     "text": [
      "5\n"
     ]
    }
   ],
   "source": [
    "print(len(mydict[\"colour\"][2]))"
   ]
  },
  {
   "cell_type": "code",
   "execution_count": 19,
   "id": "b8c3ed9b",
   "metadata": {},
   "outputs": [
    {
     "name": "stdout",
     "output_type": "stream",
     "text": [
      "a\n"
     ]
    }
   ],
   "source": [
    "print(mydict[\"colour\"][2][2])"
   ]
  }
 ],
 "metadata": {
  "kernelspec": {
   "display_name": "Python 3 (ipykernel)",
   "language": "python",
   "name": "python3"
  },
  "language_info": {
   "codemirror_mode": {
    "name": "ipython",
    "version": 3
   },
   "file_extension": ".py",
   "mimetype": "text/x-python",
   "name": "python",
   "nbconvert_exporter": "python",
   "pygments_lexer": "ipython3",
   "version": "3.11.5"
  }
 },
 "nbformat": 4,
 "nbformat_minor": 5
}
