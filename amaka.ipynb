{
 "cells": [
  {
   "cell_type": "code",
   "execution_count": 39,
   "id": "adcbf6af",
   "metadata": {},
   "outputs": [
    {
     "name": "stdout",
     "output_type": "stream",
     "text": [
      "Hello World\n"
     ]
    }
   ],
   "source": [
    "print('Hello World')"
   ]
  },
  {
   "cell_type": "markdown",
   "id": "b19457ec",
   "metadata": {},
   "source": [
    "# INTEGER"
   ]
  },
  {
   "cell_type": "code",
   "execution_count": 2,
   "id": "c66d7696",
   "metadata": {},
   "outputs": [],
   "source": [
    "# alt + enter to open a new cell"
   ]
  },
  {
   "cell_type": "code",
   "execution_count": 3,
   "id": "745c245b",
   "metadata": {},
   "outputs": [],
   "source": [
    "# ctrl + enter to run our code"
   ]
  },
  {
   "cell_type": "code",
   "execution_count": 6,
   "id": "4bc43a40",
   "metadata": {},
   "outputs": [
    {
     "name": "stdout",
     "output_type": "stream",
     "text": [
      "142\n"
     ]
    }
   ],
   "source": [
    "print(46 + 96)"
   ]
  },
  {
   "cell_type": "code",
   "execution_count": 28,
   "id": "29040549",
   "metadata": {},
   "outputs": [
    {
     "name": "stdout",
     "output_type": "stream",
     "text": [
      "2.0\n"
     ]
    }
   ],
   "source": [
    "print(4/2)"
   ]
  },
  {
   "cell_type": "markdown",
   "id": "4248d92e",
   "metadata": {},
   "source": [
    "# FLOAT"
   ]
  },
  {
   "cell_type": "code",
   "execution_count": 14,
   "id": "55f22491",
   "metadata": {},
   "outputs": [
    {
     "name": "stdout",
     "output_type": "stream",
     "text": [
      "3.5\n"
     ]
    }
   ],
   "source": [
    "print(7/2)"
   ]
  },
  {
   "cell_type": "code",
   "execution_count": 16,
   "id": "7e681fdb",
   "metadata": {},
   "outputs": [
    {
     "name": "stdout",
     "output_type": "stream",
     "text": [
      "2.25\n"
     ]
    }
   ],
   "source": [
    "print(9/4)"
   ]
  },
  {
   "cell_type": "markdown",
   "id": "628076f6",
   "metadata": {},
   "source": [
    "# TYPE CONVERSION"
   ]
  },
  {
   "cell_type": "code",
   "execution_count": 20,
   "id": "067f98d7",
   "metadata": {},
   "outputs": [
    {
     "name": "stdout",
     "output_type": "stream",
     "text": [
      "103\n"
     ]
    }
   ],
   "source": [
    "b = 58\n",
    "a = 45\n",
    "print(a + b)"
   ]
  },
  {
   "cell_type": "code",
   "execution_count": 22,
   "id": "1cc61d06",
   "metadata": {},
   "outputs": [
    {
     "name": "stdout",
     "output_type": "stream",
     "text": [
      "45.0\n"
     ]
    }
   ],
   "source": [
    "print(float(a))"
   ]
  },
  {
   "cell_type": "code",
   "execution_count": 23,
   "id": "bb6e1074",
   "metadata": {},
   "outputs": [],
   "source": [
    "c = 52.5"
   ]
  },
  {
   "cell_type": "code",
   "execution_count": 25,
   "id": "8ff32ee3",
   "metadata": {},
   "outputs": [
    {
     "name": "stdout",
     "output_type": "stream",
     "text": [
      "52\n"
     ]
    }
   ],
   "source": [
    "print(int(c))"
   ]
  },
  {
   "cell_type": "code",
   "execution_count": 29,
   "id": "c4b8f5e1",
   "metadata": {},
   "outputs": [
    {
     "name": "stdout",
     "output_type": "stream",
     "text": [
      "39.0\n"
     ]
    }
   ],
   "source": [
    "print(float(39))"
   ]
  },
  {
   "cell_type": "code",
   "execution_count": 32,
   "id": "49341fc5",
   "metadata": {},
   "outputs": [
    {
     "name": "stdout",
     "output_type": "stream",
     "text": [
      "42\n"
     ]
    }
   ],
   "source": [
    "print(int(42.9))"
   ]
  },
  {
   "cell_type": "code",
   "execution_count": 33,
   "id": "27205085",
   "metadata": {},
   "outputs": [],
   "source": [
    "# type() function is used to know the data type we are working in python\n",
    "# print() function is used to display our code"
   ]
  },
  {
   "cell_type": "code",
   "execution_count": 35,
   "id": "8202a10a",
   "metadata": {},
   "outputs": [
    {
     "name": "stdout",
     "output_type": "stream",
     "text": [
      "<class 'int'>\n"
     ]
    }
   ],
   "source": [
    "print(type(67))"
   ]
  },
  {
   "cell_type": "code",
   "execution_count": 41,
   "id": "8d2736fb",
   "metadata": {},
   "outputs": [
    {
     "name": "stdout",
     "output_type": "stream",
     "text": [
      "<class 'float'>\n"
     ]
    }
   ],
   "source": [
    "print(type(45.90))"
   ]
  },
  {
   "cell_type": "code",
   "execution_count": 42,
   "id": "94ab7691",
   "metadata": {},
   "outputs": [
    {
     "name": "stdout",
     "output_type": "stream",
     "text": [
      "<class 'str'>\n"
     ]
    }
   ],
   "source": [
    "print(type('Hello AI learners'))"
   ]
  },
  {
   "cell_type": "code",
   "execution_count": 44,
   "id": "83282b94",
   "metadata": {},
   "outputs": [
    {
     "name": "stdout",
     "output_type": "stream",
     "text": [
      "<class 'str'>\n"
     ]
    }
   ],
   "source": [
    "print(type('true'))"
   ]
  },
  {
   "cell_type": "code",
   "execution_count": null,
   "id": "3e6c4281",
   "metadata": {},
   "outputs": [],
   "source": [
    "bb = 45\n",
    "cc = 50.6"
   ]
  },
  {
   "cell_type": "code",
   "execution_count": 46,
   "id": "817a2c20",
   "metadata": {},
   "outputs": [
    {
     "ename": "NameError",
     "evalue": "name 'bb' is not defined",
     "output_type": "error",
     "traceback": [
      "\u001b[1;31m---------------------------------------------------------------------------\u001b[0m",
      "\u001b[1;31mNameError\u001b[0m                                 Traceback (most recent call last)",
      "Cell \u001b[1;32mIn[46], line 1\u001b[0m\n\u001b[1;32m----> 1\u001b[0m \u001b[38;5;28mprint\u001b[39m(\u001b[38;5;28mstr\u001b[39m(bb))\n",
      "\u001b[1;31mNameError\u001b[0m: name 'bb' is not defined"
     ]
    }
   ],
   "source": [
    "print(str(bb))"
   ]
  },
  {
   "cell_type": "markdown",
   "id": "ef8a1c3f",
   "metadata": {},
   "source": [
    "# Integers"
   ]
  },
  {
   "cell_type": "code",
   "execution_count": 48,
   "id": "1611ba0b",
   "metadata": {},
   "outputs": [],
   "source": [
    "x = int(1)"
   ]
  },
  {
   "cell_type": "code",
   "execution_count": 50,
   "id": "cb69ebf3",
   "metadata": {},
   "outputs": [
    {
     "name": "stdout",
     "output_type": "stream",
     "text": [
      "1\n"
     ]
    }
   ],
   "source": [
    "print(x)"
   ]
  },
  {
   "cell_type": "code",
   "execution_count": 51,
   "id": "df34bafb",
   "metadata": {},
   "outputs": [],
   "source": [
    "y = int(2.8)"
   ]
  },
  {
   "cell_type": "code",
   "execution_count": 53,
   "id": "21d3600a",
   "metadata": {},
   "outputs": [
    {
     "name": "stdout",
     "output_type": "stream",
     "text": [
      "2\n"
     ]
    }
   ],
   "source": [
    "print(y)"
   ]
  },
  {
   "cell_type": "code",
   "execution_count": 54,
   "id": "c7632599",
   "metadata": {},
   "outputs": [],
   "source": [
    "z = int('3')"
   ]
  },
  {
   "cell_type": "code",
   "execution_count": 56,
   "id": "912cbe62",
   "metadata": {},
   "outputs": [
    {
     "name": "stdout",
     "output_type": "stream",
     "text": [
      "3\n"
     ]
    }
   ],
   "source": [
    "print(z)"
   ]
  },
  {
   "cell_type": "markdown",
   "id": "6165c614",
   "metadata": {},
   "source": [
    "# floats"
   ]
  },
  {
   "cell_type": "code",
   "execution_count": 57,
   "id": "9c00a5f7",
   "metadata": {},
   "outputs": [],
   "source": [
    "x = float(1)"
   ]
  },
  {
   "cell_type": "code",
   "execution_count": 59,
   "id": "c1dac3d3",
   "metadata": {},
   "outputs": [
    {
     "name": "stdout",
     "output_type": "stream",
     "text": [
      "1.0\n"
     ]
    }
   ],
   "source": [
    "print(x)"
   ]
  },
  {
   "cell_type": "code",
   "execution_count": 60,
   "id": "9c0748c0",
   "metadata": {},
   "outputs": [],
   "source": [
    "y = float(2.8)"
   ]
  },
  {
   "cell_type": "code",
   "execution_count": 62,
   "id": "fc0dc202",
   "metadata": {},
   "outputs": [
    {
     "name": "stdout",
     "output_type": "stream",
     "text": [
      "2.8\n"
     ]
    }
   ],
   "source": [
    "print(y)"
   ]
  },
  {
   "cell_type": "code",
   "execution_count": 63,
   "id": "ee660164",
   "metadata": {},
   "outputs": [],
   "source": [
    "z = float('3')"
   ]
  },
  {
   "cell_type": "code",
   "execution_count": 65,
   "id": "1109db20",
   "metadata": {},
   "outputs": [
    {
     "name": "stdout",
     "output_type": "stream",
     "text": [
      "3.0\n"
     ]
    }
   ],
   "source": [
    "print(z)"
   ]
  },
  {
   "cell_type": "code",
   "execution_count": 66,
   "id": "6fc34d79",
   "metadata": {},
   "outputs": [],
   "source": [
    "w = float('4.2')"
   ]
  },
  {
   "cell_type": "code",
   "execution_count": 68,
   "id": "76e7b56d",
   "metadata": {},
   "outputs": [
    {
     "name": "stdout",
     "output_type": "stream",
     "text": [
      "4.2\n"
     ]
    }
   ],
   "source": [
    "print(w)"
   ]
  },
  {
   "cell_type": "markdown",
   "id": "490918d6",
   "metadata": {},
   "source": [
    "# strings"
   ]
  },
  {
   "cell_type": "code",
   "execution_count": 69,
   "id": "11b3f431",
   "metadata": {},
   "outputs": [],
   "source": [
    "x = str('sl')"
   ]
  },
  {
   "cell_type": "code",
   "execution_count": 71,
   "id": "0a69ff44",
   "metadata": {},
   "outputs": [
    {
     "name": "stdout",
     "output_type": "stream",
     "text": [
      "sl\n"
     ]
    }
   ],
   "source": [
    "print(x)"
   ]
  },
  {
   "cell_type": "code",
   "execution_count": 75,
   "id": "4c83dc78",
   "metadata": {},
   "outputs": [],
   "source": [
    "y = str(2)"
   ]
  },
  {
   "cell_type": "code",
   "execution_count": 76,
   "id": "3a297cd3",
   "metadata": {},
   "outputs": [
    {
     "name": "stdout",
     "output_type": "stream",
     "text": [
      "2\n"
     ]
    }
   ],
   "source": [
    "print(y)"
   ]
  },
  {
   "cell_type": "code",
   "execution_count": 77,
   "id": "626a65b9",
   "metadata": {},
   "outputs": [],
   "source": [
    "z = str(3.0)"
   ]
  },
  {
   "cell_type": "code",
   "execution_count": 78,
   "id": "1334e7ee",
   "metadata": {},
   "outputs": [
    {
     "name": "stdout",
     "output_type": "stream",
     "text": [
      "3.0\n"
     ]
    }
   ],
   "source": [
    "print(z)"
   ]
  }
 ],
 "metadata": {
  "kernelspec": {
   "display_name": "Python 3 (ipykernel)",
   "language": "python",
   "name": "python3"
  },
  "language_info": {
   "codemirror_mode": {
    "name": "ipython",
    "version": 3
   },
   "file_extension": ".py",
   "mimetype": "text/x-python",
   "name": "python",
   "nbconvert_exporter": "python",
   "pygments_lexer": "ipython3",
   "version": "3.11.5"
  }
 },
 "nbformat": 4,
 "nbformat_minor": 5
}
