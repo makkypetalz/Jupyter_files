{
 "cells": [
  {
   "cell_type": "markdown",
   "id": "63a5249b",
   "metadata": {},
   "source": [
    "# list"
   ]
  },
  {
   "cell_type": "code",
   "execution_count": 1,
   "id": "ba557697",
   "metadata": {},
   "outputs": [],
   "source": [
    "items = [\"Samuel\",13,76.5,False]"
   ]
  },
  {
   "cell_type": "code",
   "execution_count": 3,
   "id": "01d30d7b",
   "metadata": {},
   "outputs": [
    {
     "name": "stdout",
     "output_type": "stream",
     "text": [
      "['Samuel', 13, 76.5, False]\n"
     ]
    }
   ],
   "source": [
    "print(items)"
   ]
  },
  {
   "cell_type": "code",
   "execution_count": 4,
   "id": "97f9a763",
   "metadata": {},
   "outputs": [],
   "source": [
    "fruits = [\"orange\",\"mango\",\"cherry\",\"banana\",\"orange\",\"mango\"]"
   ]
  },
  {
   "cell_type": "code",
   "execution_count": 6,
   "id": "1941a04e",
   "metadata": {},
   "outputs": [
    {
     "name": "stdout",
     "output_type": "stream",
     "text": [
      "['orange', 'mango', 'cherry', 'banana', 'orange', 'mango']\n"
     ]
    }
   ],
   "source": [
    "print(fruits)"
   ]
  },
  {
   "cell_type": "markdown",
   "id": "b4432a38",
   "metadata": {},
   "source": [
    "# len() function"
   ]
  },
  {
   "cell_type": "code",
   "execution_count": 7,
   "id": "6c6ecb1e",
   "metadata": {},
   "outputs": [
    {
     "name": "stdout",
     "output_type": "stream",
     "text": [
      "6\n"
     ]
    }
   ],
   "source": [
    "print(len(fruits))"
   ]
  },
  {
   "cell_type": "markdown",
   "id": "cd16c319",
   "metadata": {},
   "source": [
    "# type() function"
   ]
  },
  {
   "cell_type": "code",
   "execution_count": 9,
   "id": "a9241cc8",
   "metadata": {},
   "outputs": [
    {
     "name": "stdout",
     "output_type": "stream",
     "text": [
      "<class 'list'>\n"
     ]
    }
   ],
   "source": [
    "print(type(fruits))"
   ]
  },
  {
   "cell_type": "markdown",
   "id": "6fab714a",
   "metadata": {},
   "source": [
    "# Access a list"
   ]
  },
  {
   "cell_type": "code",
   "execution_count": 11,
   "id": "7f35af99",
   "metadata": {},
   "outputs": [
    {
     "name": "stdout",
     "output_type": "stream",
     "text": [
      "['orange', 'mango', 'cherry', 'banana', 'orange', 'mango']\n"
     ]
    }
   ],
   "source": [
    "print(fruits)"
   ]
  },
  {
   "cell_type": "code",
   "execution_count": 13,
   "id": "9b92bf66",
   "metadata": {},
   "outputs": [
    {
     "name": "stdout",
     "output_type": "stream",
     "text": [
      "cherry\n"
     ]
    }
   ],
   "source": [
    "print(fruits[2])"
   ]
  },
  {
   "cell_type": "code",
   "execution_count": 15,
   "id": "f0d452cc",
   "metadata": {},
   "outputs": [
    {
     "name": "stdout",
     "output_type": "stream",
     "text": [
      "orange\n"
     ]
    }
   ],
   "source": [
    "print(fruits[0])"
   ]
  },
  {
   "cell_type": "code",
   "execution_count": 17,
   "id": "6f3c9457",
   "metadata": {},
   "outputs": [
    {
     "name": "stdout",
     "output_type": "stream",
     "text": [
      "mango\n"
     ]
    }
   ],
   "source": [
    "print(fruits[5])"
   ]
  },
  {
   "cell_type": "markdown",
   "id": "cfc8e94a",
   "metadata": {},
   "source": [
    "# Negative indexing"
   ]
  },
  {
   "cell_type": "code",
   "execution_count": 19,
   "id": "655b7638",
   "metadata": {},
   "outputs": [
    {
     "name": "stdout",
     "output_type": "stream",
     "text": [
      "['orange', 'mango', 'cherry', 'banana', 'orange', 'mango']\n"
     ]
    }
   ],
   "source": [
    "print(fruits)"
   ]
  },
  {
   "cell_type": "code",
   "execution_count": 21,
   "id": "4b0ce033",
   "metadata": {},
   "outputs": [
    {
     "name": "stdout",
     "output_type": "stream",
     "text": [
      "mango\n"
     ]
    }
   ],
   "source": [
    "print(fruits[-1])"
   ]
  },
  {
   "cell_type": "code",
   "execution_count": 23,
   "id": "9d7b6101",
   "metadata": {},
   "outputs": [
    {
     "name": "stdout",
     "output_type": "stream",
     "text": [
      "banana\n"
     ]
    }
   ],
   "source": [
    "print(fruits[-3])"
   ]
  },
  {
   "cell_type": "markdown",
   "id": "2237c19b",
   "metadata": {},
   "source": [
    "# Range indexing"
   ]
  },
  {
   "cell_type": "code",
   "execution_count": 32,
   "id": "d2010cae",
   "metadata": {},
   "outputs": [
    {
     "name": "stdout",
     "output_type": "stream",
     "text": [
      "['orange', 'mango', 'cherry', 'banana', 'orange', 'mango']\n"
     ]
    }
   ],
   "source": [
    "print(fruits)"
   ]
  },
  {
   "cell_type": "code",
   "execution_count": 25,
   "id": "3a6a7697",
   "metadata": {},
   "outputs": [
    {
     "name": "stdout",
     "output_type": "stream",
     "text": [
      "['mango', 'cherry', 'banana']\n"
     ]
    }
   ],
   "source": [
    "print(fruits[1:4])"
   ]
  },
  {
   "cell_type": "code",
   "execution_count": 33,
   "id": "c7036c21",
   "metadata": {},
   "outputs": [
    {
     "name": "stdout",
     "output_type": "stream",
     "text": [
      "['cherry', 'banana', 'orange']\n"
     ]
    }
   ],
   "source": [
    "print(fruits[2:5])"
   ]
  },
  {
   "cell_type": "markdown",
   "id": "6f14586a",
   "metadata": {},
   "source": [
    "# Range of negative indexes"
   ]
  },
  {
   "cell_type": "code",
   "execution_count": 35,
   "id": "749bbb2e",
   "metadata": {},
   "outputs": [
    {
     "name": "stdout",
     "output_type": "stream",
     "text": [
      "['orange', 'mango', 'cherry', 'banana', 'orange', 'mango']\n"
     ]
    }
   ],
   "source": [
    "print(fruits)"
   ]
  },
  {
   "cell_type": "code",
   "execution_count": 4,
   "id": "d27fa49e",
   "metadata": {},
   "outputs": [
    {
     "ename": "NameError",
     "evalue": "name 'fruits' is not defined",
     "output_type": "error",
     "traceback": [
      "\u001b[1;31m---------------------------------------------------------------------------\u001b[0m",
      "\u001b[1;31mNameError\u001b[0m                                 Traceback (most recent call last)",
      "Cell \u001b[1;32mIn[4], line 1\u001b[0m\n\u001b[1;32m----> 1\u001b[0m \u001b[38;5;28mprint\u001b[39m(fruits[\u001b[38;5;241m-\u001b[39m\u001b[38;5;241m4\u001b[39m:\u001b[38;5;241m-\u001b[39m\u001b[38;5;241m1\u001b[39m])\n",
      "\u001b[1;31mNameError\u001b[0m: name 'fruits' is not defined"
     ]
    }
   ],
   "source": [
    "print(fruits[-4:-1])"
   ]
  },
  {
   "cell_type": "markdown",
   "id": "70fccd25",
   "metadata": {},
   "source": [
    "# To check if an item is present in a list, we use in keyword"
   ]
  },
  {
   "cell_type": "code",
   "execution_count": 41,
   "id": "1a91e188",
   "metadata": {},
   "outputs": [
    {
     "name": "stdout",
     "output_type": "stream",
     "text": [
      "['orange', 'mango', 'cherry', 'banana', 'orange', 'mango']\n"
     ]
    }
   ],
   "source": [
    "print(fruits)"
   ]
  },
  {
   "cell_type": "code",
   "execution_count": 43,
   "id": "53797a63",
   "metadata": {},
   "outputs": [
    {
     "name": "stdout",
     "output_type": "stream",
     "text": [
      "True\n"
     ]
    }
   ],
   "source": [
    "print(\"cherry\" in fruits)"
   ]
  },
  {
   "cell_type": "code",
   "execution_count": 45,
   "id": "06074682",
   "metadata": {},
   "outputs": [
    {
     "name": "stdout",
     "output_type": "stream",
     "text": [
      "False\n"
     ]
    }
   ],
   "source": [
    "print(\"pineapple\" in fruits)"
   ]
  },
  {
   "cell_type": "code",
   "execution_count": 47,
   "id": "2dd1f36d",
   "metadata": {},
   "outputs": [
    {
     "name": "stdout",
     "output_type": "stream",
     "text": [
      "True\n"
     ]
    }
   ],
   "source": [
    "print(\"mango\" in fruits)"
   ]
  },
  {
   "cell_type": "code",
   "execution_count": 49,
   "id": "7ea4a584",
   "metadata": {},
   "outputs": [
    {
     "name": "stdout",
     "output_type": "stream",
     "text": [
      "False\n"
     ]
    }
   ],
   "source": [
    "print(\"bear\" in fruits)"
   ]
  },
  {
   "cell_type": "markdown",
   "id": "ef3abca8",
   "metadata": {},
   "source": [
    "# list modify"
   ]
  },
  {
   "cell_type": "code",
   "execution_count": null,
   "id": "7dcfa339",
   "metadata": {},
   "outputs": [],
   "source": [
    "# change the item value, to change the value of a specific item, refer to the index number"
   ]
  },
  {
   "cell_type": "code",
   "execution_count": 50,
   "id": "b6b5890c",
   "metadata": {},
   "outputs": [],
   "source": [
    "tt = [23, 67.8, 'david','laptop' ]"
   ]
  },
  {
   "cell_type": "code",
   "execution_count": 51,
   "id": "0743ccbb",
   "metadata": {},
   "outputs": [],
   "source": [
    "tt[0] = 'chair'"
   ]
  },
  {
   "cell_type": "code",
   "execution_count": 53,
   "id": "43b63436",
   "metadata": {},
   "outputs": [
    {
     "name": "stdout",
     "output_type": "stream",
     "text": [
      "['chair', 67.8, 'david', 'laptop']\n"
     ]
    }
   ],
   "source": [
    "print(tt)"
   ]
  },
  {
   "cell_type": "markdown",
   "id": "941b7ac3",
   "metadata": {},
   "source": [
    "# change a range of item value"
   ]
  },
  {
   "cell_type": "code",
   "execution_count": 55,
   "id": "e874c838",
   "metadata": {},
   "outputs": [
    {
     "name": "stdout",
     "output_type": "stream",
     "text": [
      "['chair', 67.8, 'david', 'laptop']\n"
     ]
    }
   ],
   "source": [
    "print(tt)"
   ]
  },
  {
   "cell_type": "code",
   "execution_count": 57,
   "id": "8fa5b845",
   "metadata": {},
   "outputs": [
    {
     "name": "stdout",
     "output_type": "stream",
     "text": [
      "[67.8, 'david']\n"
     ]
    }
   ],
   "source": [
    "print(tt[1:3])"
   ]
  },
  {
   "cell_type": "code",
   "execution_count": 58,
   "id": "3895e97a",
   "metadata": {},
   "outputs": [],
   "source": [
    "tt[1:3] = [\"table\", \"mango\"]"
   ]
  },
  {
   "cell_type": "code",
   "execution_count": 60,
   "id": "970cf6c2",
   "metadata": {},
   "outputs": [
    {
     "name": "stdout",
     "output_type": "stream",
     "text": [
      "['chair', 'table', 'mango', 'laptop']\n"
     ]
    }
   ],
   "source": [
    "print(tt)"
   ]
  },
  {
   "cell_type": "code",
   "execution_count": 61,
   "id": "1f641670",
   "metadata": {},
   "outputs": [],
   "source": [
    "tt[:3] = [23,56,78,90]"
   ]
  },
  {
   "cell_type": "code",
   "execution_count": 64,
   "id": "fcf6fe00",
   "metadata": {},
   "outputs": [
    {
     "name": "stdout",
     "output_type": "stream",
     "text": [
      "[23, 56, 78, 90, 'laptop']\n"
     ]
    }
   ],
   "source": [
    "print(tt)"
   ]
  },
  {
   "cell_type": "code",
   "execution_count": 65,
   "id": "7b517a8b",
   "metadata": {},
   "outputs": [],
   "source": [
    "tt[:2] = \"mango\""
   ]
  },
  {
   "cell_type": "code",
   "execution_count": 67,
   "id": "c87a893a",
   "metadata": {},
   "outputs": [
    {
     "name": "stdout",
     "output_type": "stream",
     "text": [
      "['m', 'a', 'n', 'g', 'o', 78, 90, 'laptop']\n"
     ]
    }
   ],
   "source": [
    "print(tt)"
   ]
  },
  {
   "cell_type": "markdown",
   "id": "51effbe9",
   "metadata": {},
   "source": [
    "# Insert a new item in a list"
   ]
  },
  {
   "cell_type": "code",
   "execution_count": 68,
   "id": "1306cdc6",
   "metadata": {},
   "outputs": [],
   "source": [
    "#  we can add a new item by using an insert() method, it adds to the middle"
   ]
  },
  {
   "cell_type": "code",
   "execution_count": 74,
   "id": "a54afe54",
   "metadata": {},
   "outputs": [
    {
     "name": "stdout",
     "output_type": "stream",
     "text": [
      "['m', 'a', 'n', 'g', 'o', 78, 90, 'laptop']\n"
     ]
    }
   ],
   "source": [
    "print(tt)"
   ]
  },
  {
   "cell_type": "code",
   "execution_count": 80,
   "id": "053cf2ff",
   "metadata": {},
   "outputs": [],
   "source": [
    "tt.insert(6,\"table\")"
   ]
  },
  {
   "cell_type": "code",
   "execution_count": 82,
   "id": "87a111da",
   "metadata": {},
   "outputs": [
    {
     "name": "stdout",
     "output_type": "stream",
     "text": [
      "['m', 'a', 'n', 'g', 'o', 78, 'table', 90, 'laptop']\n"
     ]
    }
   ],
   "source": [
    "print(tt)"
   ]
  },
  {
   "cell_type": "markdown",
   "id": "aa595ecd",
   "metadata": {},
   "source": [
    "# Append() method"
   ]
  },
  {
   "cell_type": "code",
   "execution_count": 83,
   "id": "25fde411",
   "metadata": {},
   "outputs": [],
   "source": [
    "# it adds values to the back"
   ]
  },
  {
   "cell_type": "code",
   "execution_count": 85,
   "id": "6459b386",
   "metadata": {},
   "outputs": [
    {
     "name": "stdout",
     "output_type": "stream",
     "text": [
      "['m', 'a', 'n', 'g', 'o', 78, 'table', 90, 'laptop']\n"
     ]
    }
   ],
   "source": [
    "print(tt)"
   ]
  },
  {
   "cell_type": "code",
   "execution_count": 86,
   "id": "ff33f002",
   "metadata": {},
   "outputs": [],
   "source": [
    "tt.append(67.48)"
   ]
  },
  {
   "cell_type": "code",
   "execution_count": 88,
   "id": "10d8eebc",
   "metadata": {},
   "outputs": [
    {
     "name": "stdout",
     "output_type": "stream",
     "text": [
      "['m', 'a', 'n', 'g', 'o', 78, 'table', 90, 'laptop', 67.48]\n"
     ]
    }
   ],
   "source": [
    "print(tt)"
   ]
  },
  {
   "cell_type": "markdown",
   "id": "aea2a35a",
   "metadata": {},
   "source": [
    "# Extend() method"
   ]
  },
  {
   "cell_type": "code",
   "execution_count": 89,
   "id": "a04e8051",
   "metadata": {},
   "outputs": [],
   "source": [
    "#  this is used to add items in a list into another list"
   ]
  },
  {
   "cell_type": "code",
   "execution_count": 90,
   "id": "cf653a81",
   "metadata": {},
   "outputs": [],
   "source": [
    "aa = [34,78,90,89]"
   ]
  },
  {
   "cell_type": "code",
   "execution_count": 91,
   "id": "ce9ec65b",
   "metadata": {},
   "outputs": [],
   "source": [
    "bb = [34,5,67,8,56.4]"
   ]
  },
  {
   "cell_type": "code",
   "execution_count": 92,
   "id": "9f1dbc86",
   "metadata": {},
   "outputs": [],
   "source": [
    "bb.extend(aa)"
   ]
  },
  {
   "cell_type": "code",
   "execution_count": 94,
   "id": "d546eaf3",
   "metadata": {},
   "outputs": [
    {
     "name": "stdout",
     "output_type": "stream",
     "text": [
      "[34, 5, 67, 8, 56.4, 34, 78, 90, 89]\n"
     ]
    }
   ],
   "source": [
    "print(bb)"
   ]
  },
  {
   "cell_type": "code",
   "execution_count": 96,
   "id": "5e7fda72",
   "metadata": {},
   "outputs": [
    {
     "name": "stdout",
     "output_type": "stream",
     "text": [
      "[34, 78, 90, 89]\n"
     ]
    }
   ],
   "source": [
    "print(aa)"
   ]
  },
  {
   "cell_type": "markdown",
   "id": "92b76c62",
   "metadata": {},
   "source": [
    "# We can also add the items in other array in python into a list"
   ]
  },
  {
   "cell_type": "code",
   "execution_count": 98,
   "id": "858d131f",
   "metadata": {},
   "outputs": [],
   "source": [
    "mylist = [\"hello\", \"chika\", \"samuel\"]"
   ]
  },
  {
   "cell_type": "code",
   "execution_count": 100,
   "id": "432f2d63",
   "metadata": {},
   "outputs": [],
   "source": [
    "mytuple=(45,\"david\", 56.90, False)"
   ]
  },
  {
   "cell_type": "code",
   "execution_count": 101,
   "id": "ff5c9a57",
   "metadata": {},
   "outputs": [],
   "source": [
    "mylist.extend(mytuple)"
   ]
  },
  {
   "cell_type": "code",
   "execution_count": 102,
   "id": "1ae16cc7",
   "metadata": {},
   "outputs": [
    {
     "name": "stdout",
     "output_type": "stream",
     "text": [
      "['hello', 'chika', 'samuel', 45, 'david', 56.9, False]\n"
     ]
    }
   ],
   "source": [
    "print(mylist)"
   ]
  },
  {
   "cell_type": "markdown",
   "id": "3a0efec7",
   "metadata": {},
   "source": [
    "# Remove() method is used to remove an item in a list"
   ]
  },
  {
   "cell_type": "code",
   "execution_count": 105,
   "id": "ed1f9940",
   "metadata": {},
   "outputs": [],
   "source": [
    "up = [34,66,78,98]"
   ]
  },
  {
   "cell_type": "code",
   "execution_count": 106,
   "id": "4ce49b46",
   "metadata": {},
   "outputs": [
    {
     "name": "stdout",
     "output_type": "stream",
     "text": [
      "[34, 66, 78, 98]\n"
     ]
    }
   ],
   "source": [
    "print(up)"
   ]
  },
  {
   "cell_type": "code",
   "execution_count": 107,
   "id": "0831bb11",
   "metadata": {},
   "outputs": [],
   "source": [
    "up.remove(78)"
   ]
  },
  {
   "cell_type": "code",
   "execution_count": 110,
   "id": "abc0fdc9",
   "metadata": {},
   "outputs": [
    {
     "name": "stdout",
     "output_type": "stream",
     "text": [
      "[34, 66, 98]\n"
     ]
    }
   ],
   "source": [
    "print(up)"
   ]
  },
  {
   "cell_type": "markdown",
   "id": "11b05458",
   "metadata": {},
   "source": [
    "# pop() method"
   ]
  },
  {
   "cell_type": "code",
   "execution_count": 111,
   "id": "73341b41",
   "metadata": {},
   "outputs": [],
   "source": [
    "# by using pop method, just signify the index number of the item you want to remove"
   ]
  },
  {
   "cell_type": "code",
   "execution_count": 113,
   "id": "86e620f1",
   "metadata": {},
   "outputs": [
    {
     "name": "stdout",
     "output_type": "stream",
     "text": [
      "[34, 66, 98]\n"
     ]
    }
   ],
   "source": [
    "print(up)"
   ]
  },
  {
   "cell_type": "code",
   "execution_count": 114,
   "id": "f4cbbb84",
   "metadata": {},
   "outputs": [
    {
     "data": {
      "text/plain": [
       "66"
      ]
     },
     "execution_count": 114,
     "metadata": {},
     "output_type": "execute_result"
    }
   ],
   "source": [
    "up.pop(1)"
   ]
  },
  {
   "cell_type": "code",
   "execution_count": 116,
   "id": "6651ecd4",
   "metadata": {},
   "outputs": [
    {
     "name": "stdout",
     "output_type": "stream",
     "text": [
      "[34, 98]\n"
     ]
    }
   ],
   "source": [
    "print(up)"
   ]
  },
  {
   "cell_type": "code",
   "execution_count": 117,
   "id": "d7aeda37",
   "metadata": {},
   "outputs": [
    {
     "data": {
      "text/plain": [
       "98"
      ]
     },
     "execution_count": 117,
     "metadata": {},
     "output_type": "execute_result"
    }
   ],
   "source": [
    "up.pop()"
   ]
  },
  {
   "cell_type": "code",
   "execution_count": 119,
   "id": "8bc9a8b2",
   "metadata": {},
   "outputs": [
    {
     "name": "stdout",
     "output_type": "stream",
     "text": [
      "[34]\n"
     ]
    }
   ],
   "source": [
    "print(up)"
   ]
  },
  {
   "cell_type": "markdown",
   "id": "f518a472",
   "metadata": {},
   "source": [
    "# del keyword"
   ]
  },
  {
   "cell_type": "code",
   "execution_count": 120,
   "id": "77f7d155",
   "metadata": {},
   "outputs": [],
   "source": [
    "# you used the index number too"
   ]
  },
  {
   "cell_type": "code",
   "execution_count": 121,
   "id": "92e1c14a",
   "metadata": {},
   "outputs": [],
   "source": [
    "hh = [23,45,67,89,78]"
   ]
  },
  {
   "cell_type": "code",
   "execution_count": 127,
   "id": "c38f429f",
   "metadata": {},
   "outputs": [
    {
     "name": "stdout",
     "output_type": "stream",
     "text": [
      "[23, 45, 67, 89]\n"
     ]
    }
   ],
   "source": [
    "print(hh)"
   ]
  },
  {
   "cell_type": "code",
   "execution_count": null,
   "id": "4bc57c32",
   "metadata": {},
   "outputs": [],
   "source": [
    "del hh[4]"
   ]
  },
  {
   "cell_type": "code",
   "execution_count": 129,
   "id": "6d2fab81",
   "metadata": {},
   "outputs": [
    {
     "name": "stdout",
     "output_type": "stream",
     "text": [
      "[23, 45, 67, 89]\n"
     ]
    }
   ],
   "source": [
    "print(hh)"
   ]
  },
  {
   "cell_type": "code",
   "execution_count": 130,
   "id": "4ffbd40d",
   "metadata": {},
   "outputs": [],
   "source": [
    "del hh"
   ]
  },
  {
   "cell_type": "markdown",
   "id": "d33fbd8e",
   "metadata": {},
   "source": [
    "# clear() method"
   ]
  },
  {
   "cell_type": "code",
   "execution_count": 133,
   "id": "5e97987d",
   "metadata": {},
   "outputs": [],
   "source": [
    "pp = [\"adam\", \"jennifer\", \"andrew\"]"
   ]
  },
  {
   "cell_type": "code",
   "execution_count": 135,
   "id": "005044e3",
   "metadata": {},
   "outputs": [
    {
     "name": "stdout",
     "output_type": "stream",
     "text": [
      "['adam', 'jennifer', 'andrew']\n"
     ]
    }
   ],
   "source": [
    "print(pp)"
   ]
  },
  {
   "cell_type": "code",
   "execution_count": 136,
   "id": "8ad0ceae",
   "metadata": {},
   "outputs": [],
   "source": [
    "pp.clear()"
   ]
  },
  {
   "cell_type": "code",
   "execution_count": 137,
   "id": "d8c9985d",
   "metadata": {},
   "outputs": [
    {
     "name": "stdout",
     "output_type": "stream",
     "text": [
      "[]\n"
     ]
    }
   ],
   "source": [
    "print(pp)"
   ]
  },
  {
   "cell_type": "markdown",
   "id": "0a428955",
   "metadata": {},
   "source": [
    "# Looping a list"
   ]
  },
  {
   "cell_type": "code",
   "execution_count": 3,
   "id": "6d1adb3f",
   "metadata": {
    "scrolled": true
   },
   "outputs": [
    {
     "name": "stdout",
     "output_type": "stream",
     "text": [
      "34\n",
      "67\n",
      "89\n"
     ]
    }
   ],
   "source": [
    "mylist = [34,67,89]\n",
    "for x in mylist:\n",
    "    print(x)"
   ]
  },
  {
   "cell_type": "code",
   "execution_count": 4,
   "id": "c5af2e14",
   "metadata": {},
   "outputs": [
    {
     "name": "stdout",
     "output_type": "stream",
     "text": [
      "[34, 67, 89]\n"
     ]
    }
   ],
   "source": [
    "print(mylist)"
   ]
  },
  {
   "cell_type": "markdown",
   "id": "2c4d7cbf",
   "metadata": {},
   "source": [
    "# Looping through index number"
   ]
  },
  {
   "cell_type": "code",
   "execution_count": 7,
   "id": "814f8e5c",
   "metadata": {},
   "outputs": [
    {
     "name": "stdout",
     "output_type": "stream",
     "text": [
      "34\n",
      "67\n",
      "89\n"
     ]
    }
   ],
   "source": [
    "mylist = [34,67,89]\n",
    "for b in range(len(mylist)):\n",
    "    print(mylist[b])"
   ]
  },
  {
   "cell_type": "code",
   "execution_count": 9,
   "id": "844e2467",
   "metadata": {},
   "outputs": [
    {
     "name": "stdout",
     "output_type": "stream",
     "text": [
      "range(0, 3)\n"
     ]
    }
   ],
   "source": [
    "print(range(len(mylist)))"
   ]
  },
  {
   "cell_type": "markdown",
   "id": "f4ad0cbb",
   "metadata": {},
   "source": [
    "# Using while loop"
   ]
  },
  {
   "cell_type": "code",
   "execution_count": 14,
   "id": "82a5ceb1",
   "metadata": {},
   "outputs": [
    {
     "name": "stdout",
     "output_type": "stream",
     "text": [
      "[34, 67, 89]\n"
     ]
    }
   ],
   "source": [
    "print(mylist)"
   ]
  },
  {
   "cell_type": "code",
   "execution_count": 16,
   "id": "57090d00",
   "metadata": {},
   "outputs": [
    {
     "name": "stdout",
     "output_type": "stream",
     "text": [
      "3\n"
     ]
    }
   ],
   "source": [
    "print(len(mylist))"
   ]
  },
  {
   "cell_type": "code",
   "execution_count": 21,
   "id": "79e500e1",
   "metadata": {},
   "outputs": [
    {
     "name": "stdout",
     "output_type": "stream",
     "text": [
      "67\n",
      "89\n"
     ]
    }
   ],
   "source": [
    "c = 1\n",
    "while c<len(mylist):\n",
    "    print(mylist[c])\n",
    "    c = c+1"
   ]
  },
  {
   "cell_type": "markdown",
   "id": "282ce2e5",
   "metadata": {},
   "source": [
    "# Sorting a list"
   ]
  },
  {
   "cell_type": "code",
   "execution_count": 23,
   "id": "d4561a24",
   "metadata": {},
   "outputs": [
    {
     "name": "stdout",
     "output_type": "stream",
     "text": [
      "['mango', 'apple', 'cherry', 'orange']\n"
     ]
    }
   ],
   "source": [
    "kk = [\"mango\", \"apple\", \"cherry\", \"orange\"]\n",
    "print(kk)"
   ]
  },
  {
   "cell_type": "code",
   "execution_count": 24,
   "id": "c67537ae",
   "metadata": {},
   "outputs": [],
   "source": [
    "kk.sort()"
   ]
  },
  {
   "cell_type": "code",
   "execution_count": 25,
   "id": "9752c18a",
   "metadata": {},
   "outputs": [
    {
     "name": "stdout",
     "output_type": "stream",
     "text": [
      "['apple', 'cherry', 'mango', 'orange']\n"
     ]
    }
   ],
   "source": [
    "print(kk)"
   ]
  },
  {
   "cell_type": "code",
   "execution_count": 29,
   "id": "1723a388",
   "metadata": {},
   "outputs": [
    {
     "name": "stdout",
     "output_type": "stream",
     "text": [
      "[67, 23, 89, 13, 32]\n"
     ]
    }
   ],
   "source": [
    "ff = [67,23,89,13,32]\n",
    "print(ff)"
   ]
  },
  {
   "cell_type": "code",
   "execution_count": 30,
   "id": "2146616a",
   "metadata": {},
   "outputs": [],
   "source": [
    "ff.sort()"
   ]
  },
  {
   "cell_type": "code",
   "execution_count": 34,
   "id": "2610ba10",
   "metadata": {},
   "outputs": [
    {
     "name": "stdout",
     "output_type": "stream",
     "text": [
      "[13, 23, 32, 67, 89]\n"
     ]
    }
   ],
   "source": [
    "print(ff)"
   ]
  },
  {
   "cell_type": "markdown",
   "id": "8a263a0a",
   "metadata": {},
   "source": [
    "# Sort descending"
   ]
  },
  {
   "cell_type": "code",
   "execution_count": 38,
   "id": "d48ff1c9",
   "metadata": {},
   "outputs": [
    {
     "name": "stdout",
     "output_type": "stream",
     "text": [
      "['apple', 'cherry', 'mango', 'orange']\n"
     ]
    }
   ],
   "source": [
    "print(kk)"
   ]
  },
  {
   "cell_type": "code",
   "execution_count": 39,
   "id": "fd3e744e",
   "metadata": {},
   "outputs": [],
   "source": [
    "kk.sort(reverse=True)"
   ]
  },
  {
   "cell_type": "code",
   "execution_count": 41,
   "id": "e13e93f1",
   "metadata": {},
   "outputs": [
    {
     "name": "stdout",
     "output_type": "stream",
     "text": [
      "['orange', 'mango', 'cherry', 'apple']\n"
     ]
    }
   ],
   "source": [
    "print(kk)"
   ]
  },
  {
   "cell_type": "code",
   "execution_count": 42,
   "id": "6a6dbc2f",
   "metadata": {},
   "outputs": [],
   "source": [
    "ff.sort(reverse=True)"
   ]
  },
  {
   "cell_type": "code",
   "execution_count": 44,
   "id": "95d6d0ce",
   "metadata": {},
   "outputs": [
    {
     "name": "stdout",
     "output_type": "stream",
     "text": [
      "[89, 67, 32, 23, 13]\n"
     ]
    }
   ],
   "source": [
    "print(ff)"
   ]
  },
  {
   "cell_type": "markdown",
   "id": "cae5d6ec",
   "metadata": {},
   "source": [
    "# sort is case sensitive"
   ]
  },
  {
   "cell_type": "code",
   "execution_count": 57,
   "id": "61084699",
   "metadata": {},
   "outputs": [],
   "source": [
    "pp = [\"david\",\"ada\",\"john\",\"Samuel\"]"
   ]
  },
  {
   "cell_type": "code",
   "execution_count": 63,
   "id": "dbe80401",
   "metadata": {},
   "outputs": [
    {
     "name": "stdout",
     "output_type": "stream",
     "text": [
      "['ada', 'david', 'john', 'Samuel']\n"
     ]
    }
   ],
   "source": [
    "print(pp)"
   ]
  },
  {
   "cell_type": "code",
   "execution_count": 64,
   "id": "8c0d1f36",
   "metadata": {},
   "outputs": [],
   "source": [
    "pp.sort()"
   ]
  },
  {
   "cell_type": "code",
   "execution_count": 66,
   "id": "71ddb5ca",
   "metadata": {},
   "outputs": [
    {
     "name": "stdout",
     "output_type": "stream",
     "text": [
      "['Samuel', 'ada', 'david', 'john']\n"
     ]
    }
   ],
   "source": [
    "print(pp)"
   ]
  },
  {
   "cell_type": "code",
   "execution_count": 67,
   "id": "d10c444d",
   "metadata": {},
   "outputs": [],
   "source": [
    "pp.sort(key=str.lower)"
   ]
  },
  {
   "cell_type": "code",
   "execution_count": 70,
   "id": "783fdf3b",
   "metadata": {},
   "outputs": [
    {
     "name": "stdout",
     "output_type": "stream",
     "text": [
      "['ada', 'david', 'john', 'Samuel']\n"
     ]
    }
   ],
   "source": [
    "print(pp)"
   ]
  },
  {
   "cell_type": "code",
   "execution_count": 71,
   "id": "4545c47c",
   "metadata": {},
   "outputs": [],
   "source": [
    "pp.reverse()"
   ]
  },
  {
   "cell_type": "code",
   "execution_count": 72,
   "id": "bd7db1e7",
   "metadata": {},
   "outputs": [
    {
     "name": "stdout",
     "output_type": "stream",
     "text": [
      "['Samuel', 'john', 'david', 'ada']\n"
     ]
    }
   ],
   "source": [
    "print(pp)"
   ]
  },
  {
   "cell_type": "markdown",
   "id": "ac82b99b",
   "metadata": {},
   "source": [
    "# copy list"
   ]
  },
  {
   "cell_type": "code",
   "execution_count": 74,
   "id": "912b325c",
   "metadata": {},
   "outputs": [
    {
     "name": "stdout",
     "output_type": "stream",
     "text": [
      "[34, 66, 77, 88, 22]\n"
     ]
    }
   ],
   "source": [
    "oo = [34,66,77,88,22]\n",
    "print(oo)"
   ]
  },
  {
   "cell_type": "code",
   "execution_count": 75,
   "id": "f017f906",
   "metadata": {},
   "outputs": [],
   "source": [
    "gg = oo.copy()"
   ]
  },
  {
   "cell_type": "code",
   "execution_count": 77,
   "id": "cceeb2e3",
   "metadata": {},
   "outputs": [
    {
     "name": "stdout",
     "output_type": "stream",
     "text": [
      "[34, 66, 77, 88, 22]\n"
     ]
    }
   ],
   "source": [
    "print(gg)"
   ]
  },
  {
   "cell_type": "code",
   "execution_count": 81,
   "id": "60691ff4",
   "metadata": {},
   "outputs": [
    {
     "name": "stdout",
     "output_type": "stream",
     "text": [
      "[1, 2, 3, 4, 5]\n"
     ]
    }
   ],
   "source": [
    "yy = [1,2,3,4,5]\n",
    "print(yy) "
   ]
  },
  {
   "cell_type": "code",
   "execution_count": 83,
   "id": "0fbabf63",
   "metadata": {},
   "outputs": [
    {
     "name": "stdout",
     "output_type": "stream",
     "text": [
      "['a', 'b']\n"
     ]
    }
   ],
   "source": [
    "zz = [\"a\", \"b\"]\n",
    "print(zz)"
   ]
  },
  {
   "cell_type": "code",
   "execution_count": 84,
   "id": "173fd590",
   "metadata": {},
   "outputs": [],
   "source": [
    "zz.extend(yy)"
   ]
  },
  {
   "cell_type": "code",
   "execution_count": 86,
   "id": "72b8041e",
   "metadata": {},
   "outputs": [
    {
     "name": "stdout",
     "output_type": "stream",
     "text": [
      "['a', 'b', 1, 2, 3, 4, 5]\n"
     ]
    }
   ],
   "source": [
    "print(zz)"
   ]
  },
  {
   "cell_type": "code",
   "execution_count": 88,
   "id": "08826159",
   "metadata": {},
   "outputs": [
    {
     "name": "stdout",
     "output_type": "stream",
     "text": [
      "[1, 2, 3, 4, 5]\n"
     ]
    }
   ],
   "source": [
    "print(yy)"
   ]
  },
  {
   "cell_type": "markdown",
   "id": "6d48ecc9",
   "metadata": {},
   "source": [
    "# joining list"
   ]
  },
  {
   "cell_type": "code",
   "execution_count": 90,
   "id": "708098b3",
   "metadata": {},
   "outputs": [
    {
     "name": "stdout",
     "output_type": "stream",
     "text": [
      "[34, 6, 78, 99]\n",
      "[90, 45, 60]\n"
     ]
    }
   ],
   "source": [
    "list1 = [34,6,78,99]\n",
    "list2 = [90,45,60]\n",
    "print(list1)\n",
    "print(list2)"
   ]
  },
  {
   "cell_type": "code",
   "execution_count": 91,
   "id": "e012d5f4",
   "metadata": {},
   "outputs": [
    {
     "name": "stdout",
     "output_type": "stream",
     "text": [
      "[34, 6, 78, 99, 90, 45, 60]\n"
     ]
    }
   ],
   "source": [
    "list3 = list1 + list2\n",
    "print(list3)"
   ]
  }
 ],
 "metadata": {
  "kernelspec": {
   "display_name": "Python 3 (ipykernel)",
   "language": "python",
   "name": "python3"
  },
  "language_info": {
   "codemirror_mode": {
    "name": "ipython",
    "version": 3
   },
   "file_extension": ".py",
   "mimetype": "text/x-python",
   "name": "python",
   "nbconvert_exporter": "python",
   "pygments_lexer": "ipython3",
   "version": "3.11.5"
  }
 },
 "nbformat": 4,
 "nbformat_minor": 5
}
