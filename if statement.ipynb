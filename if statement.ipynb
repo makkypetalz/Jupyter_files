{
 "cells": [
  {
   "cell_type": "markdown",
   "id": "c57bb552",
   "metadata": {},
   "source": [
    "# if statement"
   ]
  },
  {
   "cell_type": "code",
   "execution_count": 1,
   "id": "1dc1da8c",
   "metadata": {},
   "outputs": [],
   "source": [
    "a = 300\n",
    "b = 500"
   ]
  },
  {
   "cell_type": "code",
   "execution_count": 2,
   "id": "9992aecc",
   "metadata": {},
   "outputs": [],
   "source": [
    "if a>b:\n",
    "    print(\"yes a is greater\")"
   ]
  },
  {
   "cell_type": "code",
   "execution_count": 3,
   "id": "1d590304",
   "metadata": {},
   "outputs": [
    {
     "name": "stdout",
     "output_type": "stream",
     "text": [
      "False\n"
     ]
    }
   ],
   "source": [
    "print(a>b)"
   ]
  },
  {
   "cell_type": "markdown",
   "id": "b5d22e40",
   "metadata": {},
   "source": [
    "# elif, this is nothing but else if"
   ]
  },
  {
   "cell_type": "code",
   "execution_count": 4,
   "id": "e146061e",
   "metadata": {},
   "outputs": [],
   "source": [
    "c = 980"
   ]
  },
  {
   "cell_type": "code",
   "execution_count": 5,
   "id": "42100f62",
   "metadata": {},
   "outputs": [
    {
     "name": "stdout",
     "output_type": "stream",
     "text": [
      "300 500 980\n"
     ]
    }
   ],
   "source": [
    "print(a,b,c)"
   ]
  },
  {
   "cell_type": "code",
   "execution_count": 9,
   "id": "50a7b342",
   "metadata": {},
   "outputs": [
    {
     "name": "stdout",
     "output_type": "stream",
     "text": [
      "yes b is lesser\n"
     ]
    }
   ],
   "source": [
    "a = 300\n",
    "b = 500\n",
    "c = 980\n",
    "\n",
    "if a>c:\n",
    "    print(\"yes a is greater\")\n",
    "elif b>a:\n",
    "    print(\"yes b is lesser\")"
   ]
  },
  {
   "cell_type": "markdown",
   "id": "f1986022",
   "metadata": {},
   "source": [
    "# else statement"
   ]
  },
  {
   "cell_type": "code",
   "execution_count": 10,
   "id": "31e5d0f7",
   "metadata": {},
   "outputs": [
    {
     "name": "stdout",
     "output_type": "stream",
     "text": [
      "none of the condition is true\n"
     ]
    }
   ],
   "source": [
    "if a>c:\n",
    "    print(\"yes a is greater\")\n",
    "elif b<a:\n",
    "    print(\"yes b is lesser\")\n",
    "else:\n",
    "    print(\"none of the condition is true\")\n",
    "    "
   ]
  },
  {
   "cell_type": "code",
   "execution_count": null,
   "id": "24f765a7",
   "metadata": {},
   "outputs": [],
   "source": []
  }
 ],
 "metadata": {
  "kernelspec": {
   "display_name": "Python 3 (ipykernel)",
   "language": "python",
   "name": "python3"
  },
  "language_info": {
   "codemirror_mode": {
    "name": "ipython",
    "version": 3
   },
   "file_extension": ".py",
   "mimetype": "text/x-python",
   "name": "python",
   "nbconvert_exporter": "python",
   "pygments_lexer": "ipython3",
   "version": "3.11.5"
  }
 },
 "nbformat": 4,
 "nbformat_minor": 5
}
