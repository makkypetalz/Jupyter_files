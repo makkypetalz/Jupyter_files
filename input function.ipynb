{
 "cells": [
  {
   "cell_type": "markdown",
   "id": "0bea66b5",
   "metadata": {},
   "source": [
    "# input function"
   ]
  },
  {
   "cell_type": "code",
   "execution_count": 1,
   "id": "af7590ff",
   "metadata": {},
   "outputs": [],
   "source": [
    "name = \"samuel\""
   ]
  },
  {
   "cell_type": "code",
   "execution_count": 2,
   "id": "a98a2bc1",
   "metadata": {},
   "outputs": [
    {
     "name": "stdout",
     "output_type": "stream",
     "text": [
      "samuel\n"
     ]
    }
   ],
   "source": [
    "print(name)"
   ]
  },
  {
   "cell_type": "code",
   "execution_count": 3,
   "id": "ae8613ae",
   "metadata": {},
   "outputs": [
    {
     "name": "stdout",
     "output_type": "stream",
     "text": [
      "enter your first name: amaka\n",
      "hello amaka\n"
     ]
    }
   ],
   "source": [
    "firstname = input(\"enter your first name: \")\n",
    "print(\"hello \" + firstname)"
   ]
  },
  {
   "cell_type": "code",
   "execution_count": 4,
   "id": "a921ad0e",
   "metadata": {},
   "outputs": [
    {
     "name": "stdout",
     "output_type": "stream",
     "text": [
      "please enter your birth year: 2000\n",
      "24\n"
     ]
    }
   ],
   "source": [
    "birth_year = int(input(\"please enter your birth year: \"))\n",
    "current_year = 2024\n",
    "age = current_year - birth_year\n",
    "print(age)"
   ]
  },
  {
   "cell_type": "code",
   "execution_count": 5,
   "id": "3c574fed",
   "metadata": {},
   "outputs": [
    {
     "name": "stdout",
     "output_type": "stream",
     "text": [
      "enter your first name: makky\n"
     ]
    }
   ],
   "source": [
    "firstname = input(\"enter your first name: \")\n",
    "namelist = []\n",
    "namelist.append(firstname)"
   ]
  },
  {
   "cell_type": "code",
   "execution_count": 6,
   "id": "9454baf2",
   "metadata": {},
   "outputs": [
    {
     "name": "stdout",
     "output_type": "stream",
     "text": [
      "['makky']\n"
     ]
    }
   ],
   "source": [
    "print(namelist)"
   ]
  },
  {
   "cell_type": "code",
   "execution_count": 7,
   "id": "53b61fed",
   "metadata": {},
   "outputs": [
    {
     "name": "stdout",
     "output_type": "stream",
     "text": [
      "please enter your name: makky\n",
      "MAKKY\n"
     ]
    }
   ],
   "source": [
    "name = input(\"please enter your name: \").upper()\n",
    "print(name)"
   ]
  },
  {
   "cell_type": "code",
   "execution_count": 14,
   "id": "79cd0c1e",
   "metadata": {},
   "outputs": [
    {
     "name": "stdout",
     "output_type": "stream",
     "text": [
      "welcome!MAKKY\n"
     ]
    }
   ],
   "source": [
    "if name == \"MAKKY\":\n",
    "    print(\"welcome!\"  + name)\n"
   ]
  },
  {
   "cell_type": "code",
   "execution_count": null,
   "id": "32863bcd",
   "metadata": {},
   "outputs": [],
   "source": []
  }
 ],
 "metadata": {
  "kernelspec": {
   "display_name": "Python 3 (ipykernel)",
   "language": "python",
   "name": "python3"
  },
  "language_info": {
   "codemirror_mode": {
    "name": "ipython",
    "version": 3
   },
   "file_extension": ".py",
   "mimetype": "text/x-python",
   "name": "python",
   "nbconvert_exporter": "python",
   "pygments_lexer": "ipython3",
   "version": "3.11.5"
  }
 },
 "nbformat": 4,
 "nbformat_minor": 5
}
