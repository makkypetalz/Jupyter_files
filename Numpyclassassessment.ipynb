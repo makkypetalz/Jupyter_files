{
 "cells": [
  {
   "cell_type": "markdown",
   "id": "42914e58",
   "metadata": {},
   "source": [
    "OKAFOR CHIAMAKA"
   ]
  },
  {
   "cell_type": "code",
   "execution_count": 1,
   "id": "3da5da3a",
   "metadata": {},
   "outputs": [],
   "source": [
    "import numpy as np"
   ]
  },
  {
   "cell_type": "markdown",
   "id": "014686e5",
   "metadata": {},
   "source": [
    "# (1.) Access the following elements in these array\n",
    "(a.) Access 67\n",
    "aa = np.array([[1,2,[89,67,47],3,4,5], [6,7,8,9,10]])"
   ]
  },
  {
   "cell_type": "code",
   "execution_count": 2,
   "id": "d566dc61",
   "metadata": {},
   "outputs": [],
   "source": [
    "# aa = np.array([[1,2,[89,67,47],3,4,5], [6,7,8,9,10]])\n",
    "# print(aa)"
   ]
  },
  {
   "cell_type": "markdown",
   "id": "9a1fe821",
   "metadata": {},
   "source": [
    "(b.) Access 84\n",
    "bc = np.array([[[1, 2, 3], [4, 5, 6]], [[7, 8, 9], [10,[12,55,84], 11, 12]]])\n",
    "c. Using negative indexing access 7\n",
    "rr = np.array([[1,2,3,4,5], [6,7,8,9,10]])\n"
   ]
  },
  {
   "cell_type": "code",
   "execution_count": 3,
   "id": "555f7661",
   "metadata": {},
   "outputs": [],
   "source": [
    "# bc = np.array([[[1, 2, 3], [4, 5, 6]], [[7, 8, 9], [10,[12,55,84], 11, 12]]])\n",
    "# print(bc)"
   ]
  },
  {
   "cell_type": "code",
   "execution_count": 4,
   "id": "9223506c",
   "metadata": {},
   "outputs": [
    {
     "name": "stdout",
     "output_type": "stream",
     "text": [
      "[[ 1  2  3  4  5]\n",
      " [ 6  7  8  9 10]]\n"
     ]
    }
   ],
   "source": [
    " rr = np.array([[1,2,3,4,5], [6,7,8,9,10]])\n",
    "print(rr)"
   ]
  },
  {
   "cell_type": "code",
   "execution_count": 5,
   "id": "dd9df009",
   "metadata": {},
   "outputs": [
    {
     "name": "stdout",
     "output_type": "stream",
     "text": [
      "7\n"
     ]
    }
   ],
   "source": [
    "print(rr[1, -4])"
   ]
  },
  {
   "cell_type": "markdown",
   "id": "ab54b7bf",
   "metadata": {},
   "source": [
    "# (2a) make a copy of this array, make a change of one of the element in the original array, make sure it doesn't affect the copied one\n",
    "uu = np.array([1, 2, 3, 4, 5])\n"
   ]
  },
  {
   "cell_type": "code",
   "execution_count": 6,
   "id": "c4b4bf41",
   "metadata": {},
   "outputs": [
    {
     "name": "stdout",
     "output_type": "stream",
     "text": [
      "[1 9 3 4 5]\n",
      "[1 2 3 4 5]\n"
     ]
    }
   ],
   "source": [
    "uu = np.array([1, 2, 3, 4, 5])\n",
    "jj = uu.copy()\n",
    "uu[1] = 9\n",
    "print(uu)\n",
    "print(jj)"
   ]
  },
  {
   "cell_type": "markdown",
   "id": "9ce4942a",
   "metadata": {},
   "source": [
    "# (2b.) make a copy of this array, make a change of one of the element in the original array, let the changes you make affect the copied one\n",
    "hh = np.array([55,47,58,66])"
   ]
  },
  {
   "cell_type": "code",
   "execution_count": 7,
   "id": "8f16f979",
   "metadata": {},
   "outputs": [
    {
     "name": "stdout",
     "output_type": "stream",
     "text": [
      "[55 47 90 66]\n",
      "[55 47 90 66]\n"
     ]
    }
   ],
   "source": [
    "hh = np.array([55,47,58,66])\n",
    "nw = hh.view()\n",
    "hh[2] = 90\n",
    "print(hh)\n",
    "print(nw)"
   ]
  },
  {
   "cell_type": "markdown",
   "id": "9d7f326e",
   "metadata": {},
   "source": [
    "# (3a.) Reshape this array into 2-D array\n",
    "ww = np.array([1, 2, 3, 4, 5, 6, 7, 8, 9, 10, 11, 12])\n"
   ]
  },
  {
   "cell_type": "code",
   "execution_count": 8,
   "id": "697f5ea8",
   "metadata": {},
   "outputs": [
    {
     "name": "stdout",
     "output_type": "stream",
     "text": [
      "[[ 1  2  3  4]\n",
      " [ 5  6  7  8]\n",
      " [ 9 10 11 12]]\n"
     ]
    }
   ],
   "source": [
    "ww = np.array([1, 2, 3, 4, 5, 6, 7, 8, 9, 10, 11, 12])\n",
    "ht = ww.reshape(3,4)\n",
    "print(ht)"
   ]
  },
  {
   "cell_type": "markdown",
   "id": "01564b40",
   "metadata": {},
   "source": [
    "# (3b.) Reshape From 1-D to 3-D\n",
    "jj = np.array([1, 2, 3, 4, 5, 6, 7, 8, 9, 10, 11, 12])"
   ]
  },
  {
   "cell_type": "code",
   "execution_count": 9,
   "id": "10355ff7",
   "metadata": {},
   "outputs": [
    {
     "name": "stdout",
     "output_type": "stream",
     "text": [
      "[[[ 1  2  3]\n",
      "  [ 4  5  6]]\n",
      "\n",
      " [[ 7  8  9]\n",
      "  [10 11 12]]]\n"
     ]
    }
   ],
   "source": [
    "jj = np.array([1, 2, 3, 4, 5, 6, 7, 8, 9, 10, 11, 12])\n",
    "kl = jj.reshape(2,2,3)\n",
    "print(kl)"
   ]
  },
  {
   "cell_type": "markdown",
   "id": "3961a830",
   "metadata": {},
   "source": [
    "# (4.) Flatten these arrays\n",
    "(a.) po = np.array([[1, 2, 3], [4, 5, 6]])\n",
    "(b.) lo = np.array([[[1, 2, 3], [4, 5, 6]], [[7, 8, 9], [10, 11, 12]]])\n"
   ]
  },
  {
   "cell_type": "code",
   "execution_count": 10,
   "id": "360ab953",
   "metadata": {},
   "outputs": [
    {
     "name": "stdout",
     "output_type": "stream",
     "text": [
      "[1 2 3 4 5 6]\n"
     ]
    }
   ],
   "source": [
    "po = np.array([[1, 2, 3], [4, 5, 6]])\n",
    "yes = po.reshape(-1)\n",
    "print(yes)"
   ]
  },
  {
   "cell_type": "code",
   "execution_count": 11,
   "id": "6f69e8a8",
   "metadata": {},
   "outputs": [
    {
     "name": "stdout",
     "output_type": "stream",
     "text": [
      "[ 1  2  3  4  5  6  7  8  9 10 11 12]\n"
     ]
    }
   ],
   "source": [
    "lo = np.array([[[1, 2, 3], [4, 5, 6]], [[7, 8, 9], [10, 11, 12]]])\n",
    "no = lo.reshape(-1)\n",
    "print(no)\n"
   ]
  },
  {
   "cell_type": "markdown",
   "id": "853ae962",
   "metadata": {},
   "source": [
    "# (5) Iterate on the elements of the following arrays\n",
    "a. ww = np.array([1, 2, 3, 4, 5, 6, 7, 8, 9, 10, 11, 12])\n",
    "b. po = np.array([[1, 2, 3], [4, 5, 6]])\n",
    "c. lo = np.array([[[1, 2, 3], [4, 5, 6]], [[7, 8, 9], [10, 11, 12]]])"
   ]
  },
  {
   "cell_type": "code",
   "execution_count": 12,
   "id": "ea1aff4d",
   "metadata": {},
   "outputs": [
    {
     "name": "stdout",
     "output_type": "stream",
     "text": [
      "1\n",
      "2\n",
      "3\n",
      "4\n",
      "5\n",
      "6\n",
      "7\n",
      "8\n",
      "9\n",
      "10\n",
      "11\n",
      "12\n"
     ]
    }
   ],
   "source": [
    "ww = np.array([1, 2, 3, 4, 5, 6, 7, 8, 9, 10, 11, 12])\n",
    "for y in ww:\n",
    "    print(y)\n"
   ]
  },
  {
   "cell_type": "code",
   "execution_count": 13,
   "id": "46236a89",
   "metadata": {},
   "outputs": [
    {
     "name": "stdout",
     "output_type": "stream",
     "text": [
      "[1 2 3]\n",
      "[4 5 6]\n"
     ]
    }
   ],
   "source": [
    "po = np.array([[1, 2, 3], [4, 5, 6]])\n",
    "for x in po:\n",
    "    print(x)"
   ]
  },
  {
   "cell_type": "code",
   "execution_count": 14,
   "id": "f82b9681",
   "metadata": {},
   "outputs": [
    {
     "name": "stdout",
     "output_type": "stream",
     "text": [
      "[[1 2 3]\n",
      " [4 5 6]]\n",
      "[[ 7  8  9]\n",
      " [10 11 12]]\n"
     ]
    }
   ],
   "source": [
    "lo = np.array([[[1, 2, 3], [4, 5, 6]], [[7, 8, 9], [10, 11, 12]]])\n",
    "for z in lo:\n",
    "    print(z)"
   ]
  },
  {
   "cell_type": "markdown",
   "id": "9f578742",
   "metadata": {},
   "source": [
    "# (6a.) Join these arrays\n",
    "arr1 = np.array([1, 2, 3])\n",
    "arr2 = np.array([4, 5, 6])\n"
   ]
  },
  {
   "cell_type": "code",
   "execution_count": 15,
   "id": "95955c48",
   "metadata": {},
   "outputs": [
    {
     "name": "stdout",
     "output_type": "stream",
     "text": [
      "[1 2 3 4 5 6]\n"
     ]
    }
   ],
   "source": [
    "arr1 = np.array([1, 2, 3])\n",
    "arr2 = np.array([4, 5, 6])\n",
    "pp = np.concatenate((arr1, arr2))\n",
    "print(pp)\n"
   ]
  },
  {
   "cell_type": "markdown",
   "id": "b1c32043",
   "metadata": {},
   "source": [
    "# (6b.) Split this array into 4 part\n",
    "jj = np.array([1, 2, 3, 4, 5, 6, 7, 8, 9, 10, 11, 12])\n"
   ]
  },
  {
   "cell_type": "code",
   "execution_count": 16,
   "id": "1ab8e23f",
   "metadata": {},
   "outputs": [
    {
     "name": "stdout",
     "output_type": "stream",
     "text": [
      "[array([1, 2, 3]), array([4, 5, 6]), array([7, 8, 9]), array([10, 11, 12])]\n"
     ]
    }
   ],
   "source": [
    "jj = np.array([1, 2, 3, 4, 5, 6, 7, 8, 9, 10, 11, 12])\n",
    "ter = np.array_split(jj,4)\n",
    "print(ter)"
   ]
  },
  {
   "cell_type": "markdown",
   "id": "ef6bb14c",
   "metadata": {},
   "source": [
    "# (7) Search through these arrays\n",
    "a. find the index where the value is 10\n",
    "rp = np.array([1, 2, 3, 4, 5, 6, 7, 8, 9, 10, 11, 12])\n"
   ]
  },
  {
   "cell_type": "code",
   "execution_count": 17,
   "id": "13fdc979",
   "metadata": {},
   "outputs": [
    {
     "name": "stdout",
     "output_type": "stream",
     "text": [
      "(array([9], dtype=int64),)\n"
     ]
    }
   ],
   "source": [
    "rp = np.array([1, 2, 3, 4, 5, 6, 7, 8, 9, 10, 11, 12])\n",
    "z = np.where(rp == 10)\n",
    "print(z)"
   ]
  },
  {
   "cell_type": "markdown",
   "id": "574d22db",
   "metadata": {},
   "source": [
    "b. find the index where the value is 5\n",
    "up = np.array([1, 2, 3, 4, 5, 6, 7, 8, 9, 10, 11, 12])\n"
   ]
  },
  {
   "cell_type": "code",
   "execution_count": 18,
   "id": "a9216fca",
   "metadata": {},
   "outputs": [
    {
     "name": "stdout",
     "output_type": "stream",
     "text": [
      "(array([4], dtype=int64),)\n"
     ]
    }
   ],
   "source": [
    "up = np.array([1, 2, 3, 4, 5, 6, 7, 8, 9, 10, 11, 12])\n",
    "off = np.where(up == 5)\n",
    "print(off)"
   ]
  },
  {
   "cell_type": "markdown",
   "id": "db99c02d",
   "metadata": {},
   "source": [
    "# (8.) Create a new array from the elements in this 1-D array with (41,44)\n",
    "yt = np.array([41, 42, 43, 44])"
   ]
  },
  {
   "cell_type": "code",
   "execution_count": 20,
   "id": "6c2a269d",
   "metadata": {},
   "outputs": [
    {
     "name": "stdout",
     "output_type": "stream",
     "text": [
      "[True, False, False, True]\n",
      "[41 44]\n"
     ]
    }
   ],
   "source": [
    "yt = np.array([41, 42, 43, 44])\n",
    "new = []\n",
    "for element in yt:\n",
    "    if element < 42:\n",
    "        new.append(True)\n",
    "    elif element > 43:\n",
    "        new.append(True)\n",
    "    else:\n",
    "        new.append(False)\n",
    "        \n",
    "new_element = yt[new]\n",
    "print(new)\n",
    "print(new_element)"
   ]
  }
 ],
 "metadata": {
  "kernelspec": {
   "display_name": "Python 3 (ipykernel)",
   "language": "python",
   "name": "python3"
  },
  "language_info": {
   "codemirror_mode": {
    "name": "ipython",
    "version": 3
   },
   "file_extension": ".py",
   "mimetype": "text/x-python",
   "name": "python",
   "nbconvert_exporter": "python",
   "pygments_lexer": "ipython3",
   "version": "3.11.5"
  }
 },
 "nbformat": 4,
 "nbformat_minor": 5
}
