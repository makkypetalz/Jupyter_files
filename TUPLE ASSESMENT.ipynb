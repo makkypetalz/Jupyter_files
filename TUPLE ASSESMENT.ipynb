{
 "cells": [
  {
   "cell_type": "markdown",
   "id": "fe302991",
   "metadata": {},
   "source": [
    "# OKAFOR CHIAMAKA"
   ]
  },
  {
   "cell_type": "markdown",
   "id": "6923f43d",
   "metadata": {},
   "source": [
    "# using for loop"
   ]
  },
  {
   "cell_type": "code",
   "execution_count": 1,
   "id": "a1f60cf6",
   "metadata": {},
   "outputs": [],
   "source": [
    "thistuple = (45, 67, 54, 32, 12)"
   ]
  },
  {
   "cell_type": "code",
   "execution_count": 2,
   "id": "10e6fc07",
   "metadata": {},
   "outputs": [
    {
     "name": "stdout",
     "output_type": "stream",
     "text": [
      "(45, 67, 54, 32, 12)\n"
     ]
    }
   ],
   "source": [
    "print(thistuple)"
   ]
  },
  {
   "cell_type": "code",
   "execution_count": 3,
   "id": "7ce936d4",
   "metadata": {},
   "outputs": [
    {
     "name": "stdout",
     "output_type": "stream",
     "text": [
      "45\n",
      "67\n",
      "54\n",
      "32\n",
      "12\n"
     ]
    }
   ],
   "source": [
    "for i in thistuple:\n",
    "    print(i)"
   ]
  },
  {
   "cell_type": "markdown",
   "id": "0b2fd45b",
   "metadata": {},
   "source": [
    "# using while loop"
   ]
  },
  {
   "cell_type": "code",
   "execution_count": 4,
   "id": "33726a19",
   "metadata": {},
   "outputs": [],
   "source": [
    "mytuple = (\"apple\", \"cherry\", \"potato\", \"orange\")"
   ]
  },
  {
   "cell_type": "code",
   "execution_count": 5,
   "id": "d6884049",
   "metadata": {},
   "outputs": [
    {
     "name": "stdout",
     "output_type": "stream",
     "text": [
      "('apple', 'cherry', 'potato', 'orange')\n"
     ]
    }
   ],
   "source": [
    "print(mytuple)"
   ]
  },
  {
   "cell_type": "code",
   "execution_count": 6,
   "id": "2386327e",
   "metadata": {},
   "outputs": [
    {
     "name": "stdout",
     "output_type": "stream",
     "text": [
      "4\n"
     ]
    }
   ],
   "source": [
    "print(len(mytuple))"
   ]
  },
  {
   "cell_type": "code",
   "execution_count": 7,
   "id": "ad0163b6",
   "metadata": {},
   "outputs": [],
   "source": [
    "n = 0"
   ]
  },
  {
   "cell_type": "code",
   "execution_count": 8,
   "id": "ceabb282",
   "metadata": {},
   "outputs": [
    {
     "name": "stdout",
     "output_type": "stream",
     "text": [
      "apple\n",
      "cherry\n",
      "potato\n",
      "orange\n"
     ]
    }
   ],
   "source": [
    "while n<len(mytuple):\n",
    "    print(mytuple[n])\n",
    "    n+=1"
   ]
  },
  {
   "cell_type": "markdown",
   "id": "60fc8be6",
   "metadata": {},
   "source": [
    "# join list"
   ]
  },
  {
   "cell_type": "code",
   "execution_count": 9,
   "id": "1f1b74a2",
   "metadata": {},
   "outputs": [],
   "source": [
    "a = (1,2,3,4,5)"
   ]
  },
  {
   "cell_type": "code",
   "execution_count": 10,
   "id": "c9bbb68a",
   "metadata": {},
   "outputs": [],
   "source": [
    "b = (\"a\",\"b\",\"c\",\"d\",\"e\")"
   ]
  },
  {
   "cell_type": "code",
   "execution_count": 11,
   "id": "8d997065",
   "metadata": {},
   "outputs": [],
   "source": [
    "c = a+b"
   ]
  },
  {
   "cell_type": "code",
   "execution_count": 12,
   "id": "170cfe43",
   "metadata": {},
   "outputs": [
    {
     "name": "stdout",
     "output_type": "stream",
     "text": [
      "(1, 2, 3, 4, 5, 'a', 'b', 'c', 'd', 'e')\n"
     ]
    }
   ],
   "source": [
    "print(c)"
   ]
  },
  {
   "cell_type": "markdown",
   "id": "95483e85",
   "metadata": {},
   "source": [
    "# tuple with single value"
   ]
  },
  {
   "cell_type": "code",
   "execution_count": 13,
   "id": "2b4117d4",
   "metadata": {},
   "outputs": [],
   "source": [
    "ktuple = (\"orange\",)"
   ]
  },
  {
   "cell_type": "code",
   "execution_count": 14,
   "id": "9e6b374a",
   "metadata": {},
   "outputs": [
    {
     "name": "stdout",
     "output_type": "stream",
     "text": [
      "('orange',)\n"
     ]
    }
   ],
   "source": [
    "print(ktuple)"
   ]
  },
  {
   "cell_type": "markdown",
   "id": "5883ca34",
   "metadata": {},
   "source": [
    "# check if item is in the tuple"
   ]
  },
  {
   "cell_type": "code",
   "execution_count": 15,
   "id": "0871cf93",
   "metadata": {},
   "outputs": [],
   "source": [
    "vtuple = (\"apple\", \"cherry\", \"potato\", \"orange\")"
   ]
  },
  {
   "cell_type": "code",
   "execution_count": 16,
   "id": "9f1f35d2",
   "metadata": {},
   "outputs": [
    {
     "name": "stdout",
     "output_type": "stream",
     "text": [
      "('apple', 'cherry', 'potato', 'orange')\n"
     ]
    }
   ],
   "source": [
    "print(vtuple)"
   ]
  },
  {
   "cell_type": "code",
   "execution_count": 17,
   "id": "6900b1d8",
   "metadata": {},
   "outputs": [
    {
     "name": "stdout",
     "output_type": "stream",
     "text": [
      "True\n"
     ]
    }
   ],
   "source": [
    "print(\"potato\" in vtuple)"
   ]
  },
  {
   "cell_type": "markdown",
   "id": "f5099656",
   "metadata": {},
   "source": [
    "# unpack the tuple"
   ]
  },
  {
   "cell_type": "code",
   "execution_count": 18,
   "id": "28c37a86",
   "metadata": {},
   "outputs": [],
   "source": [
    "ltuple = (89,90.5,67)"
   ]
  },
  {
   "cell_type": "code",
   "execution_count": 19,
   "id": "dcf2fde2",
   "metadata": {},
   "outputs": [
    {
     "name": "stdout",
     "output_type": "stream",
     "text": [
      "(89, 90.5, 67)\n"
     ]
    }
   ],
   "source": [
    "print(ltuple)"
   ]
  },
  {
   "cell_type": "code",
   "execution_count": 20,
   "id": "b657fcf2",
   "metadata": {},
   "outputs": [],
   "source": [
    "a,b,c = ltuple"
   ]
  },
  {
   "cell_type": "code",
   "execution_count": 21,
   "id": "092b1046",
   "metadata": {},
   "outputs": [
    {
     "name": "stdout",
     "output_type": "stream",
     "text": [
      "89\n",
      "90.5\n",
      "67\n"
     ]
    }
   ],
   "source": [
    "print(a)\n",
    "print(b)\n",
    "print(c)"
   ]
  },
  {
   "cell_type": "code",
   "execution_count": 22,
   "id": "2d650f9b",
   "metadata": {},
   "outputs": [],
   "source": [
    "ptuple = (45,67,54,32,12)"
   ]
  },
  {
   "cell_type": "code",
   "execution_count": 23,
   "id": "8bcfd38e",
   "metadata": {},
   "outputs": [
    {
     "name": "stdout",
     "output_type": "stream",
     "text": [
      "(45, 67, 54, 32, 12)\n"
     ]
    }
   ],
   "source": [
    "print(ptuple)"
   ]
  },
  {
   "cell_type": "code",
   "execution_count": 24,
   "id": "0c61daca",
   "metadata": {},
   "outputs": [],
   "source": [
    "a,b,c,*d = ptuple"
   ]
  },
  {
   "cell_type": "code",
   "execution_count": 25,
   "id": "5b9c1ad4",
   "metadata": {},
   "outputs": [
    {
     "name": "stdout",
     "output_type": "stream",
     "text": [
      "45\n",
      "67\n",
      "54\n",
      "[32, 12]\n"
     ]
    }
   ],
   "source": [
    "print(a)\n",
    "print(b)\n",
    "print(c)\n",
    "print(d)"
   ]
  },
  {
   "cell_type": "markdown",
   "id": "20f3d4ab",
   "metadata": {},
   "source": [
    "# modify tuple"
   ]
  },
  {
   "cell_type": "markdown",
   "id": "5d80a11b",
   "metadata": {},
   "source": [
    "# REPLACE \"CHERRY\" WITH \"BANANA\""
   ]
  },
  {
   "cell_type": "code",
   "execution_count": 27,
   "id": "8d0679e9",
   "metadata": {},
   "outputs": [],
   "source": [
    "dtuple = (\"apple\",\"cherry\",\"potato\",\"orange\")"
   ]
  },
  {
   "cell_type": "code",
   "execution_count": 28,
   "id": "cb3f4bfd",
   "metadata": {},
   "outputs": [
    {
     "name": "stdout",
     "output_type": "stream",
     "text": [
      "('apple', 'cherry', 'potato', 'orange')\n"
     ]
    }
   ],
   "source": [
    "print(dtuple)"
   ]
  },
  {
   "cell_type": "code",
   "execution_count": 29,
   "id": "3b6b3740",
   "metadata": {},
   "outputs": [],
   "source": [
    "kklist = list(dtuple)"
   ]
  },
  {
   "cell_type": "code",
   "execution_count": 30,
   "id": "d56fafa1",
   "metadata": {},
   "outputs": [
    {
     "name": "stdout",
     "output_type": "stream",
     "text": [
      "['apple', 'cherry', 'potato', 'orange']\n"
     ]
    }
   ],
   "source": [
    "print(kklist)"
   ]
  },
  {
   "cell_type": "code",
   "execution_count": 31,
   "id": "a53b265f",
   "metadata": {},
   "outputs": [],
   "source": [
    "kklist[1] = \"banana\""
   ]
  },
  {
   "cell_type": "code",
   "execution_count": 32,
   "id": "eddc79c1",
   "metadata": {},
   "outputs": [
    {
     "name": "stdout",
     "output_type": "stream",
     "text": [
      "['apple', 'banana', 'potato', 'orange']\n"
     ]
    }
   ],
   "source": [
    "print(kklist)"
   ]
  },
  {
   "cell_type": "markdown",
   "id": "4671261e",
   "metadata": {},
   "source": [
    "# ADD TWO NEW ITEMS"
   ]
  },
  {
   "cell_type": "code",
   "execution_count": 34,
   "id": "db392715",
   "metadata": {},
   "outputs": [],
   "source": [
    "a = [\"citrus\", \"guava\"]"
   ]
  },
  {
   "cell_type": "code",
   "execution_count": 35,
   "id": "6c0b3542",
   "metadata": {},
   "outputs": [
    {
     "name": "stdout",
     "output_type": "stream",
     "text": [
      "['citrus', 'guava']\n"
     ]
    }
   ],
   "source": [
    "print(a)"
   ]
  },
  {
   "cell_type": "code",
   "execution_count": 36,
   "id": "3e0af41b",
   "metadata": {},
   "outputs": [],
   "source": [
    "newlist = kklist + a"
   ]
  },
  {
   "cell_type": "code",
   "execution_count": 37,
   "id": "6518d6f0",
   "metadata": {},
   "outputs": [
    {
     "name": "stdout",
     "output_type": "stream",
     "text": [
      "['apple', 'banana', 'potato', 'orange', 'citrus', 'guava']\n"
     ]
    }
   ],
   "source": [
    "print(newlist)"
   ]
  },
  {
   "cell_type": "markdown",
   "id": "ab4314c5",
   "metadata": {},
   "source": [
    "# ADD TWO NEW ITEMS AT THE INDEX"
   ]
  },
  {
   "cell_type": "code",
   "execution_count": 41,
   "id": "5fb8f10c",
   "metadata": {},
   "outputs": [],
   "source": [
    "newlist[3:4] = [\"strawberry\", \"grape\"]"
   ]
  },
  {
   "cell_type": "code",
   "execution_count": 43,
   "id": "c0039481",
   "metadata": {},
   "outputs": [
    {
     "name": "stdout",
     "output_type": "stream",
     "text": [
      "['apple', 'banana', 'potato', 'strawberry', 'grape', 'citrus', 'guava', 'strawberry']\n"
     ]
    }
   ],
   "source": [
    "print(newlist)"
   ]
  },
  {
   "cell_type": "markdown",
   "id": "bbc1b8f9",
   "metadata": {},
   "source": [
    "# REMOVE THE ITEM AT INDEX 4"
   ]
  },
  {
   "cell_type": "code",
   "execution_count": 45,
   "id": "ab4ca399",
   "metadata": {},
   "outputs": [
    {
     "data": {
      "text/plain": [
       "'grape'"
      ]
     },
     "execution_count": 45,
     "metadata": {},
     "output_type": "execute_result"
    }
   ],
   "source": [
    "newlist.pop(4)"
   ]
  },
  {
   "cell_type": "code",
   "execution_count": 47,
   "id": "57e89de8",
   "metadata": {},
   "outputs": [
    {
     "name": "stdout",
     "output_type": "stream",
     "text": [
      "['apple', 'banana', 'potato', 'strawberry', 'citrus', 'guava', 'strawberry']\n"
     ]
    }
   ],
   "source": [
    "print(newlist)"
   ]
  },
  {
   "cell_type": "code",
   "execution_count": 48,
   "id": "3af70915",
   "metadata": {},
   "outputs": [],
   "source": [
    "final = tuple(newlist)"
   ]
  },
  {
   "cell_type": "code",
   "execution_count": 49,
   "id": "c593c99d",
   "metadata": {},
   "outputs": [
    {
     "name": "stdout",
     "output_type": "stream",
     "text": [
      "('apple', 'banana', 'potato', 'strawberry', 'citrus', 'guava', 'strawberry')\n"
     ]
    }
   ],
   "source": [
    "print(final)"
   ]
  }
 ],
 "metadata": {
  "kernelspec": {
   "display_name": "Python 3 (ipykernel)",
   "language": "python",
   "name": "python3"
  },
  "language_info": {
   "codemirror_mode": {
    "name": "ipython",
    "version": 3
   },
   "file_extension": ".py",
   "mimetype": "text/x-python",
   "name": "python",
   "nbconvert_exporter": "python",
   "pygments_lexer": "ipython3",
   "version": "3.11.5"
  }
 },
 "nbformat": 4,
 "nbformat_minor": 5
}
